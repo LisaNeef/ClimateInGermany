{
 "cells": [
  {
   "cell_type": "markdown",
   "metadata": {},
   "source": [
    "# \"Frueher War Alles Besser\": Schneefall in Deutschland in Zeiten des Klimawandels\n",
    "\n",
    "[fill in introductory text here]"
   ]
  },
  {
   "cell_type": "code",
   "execution_count": 18,
   "metadata": {
    "collapsed": false
   },
   "outputs": [],
   "source": [
    "# load needed libraries and packages  \n",
    "import numpy as np\n",
    "import matplotlib.pyplot as plt  \n",
    "import pandas as pd \n",
    "import seaborn as sns\n",
    "import datetime as datetime\n",
    "%matplotlib inline  \n",
    "#import bokeh as bokeh\n",
    "from bokeh.charts import TimeSeries, gridplot\n",
    "from bokeh.plotting import figure,show,output_file,save\n",
    "from bokeh.io import output_notebook  \n",
    "from bokeh.models import Range1d"
   ]
  },
  {
   "cell_type": "code",
   "execution_count": 15,
   "metadata": {
    "collapsed": false
   },
   "outputs": [
    {
     "data": {
      "text/plain": [
       "'0.18.1'"
      ]
     },
     "execution_count": 15,
     "metadata": {},
     "output_type": "execute_result"
    }
   ],
   "source": [
    "pd.__version__"
   ]
  },
  {
   "cell_type": "code",
   "execution_count": 2,
   "metadata": {
    "collapsed": false
   },
   "outputs": [
    {
     "data": {
      "text/html": [
       "\n",
       "    <div class=\"bk-root\">\n",
       "        <a href=\"http://bokeh.pydata.org\" target=\"_blank\" class=\"bk-logo bk-logo-small bk-logo-notebook\"></a>\n",
       "        <span id=\"acd4c426-fdab-4fbd-a794-531c28fefa0f\">Loading BokehJS ...</span>\n",
       "    </div>"
      ]
     },
     "metadata": {},
     "output_type": "display_data"
    },
    {
     "data": {
      "application/javascript": [
       "\n",
       "(function(global) {\n",
       "  function now() {\n",
       "    return new Date();\n",
       "  }\n",
       "\n",
       "  var force = \"1\";\n",
       "\n",
       "  if (typeof (window._bokeh_onload_callbacks) === \"undefined\" || force !== \"\") {\n",
       "    window._bokeh_onload_callbacks = [];\n",
       "    window._bokeh_is_loading = undefined;\n",
       "  }\n",
       "\n",
       "\n",
       "  \n",
       "  if (typeof (window._bokeh_timeout) === \"undefined\" || force !== \"\") {\n",
       "    window._bokeh_timeout = Date.now() + 5000;\n",
       "    window._bokeh_failed_load = false;\n",
       "  }\n",
       "\n",
       "  var NB_LOAD_WARNING = {'data': {'text/html':\n",
       "     \"<div style='background-color: #fdd'>\\n\"+\n",
       "     \"<p>\\n\"+\n",
       "     \"BokehJS does not appear to have successfully loaded. If loading BokehJS from CDN, this \\n\"+\n",
       "     \"may be due to a slow or bad network connection. Possible fixes:\\n\"+\n",
       "     \"</p>\\n\"+\n",
       "     \"<ul>\\n\"+\n",
       "     \"<li>re-rerun `output_notebook()` to attempt to load from CDN again, or</li>\\n\"+\n",
       "     \"<li>use INLINE resources instead, as so:</li>\\n\"+\n",
       "     \"</ul>\\n\"+\n",
       "     \"<code>\\n\"+\n",
       "     \"from bokeh.resources import INLINE\\n\"+\n",
       "     \"output_notebook(resources=INLINE)\\n\"+\n",
       "     \"</code>\\n\"+\n",
       "     \"</div>\"}};\n",
       "\n",
       "  function display_loaded() {\n",
       "    if (window.Bokeh !== undefined) {\n",
       "      Bokeh.$(\"#acd4c426-fdab-4fbd-a794-531c28fefa0f\").text(\"BokehJS successfully loaded.\");\n",
       "    } else if (Date.now() < window._bokeh_timeout) {\n",
       "      setTimeout(display_loaded, 100)\n",
       "    }\n",
       "  }\n",
       "\n",
       "  function run_callbacks() {\n",
       "    window._bokeh_onload_callbacks.forEach(function(callback) { callback() });\n",
       "    delete window._bokeh_onload_callbacks\n",
       "    console.info(\"Bokeh: all callbacks have finished\");\n",
       "  }\n",
       "\n",
       "  function load_libs(js_urls, callback) {\n",
       "    window._bokeh_onload_callbacks.push(callback);\n",
       "    if (window._bokeh_is_loading > 0) {\n",
       "      console.log(\"Bokeh: BokehJS is being loaded, scheduling callback at\", now());\n",
       "      return null;\n",
       "    }\n",
       "    if (js_urls == null || js_urls.length === 0) {\n",
       "      run_callbacks();\n",
       "      return null;\n",
       "    }\n",
       "    console.log(\"Bokeh: BokehJS not loaded, scheduling load and callback at\", now());\n",
       "    window._bokeh_is_loading = js_urls.length;\n",
       "    for (var i = 0; i < js_urls.length; i++) {\n",
       "      var url = js_urls[i];\n",
       "      var s = document.createElement('script');\n",
       "      s.src = url;\n",
       "      s.async = false;\n",
       "      s.onreadystatechange = s.onload = function() {\n",
       "        window._bokeh_is_loading--;\n",
       "        if (window._bokeh_is_loading === 0) {\n",
       "          console.log(\"Bokeh: all BokehJS libraries loaded\");\n",
       "          run_callbacks()\n",
       "        }\n",
       "      };\n",
       "      s.onerror = function() {\n",
       "        console.warn(\"failed to load library \" + url);\n",
       "      };\n",
       "      console.log(\"Bokeh: injecting script tag for BokehJS library: \", url);\n",
       "      document.getElementsByTagName(\"head\")[0].appendChild(s);\n",
       "    }\n",
       "  };var element = document.getElementById(\"acd4c426-fdab-4fbd-a794-531c28fefa0f\");\n",
       "  if (element == null) {\n",
       "    console.log(\"Bokeh: ERROR: autoload.js configured with elementid 'acd4c426-fdab-4fbd-a794-531c28fefa0f' but no matching script tag was found. \")\n",
       "    return false;\n",
       "  }\n",
       "\n",
       "  var js_urls = ['https://cdn.pydata.org/bokeh/release/bokeh-0.12.2.min.js', 'https://cdn.pydata.org/bokeh/release/bokeh-widgets-0.12.2.min.js', 'https://cdn.pydata.org/bokeh/release/bokeh-compiler-0.12.2.min.js'];\n",
       "\n",
       "  var inline_js = [\n",
       "    function(Bokeh) {\n",
       "      Bokeh.set_log_level(\"info\");\n",
       "    },\n",
       "    \n",
       "    function(Bokeh) {\n",
       "      \n",
       "      Bokeh.$(\"#acd4c426-fdab-4fbd-a794-531c28fefa0f\").text(\"BokehJS is loading...\");\n",
       "    },\n",
       "    function(Bokeh) {\n",
       "      console.log(\"Bokeh: injecting CSS: https://cdn.pydata.org/bokeh/release/bokeh-0.12.2.min.css\");\n",
       "      Bokeh.embed.inject_css(\"https://cdn.pydata.org/bokeh/release/bokeh-0.12.2.min.css\");\n",
       "      console.log(\"Bokeh: injecting CSS: https://cdn.pydata.org/bokeh/release/bokeh-widgets-0.12.2.min.css\");\n",
       "      Bokeh.embed.inject_css(\"https://cdn.pydata.org/bokeh/release/bokeh-widgets-0.12.2.min.css\");\n",
       "    }\n",
       "  ];\n",
       "\n",
       "  function run_inline_js() {\n",
       "    \n",
       "    if ((window.Bokeh !== undefined) || (force === \"1\")) {\n",
       "      for (var i = 0; i < inline_js.length; i++) {\n",
       "        inline_js[i](window.Bokeh);\n",
       "      }if (force === \"1\") {\n",
       "        display_loaded();\n",
       "      }} else if (Date.now() < window._bokeh_timeout) {\n",
       "      setTimeout(run_inline_js, 100);\n",
       "    } else if (!window._bokeh_failed_load) {\n",
       "      console.log(\"Bokeh: BokehJS failed to load within specified timeout.\");\n",
       "      window._bokeh_failed_load = true;\n",
       "    } else if (!force) {\n",
       "      var cell = $(\"#acd4c426-fdab-4fbd-a794-531c28fefa0f\").parents('.cell').data().cell;\n",
       "      cell.output_area.append_execute_result(NB_LOAD_WARNING)\n",
       "    }\n",
       "\n",
       "  }\n",
       "\n",
       "  if (window._bokeh_is_loading === 0) {\n",
       "    console.log(\"Bokeh: BokehJS loaded, going straight to plotting\");\n",
       "    run_inline_js();\n",
       "  } else {\n",
       "    load_libs(js_urls, function() {\n",
       "      console.log(\"Bokeh: BokehJS plotting callback run at\", now());\n",
       "      run_inline_js();\n",
       "    });\n",
       "  }\n",
       "}(this));"
      ]
     },
     "metadata": {},
     "output_type": "display_data"
    }
   ],
   "source": [
    "output_notebook()"
   ]
  },
  {
   "cell_type": "markdown",
   "metadata": {},
   "source": [
    "# Stationsdaten  \n",
    "\n",
    "Zuerst muessen wir herausfinden, wo die Wetterstationen stehen und wie lange es ueberhaupt Daten gibt. "
   ]
  },
  {
   "cell_type": "code",
   "execution_count": 3,
   "metadata": {
    "collapsed": false
   },
   "outputs": [],
   "source": [
    "# create a function that reads in the list of stations and returns a dataframe \n",
    "def read_station_metadata():\n",
    "\n",
    "    # path to data  \n",
    "    datadir='/home/lneef/Data/DataScienceStories/historical/'\n",
    "    fstations='KL_Tageswerte_Beschreibung_Stationen.txt'\n",
    "\n",
    "    # read in the station metadata as a pandas dataframe \n",
    "    colnames=['Stations_id','von_datum','bis_datum','Stationshoehe','geoBreite','geoLaenge','Stationsname','Bundesland']\n",
    "    #dtypes = ['int64','str','str','float','float','float','str','str']\n",
    "    stations = pd.read_csv(datadir+fstations,header=None,skiprows=2,sep='\\s+', encoding='latin1',names=colnames,\n",
    "                           dtype={'von_datum':'str','bis_datum':'str'})\n",
    "\n",
    "    # Bundesland is a categorical variable. Everything else is either unique or continuous. \n",
    "    stations[\"Bundesland\"] = stations[\"Bundesland\"].astype('category')\n",
    "    \n",
    "    return(stations)"
   ]
  },
  {
   "cell_type": "code",
   "execution_count": 4,
   "metadata": {
    "collapsed": false
   },
   "outputs": [
    {
     "name": "stdout",
     "output_type": "stream",
     "text": [
      "  Stations_id von_datum bis_datum  Stationshoehe  geoBreite  geoLaenge  \\\n",
      "0           1  19370101  19860630          478.0    47.8413     8.8493   \n",
      "1           3  18910101  20110331          202.0    50.7827     6.0941   \n",
      "2          44  19710301  20160224           44.0    52.9335     8.2370   \n",
      "3          52  19730101  20011231           46.0    53.6623    10.1990   \n",
      "4          61  19750701  19780831          339.0    48.8443    12.6171   \n",
      "\n",
      "           Stationsname           Bundesland  \n",
      "0                  Aach    Baden-Württemberg  \n",
      "1                Aachen  Nordrhein-Westfalen  \n",
      "2          Großenkneten        Niedersachsen  \n",
      "3  Ahrensburg-Wulfsdorf   Schleswig-Holstein  \n",
      "4            Aiterhofen               Bayern  \n"
     ]
    },
    {
     "data": {
      "text/plain": [
       "Bayern                    224\n",
       "Baden-Württemberg         165\n",
       "Niedersachsen             111\n",
       "Nordrhein-Westfalen        87\n",
       "Hessen                     84\n",
       "Schleswig-Holstein         65\n",
       "Thüringen                  55\n",
       "Rheinland-Pfalz            55\n",
       "Sachsen-Anhalt             53\n",
       "Sachsen                    52\n",
       "Brandenburg                42\n",
       "Mecklenburg-Vorpommern     40\n",
       "Berlin                     21\n",
       "Saarland                   16\n",
       "Hamburg                    12\n",
       "Bremen                      4\n",
       "Name: Bundesland, dtype: int64"
      ]
     },
     "execution_count": 4,
     "metadata": {},
     "output_type": "execute_result"
    }
   ],
   "source": [
    "# now we can query all kinds of things. Like how many stationss are there for each bundesland?\n",
    "S = read_station_metadata()\n",
    "print(S.head(5))\n",
    "S['Bundesland'].value_counts()\n"
   ]
  },
  {
   "cell_type": "code",
   "execution_count": 169,
   "metadata": {
    "collapsed": false
   },
   "outputs": [
    {
     "name": "stdout",
     "output_type": "stream",
     "text": [
      "['Alsfeld-Eifa', 'Alsfeld-Reibertenrod', 'Arolsen-Neu-Berich', 'Aßlar-Klein-Altenstädten', 'Beerfelden', 'Bensheim', 'Biedenkopf-Wallau', 'Brombachtal-Kirch-Brombach', 'Büdingen', 'Burgwald-Bottendorf', 'Darmstadt', 'Darmstadt(A)', 'Darmstadt-Botanischer-Garten', 'Dillenburg', 'Eschwege', 'Frankfurt/Main', 'Frankfurt/Main(Stadt)', 'Frankfurt/Main-Westend', 'Frankfurt/Main(Feldbergstr.)', 'Fritzlar(Flugplatz)', 'Fulda', 'Geisenheim', 'Gelnhausen', 'Gernsheim', 'Gießen(Lahntal)', 'Gießen/Wettenberg', 'Gilserberg-Moischeid', 'Grebenhain-Herchenhain', 'Gründau-Breitenborn', 'Hanau', 'Heidenrod-Mappershain', 'Herleshausen', 'Hersfeld,BAd', 'Hofgeismar-Beberbeck', 'Homberg/Ohm', 'Kassel', 'Kassel-Harleshausen', 'Kleiner-Feldberg/Taunus', 'Korbach-Lengefeld', 'Langen(BTZ)', 'Limburg/Lahn-Offheim', 'Lindenfels-Winterkasten', 'Löhnberg-Obershausen', 'Lorch/Rhein', 'Cölbe,KR.Marburg-Biedenkopf', 'Michelstadt', 'Michelstadt-Vielbrunn', 'Mittel-Gründau', 'Modautal-Neunkirchen', 'Nauheim,BAd', 'Neukirchen-Hauptschwenda', 'Nidderau-Windecken', 'Oberweser-Gieselwerder', 'Offenbach/M.(Stadt)', 'Röhrigshof-bei-Schlüchtern', 'Schaafheim-Schlierbach', 'Schenklengsfeld', 'Schlüchtern-Kloster-Gomfritz', 'Schlüchtern-Herolz', 'Schotten', 'Schwalbach,BAd', 'Steinau-Seidenroth', 'Sontra', 'Sooden-Allendorf,BAd', 'Tann/Rhön', 'Twistetal-Mühlhausen', 'Wahlen', 'Wahlsburg-Lippoldsberg', 'Waldeck', 'Waldems-Reinborn', 'Wartenberg-Angersbach', 'Wasserkuppe', 'Weilburg(Kläranlage)', 'Wiesbaden-Auringen', 'Wiesbaden-Dotzheim', 'Wildungen,BAd', 'Willingen/Upland', 'Witzenhausen', 'Melsungen-Bürstoß', 'Runkel-Ennerich', 'Offenbach-Wetterpark', 'Hoherodskopf/Vogelsberg', 'Neu-Ulrichstein', 'Schauenburg-Elgershausen']\n"
     ]
    }
   ],
   "source": [
    "all_stations = list(S['Stationsname'].values)\n",
    "len(all_stations)\n",
    "\n",
    "test=S.query('Bundesland==\"Hessen\"')\n",
    "hessen_stations = list(test['Stationsname'].values)\n"
   ]
  },
  {
   "cell_type": "markdown",
   "metadata": {},
   "source": [
    "#  Aggregierung der Klimadaten"
   ]
  },
  {
   "cell_type": "code",
   "execution_count": 5,
   "metadata": {
    "collapsed": false
   },
   "outputs": [],
   "source": [
    "# define a function that, given a station name and a list of meteorolgical variables, \n",
    "# returns relevant data  \n",
    "def station_data_to_dataframe(station_name,variable_list=None,debug=False):\n",
    "    \n",
    "    # find the station number corresponding to the station name   \n",
    "    S = read_station_metadata()\n",
    "    sid = S[S['Stationsname']==station_name]['Stations_id'].values[0].zfill(5)\n",
    "    if debug:\n",
    "        print(sid)\n",
    "    \n",
    "    # find the start and end dates of the data available for that station\n",
    "    datestr0 = S[S['Stationsname']==station_name]['von_datum'].values[0]\n",
    "    datestrf = S[S['Stationsname']==station_name]['bis_datum'].values[0]\n",
    "    \n",
    "    # here a complication is that we only have data up to 31 Dec 2015, \n",
    "    # even though the station summary has a bis_datum that goes farther. \n",
    "    # ...so correct for that here \n",
    "    yearf = int(datestrf[0:4])\n",
    "    if yearf > 2015:\n",
    "        datestrf = '20151231'\n",
    "    \n",
    "    # find the filename corresponding to this station number\n",
    "    datadir='/home/lneef/Data/DataScienceStories/historical/'\n",
    "    stationdir = 'tageswerte_'+sid+'_'+datestr0+'_'+datestrf+'_'+'hist/'\n",
    "    ff = 'produkt_klima_Tageswerte_'+datestr0+'_'+datestrf+'_'+sid+'.txt'\n",
    "    fname = datadir+stationdir+ff\n",
    "    if debug:\n",
    "        print(fname)\n",
    "        \n",
    "    # read this file into a pandas dataframe \n",
    "    try:\n",
    "        DF = pd.read_csv(fname,sep=';',index_col=' MESS_DATUM') \n",
    "    except OSError:\n",
    "        print(\"Unable to find data for station \"+station_name)\n",
    "        return\n",
    "    \n",
    "    # convert the index to a date \n",
    "    DF.index = pd.to_datetime(DF.index,format=\"%Y%m%d\")\n",
    "    DF.index.name='Date'\n",
    "\n",
    "    # strip the whitespace out of column names and make lowercase \n",
    "    DF.rename(columns=lambda x: x.replace(\" \", \"\").lower(), inplace=True)  \n",
    "    \n",
    "    # subset the variables that we want \n",
    "    if variable_list is None:\n",
    "        DFv = DF\n",
    "    else:\n",
    "        DFv = DF.loc[:,variable_list]\n",
    "    \n",
    "    # only show winter values \n",
    "    # TODO: make this chooseable with an input to the function \n",
    "    select_dates = [dd for dd in DF.index if dd.month in [1,2,12]]\n",
    "    DFwinter = DFv.ix[select_dates]\n",
    "\n",
    "    # replace all -999 values with NaNs\n",
    "    if variable_list is None:\n",
    "        variable_list_orig=['QUALITAETS_NIVEAU', 'LUFTTEMPERATUR','DAMPFDRUCK','BEDECKUNGSGRAD'\n",
    "                       ,'LUFTDRUCK_STATIONSHOEHE','REL_FEUCHTE','WINDGESCHWINDIGKEIT', 'LUFTTEMPERATUR_MAXIMUM',\n",
    "                       'LUFTTEMPERATUR_MINIMUM','LUFTTEMP_AM_ERDB_MINIMUM', 'WINDSPITZE_MAXIMUM', 'NIEDERSCHLAGSHOEHE',\n",
    "                       'NIEDERSCHLAGSHOEHE_IND','SONNENSCHEINDAUER', 'SCHNEEHOEHE']\n",
    "        variable_list = [x.replace(\" \",\"\").lower() for x in variable_list_orig]\n",
    "    variable_list = [v.replace(\" \",\"\").lower() for v in variable_list]\n",
    "    for variable in variable_list:\n",
    "        mask = DFwinter.loc[:,variable]<-990\n",
    "        DFwinter.loc[:,variable][mask]=np.nan\n",
    "\n",
    "    # smooth with an annual (winter) mean\n",
    "    DFout = DFwinter.resample('AS').mean()\n",
    "    \n",
    "    # addd a column containing the station name string \n",
    "    DFout['Station']=station_name\n",
    "    \n",
    "    return(DFout)\n"
   ]
  },
  {
   "cell_type": "code",
   "execution_count": 26,
   "metadata": {
    "collapsed": false
   },
   "outputs": [
    {
     "name": "stderr",
     "output_type": "stream",
     "text": [
      "/home/lneef/anaconda3/lib/python3.5/site-packages/IPython/core/interactiveshell.py:2821: DtypeWarning: Columns (0) have mixed types. Specify dtype option on import or set low_memory=False.\n",
      "  if self.run_code(code, result):\n"
     ]
    },
    {
     "data": {
      "text/html": [
       "<div>\n",
       "<table border=\"1\" class=\"dataframe\">\n",
       "  <thead>\n",
       "    <tr style=\"text-align: right;\">\n",
       "      <th></th>\n",
       "      <th>schneehoehe</th>\n",
       "      <th>Station</th>\n",
       "    </tr>\n",
       "    <tr>\n",
       "      <th>Date</th>\n",
       "      <th></th>\n",
       "      <th></th>\n",
       "    </tr>\n",
       "  </thead>\n",
       "  <tbody>\n",
       "    <tr>\n",
       "      <th>1891-01-01</th>\n",
       "      <td>NaN</td>\n",
       "      <td>Aachen</td>\n",
       "    </tr>\n",
       "    <tr>\n",
       "      <th>1892-01-01</th>\n",
       "      <td>4.800000</td>\n",
       "      <td>Aachen</td>\n",
       "    </tr>\n",
       "    <tr>\n",
       "      <th>1893-01-01</th>\n",
       "      <td>7.277778</td>\n",
       "      <td>Aachen</td>\n",
       "    </tr>\n",
       "    <tr>\n",
       "      <th>1894-01-01</th>\n",
       "      <td>2.166667</td>\n",
       "      <td>Aachen</td>\n",
       "    </tr>\n",
       "    <tr>\n",
       "      <th>1895-01-01</th>\n",
       "      <td>15.594203</td>\n",
       "      <td>Aachen</td>\n",
       "    </tr>\n",
       "  </tbody>\n",
       "</table>\n",
       "</div>"
      ],
      "text/plain": [
       "            schneehoehe Station\n",
       "Date                           \n",
       "1891-01-01          NaN  Aachen\n",
       "1892-01-01     4.800000  Aachen\n",
       "1893-01-01     7.277778  Aachen\n",
       "1894-01-01     2.166667  Aachen\n",
       "1895-01-01    15.594203  Aachen"
      ]
     },
     "execution_count": 26,
     "metadata": {},
     "output_type": "execute_result"
    }
   ],
   "source": [
    "# try it out for a sample station\n",
    "D = station_data_to_dataframe('Aachen',['schneehoehe'])\n",
    "#D = station_data_to_dataframe('Dillenburg')\n",
    "D.head(5)"
   ]
  },
  {
   "cell_type": "markdown",
   "metadata": {},
   "source": [
    "# Visualization 1: Comparing stations  \n"
   ]
  },
  {
   "cell_type": "code",
   "execution_count": 11,
   "metadata": {
    "collapsed": true
   },
   "outputs": [],
   "source": [
    "# small wrapper function for creating nice timeseries plots \n",
    "def create_tseries_per_station(data,station):\n",
    "    import bokeh as bokeh\n",
    "    p= bokeh.charts.TimeSeries(data,\n",
    "                                   title=station,\n",
    "                                   xlabel='Date',\n",
    "                                   ylabel='Schneehoehe (cm)',\n",
    "                                   legend=False,\n",
    "\n",
    "    )\n",
    "    return p"
   ]
  },
  {
   "cell_type": "code",
   "execution_count": 13,
   "metadata": {
    "collapsed": false
   },
   "outputs": [
    {
     "data": {
      "text/html": [
       "\n",
       "\n",
       "    <div class=\"bk-root\">\n",
       "        <div class=\"plotdiv\" id=\"4ed9328a-a68b-41ed-af79-14e3b5620ad1\"></div>\n",
       "    </div>\n",
       "<script type=\"text/javascript\">\n",
       "  \n",
       "  (function(global) {\n",
       "    function now() {\n",
       "      return new Date();\n",
       "    }\n",
       "  \n",
       "    var force = \"\";\n",
       "  \n",
       "    if (typeof (window._bokeh_onload_callbacks) === \"undefined\" || force !== \"\") {\n",
       "      window._bokeh_onload_callbacks = [];\n",
       "      window._bokeh_is_loading = undefined;\n",
       "    }\n",
       "  \n",
       "  \n",
       "    \n",
       "    if (typeof (window._bokeh_timeout) === \"undefined\" || force !== \"\") {\n",
       "      window._bokeh_timeout = Date.now() + 0;\n",
       "      window._bokeh_failed_load = false;\n",
       "    }\n",
       "  \n",
       "    var NB_LOAD_WARNING = {'data': {'text/html':\n",
       "       \"<div style='background-color: #fdd'>\\n\"+\n",
       "       \"<p>\\n\"+\n",
       "       \"BokehJS does not appear to have successfully loaded. If loading BokehJS from CDN, this \\n\"+\n",
       "       \"may be due to a slow or bad network connection. Possible fixes:\\n\"+\n",
       "       \"</p>\\n\"+\n",
       "       \"<ul>\\n\"+\n",
       "       \"<li>re-rerun `output_notebook()` to attempt to load from CDN again, or</li>\\n\"+\n",
       "       \"<li>use INLINE resources instead, as so:</li>\\n\"+\n",
       "       \"</ul>\\n\"+\n",
       "       \"<code>\\n\"+\n",
       "       \"from bokeh.resources import INLINE\\n\"+\n",
       "       \"output_notebook(resources=INLINE)\\n\"+\n",
       "       \"</code>\\n\"+\n",
       "       \"</div>\"}};\n",
       "  \n",
       "    function display_loaded() {\n",
       "      if (window.Bokeh !== undefined) {\n",
       "        Bokeh.$(\"#4ed9328a-a68b-41ed-af79-14e3b5620ad1\").text(\"BokehJS successfully loaded.\");\n",
       "      } else if (Date.now() < window._bokeh_timeout) {\n",
       "        setTimeout(display_loaded, 100)\n",
       "      }\n",
       "    }\n",
       "  \n",
       "    function run_callbacks() {\n",
       "      window._bokeh_onload_callbacks.forEach(function(callback) { callback() });\n",
       "      delete window._bokeh_onload_callbacks\n",
       "      console.info(\"Bokeh: all callbacks have finished\");\n",
       "    }\n",
       "  \n",
       "    function load_libs(js_urls, callback) {\n",
       "      window._bokeh_onload_callbacks.push(callback);\n",
       "      if (window._bokeh_is_loading > 0) {\n",
       "        console.log(\"Bokeh: BokehJS is being loaded, scheduling callback at\", now());\n",
       "        return null;\n",
       "      }\n",
       "      if (js_urls == null || js_urls.length === 0) {\n",
       "        run_callbacks();\n",
       "        return null;\n",
       "      }\n",
       "      console.log(\"Bokeh: BokehJS not loaded, scheduling load and callback at\", now());\n",
       "      window._bokeh_is_loading = js_urls.length;\n",
       "      for (var i = 0; i < js_urls.length; i++) {\n",
       "        var url = js_urls[i];\n",
       "        var s = document.createElement('script');\n",
       "        s.src = url;\n",
       "        s.async = false;\n",
       "        s.onreadystatechange = s.onload = function() {\n",
       "          window._bokeh_is_loading--;\n",
       "          if (window._bokeh_is_loading === 0) {\n",
       "            console.log(\"Bokeh: all BokehJS libraries loaded\");\n",
       "            run_callbacks()\n",
       "          }\n",
       "        };\n",
       "        s.onerror = function() {\n",
       "          console.warn(\"failed to load library \" + url);\n",
       "        };\n",
       "        console.log(\"Bokeh: injecting script tag for BokehJS library: \", url);\n",
       "        document.getElementsByTagName(\"head\")[0].appendChild(s);\n",
       "      }\n",
       "    };var element = document.getElementById(\"4ed9328a-a68b-41ed-af79-14e3b5620ad1\");\n",
       "    if (element == null) {\n",
       "      console.log(\"Bokeh: ERROR: autoload.js configured with elementid '4ed9328a-a68b-41ed-af79-14e3b5620ad1' but no matching script tag was found. \")\n",
       "      return false;\n",
       "    }\n",
       "  \n",
       "    var js_urls = [];\n",
       "  \n",
       "    var inline_js = [\n",
       "      function(Bokeh) {\n",
       "        Bokeh.$(function() {\n",
       "            var docs_json = {\"268c50ed-9b12-4eec-929d-100cbf19598f\":{\"roots\":{\"references\":[{\"attributes\":{\"children\":[{\"id\":\"97f73de6-f532-43eb-970d-5624d5c1c640\",\"subtype\":\"Chart\",\"type\":\"Plot\"},{\"id\":\"6526a20f-d8e0-4837-9755-7e6f8f686fe6\",\"subtype\":\"Chart\",\"type\":\"Plot\"},{\"id\":\"2973de4c-853e-4a46-9d28-0ed8202e6407\",\"subtype\":\"Chart\",\"type\":\"Plot\"}]},\"id\":\"dda1c7d3-56bf-4516-9151-39b52e793d55\",\"type\":\"Row\"},{\"attributes\":{\"max_interval\":500.0,\"num_minor_ticks\":0},\"id\":\"448f6d13-5c14-4c67-b705-5b8c05b89fcf\",\"type\":\"AdaptiveTicker\"},{\"attributes\":{\"plot\":{\"id\":\"2973de4c-853e-4a46-9d28-0ed8202e6407\",\"subtype\":\"Chart\",\"type\":\"Plot\"}},\"id\":\"8e45c954-0a68-4922-b818-cb4e6cddc535\",\"type\":\"SaveTool\"},{\"attributes\":{\"plot\":{\"id\":\"2973de4c-853e-4a46-9d28-0ed8202e6407\",\"subtype\":\"Chart\",\"type\":\"Plot\"},\"ticker\":{\"id\":\"7bbdd865-af29-4d28-9cef-00a74d73604b\",\"type\":\"DatetimeTicker\"}},\"id\":\"dfabdc53-620c-44d8-abff-a290c8907031\",\"type\":\"Grid\"},{\"attributes\":{\"dimension\":1,\"plot\":{\"id\":\"2973de4c-853e-4a46-9d28-0ed8202e6407\",\"subtype\":\"Chart\",\"type\":\"Plot\"},\"ticker\":{\"id\":\"08a33aa0-93ea-4e1c-aaa7-096a64a4217b\",\"type\":\"BasicTicker\"}},\"id\":\"3ab0e5c4-8f4f-4b06-9e03-5a6c949b06e2\",\"type\":\"Grid\"},{\"attributes\":{\"plot\":{\"id\":\"2973de4c-853e-4a46-9d28-0ed8202e6407\",\"subtype\":\"Chart\",\"type\":\"Plot\"}},\"id\":\"60f8dd61-32d6-4d1e-909a-f9a0abd84a5f\",\"type\":\"HelpTool\"},{\"attributes\":{\"months\":[0,1,2,3,4,5,6,7,8,9,10,11]},\"id\":\"5100e416-4a7e-4559-ba44-5474934521cd\",\"type\":\"MonthsTicker\"},{\"attributes\":{\"below\":[{\"id\":\"6f0468a1-e52f-4b62-b06c-13bbaf41474d\",\"type\":\"DatetimeAxis\"}],\"left\":[{\"id\":\"33c7bf87-c2a6-4313-a613-d9a06ca9aeef\",\"type\":\"LinearAxis\"}],\"plot_height\":300,\"plot_width\":300,\"renderers\":[{\"id\":\"26edd794-6bcb-44e8-984a-7ffca57c71e0\",\"type\":\"BoxAnnotation\"},{\"id\":\"be776f00-02d2-4b98-92eb-c0e548830458\",\"type\":\"GlyphRenderer\"},{\"id\":\"6f0468a1-e52f-4b62-b06c-13bbaf41474d\",\"type\":\"DatetimeAxis\"},{\"id\":\"33c7bf87-c2a6-4313-a613-d9a06ca9aeef\",\"type\":\"LinearAxis\"},{\"id\":\"dfabdc53-620c-44d8-abff-a290c8907031\",\"type\":\"Grid\"},{\"id\":\"3ab0e5c4-8f4f-4b06-9e03-5a6c949b06e2\",\"type\":\"Grid\"}],\"title\":{\"id\":\"9b8ec8e6-e81a-4457-a044-cb711350a421\",\"type\":\"Title\"},\"tool_events\":{\"id\":\"811cba4a-a580-46a7-a96f-9a773518bab1\",\"type\":\"ToolEvents\"},\"toolbar\":{\"id\":\"d045919e-04ad-4056-9a5c-b61d5cbabeb3\",\"type\":\"Toolbar\"},\"toolbar_location\":null,\"x_mapper_type\":\"auto\",\"x_range\":{\"id\":\"764b4767-949f-48bd-a5ab-8376b2f0163f\",\"type\":\"Range1d\"},\"y_mapper_type\":\"auto\",\"y_range\":{\"id\":\"aa620aa0-1390-4e6e-86b5-52e90aaa118e\",\"type\":\"Range1d\"}},\"id\":\"2973de4c-853e-4a46-9d28-0ed8202e6407\",\"subtype\":\"Chart\",\"type\":\"Plot\"},{\"attributes\":{\"sizing_mode\":\"scale_width\",\"toolbar_location\":\"above\",\"tools\":[{\"id\":\"cbe6b6fc-6a0e-459d-b7fc-fa527d9a9ab0\",\"type\":\"PanTool\"},{\"id\":\"d6702f5b-f2e2-4e97-bbbb-fb03724aaafb\",\"type\":\"WheelZoomTool\"},{\"id\":\"0009343a-1493-480d-8d00-d54f7d60e72a\",\"type\":\"BoxZoomTool\"},{\"id\":\"0d2abe8d-4d94-401f-8e6d-d21f2e43f51b\",\"type\":\"SaveTool\"},{\"id\":\"adb57ccc-f5b9-4a1d-812b-547374452375\",\"type\":\"ResetTool\"},{\"id\":\"e25defdc-894a-4af1-918a-d6c21f27492f\",\"type\":\"HelpTool\"},{\"id\":\"aeb4ac4a-3c93-4938-9c02-933108cf8fd5\",\"type\":\"PanTool\"},{\"id\":\"e8fa7a08-46af-4616-bf30-24c3316ea836\",\"type\":\"WheelZoomTool\"},{\"id\":\"444098c1-12a1-41fd-9bac-8136d3d8ae38\",\"type\":\"BoxZoomTool\"},{\"id\":\"260de349-32e2-4b97-963c-3590089f66da\",\"type\":\"SaveTool\"},{\"id\":\"609a19f9-addc-484c-b976-44e1f10ffd90\",\"type\":\"ResetTool\"},{\"id\":\"c2ef31de-de21-47e2-9289-7750374322f9\",\"type\":\"HelpTool\"},{\"id\":\"d3a9380d-9e44-440e-8abc-26d5040ed31a\",\"type\":\"PanTool\"},{\"id\":\"f7ecdbce-3051-4fe2-846d-2ba076cf8964\",\"type\":\"WheelZoomTool\"},{\"id\":\"ac4de253-b917-42e7-9e3e-1d0a15da77ad\",\"type\":\"BoxZoomTool\"},{\"id\":\"8e45c954-0a68-4922-b818-cb4e6cddc535\",\"type\":\"SaveTool\"},{\"id\":\"81204712-a28c-42e4-8be9-7db6a588edf0\",\"type\":\"ResetTool\"},{\"id\":\"60f8dd61-32d6-4d1e-909a-f9a0abd84a5f\",\"type\":\"HelpTool\"}]},\"id\":\"9fc9103a-88aa-4b95-a0e0-9b172c71be40\",\"type\":\"ToolbarBox\"},{\"attributes\":{\"bottom_units\":\"screen\",\"fill_alpha\":{\"value\":0.5},\"fill_color\":{\"value\":\"lightgrey\"},\"left_units\":\"screen\",\"level\":\"overlay\",\"line_alpha\":{\"value\":1.0},\"line_color\":{\"value\":\"black\"},\"line_dash\":[4,4],\"line_width\":{\"value\":2},\"plot\":null,\"render_mode\":\"css\",\"right_units\":\"screen\",\"top_units\":\"screen\"},\"id\":\"26edd794-6bcb-44e8-984a-7ffca57c71e0\",\"type\":\"BoxAnnotation\"},{\"attributes\":{\"days\":[1,4,7,10,13,16,19,22,25,28]},\"id\":\"eb117cc1-3ee8-4e4e-8aee-34cc6f7645be\",\"type\":\"DaysTicker\"},{\"attributes\":{\"plot\":null,\"text\":\"Dillenburg\"},\"id\":\"fa0054c6-c0f1-4957-955e-b98042ba310d\",\"type\":\"Title\"},{\"attributes\":{\"days\":[1,4,7,10,13,16,19,22,25,28]},\"id\":\"852975db-ee40-475e-8237-234d65b70d3e\",\"type\":\"DaysTicker\"},{\"attributes\":{\"days\":[1,2,3,4,5,6,7,8,9,10,11,12,13,14,15,16,17,18,19,20,21,22,23,24,25,26,27,28,29,30,31]},\"id\":\"c03e84e5-12d0-46cd-b168-6e13730b4282\",\"type\":\"DaysTicker\"},{\"attributes\":{\"children\":[{\"id\":\"9fc9103a-88aa-4b95-a0e0-9b172c71be40\",\"type\":\"ToolbarBox\"},{\"id\":\"6355be01-460e-49bd-862f-dbdc8206d058\",\"type\":\"Column\"}]},\"id\":\"b629a588-db2a-4518-af8f-87b45ddae4c5\",\"type\":\"Column\"},{\"attributes\":{\"base\":24,\"mantissas\":[1,2,4,6,8,12],\"max_interval\":43200000.0,\"min_interval\":3600000.0,\"num_minor_ticks\":0},\"id\":\"600564c2-5590-40d0-9955-0d93ba766c7e\",\"type\":\"AdaptiveTicker\"},{\"attributes\":{\"months\":[0,6]},\"id\":\"acdfc7f1-c1c0-485c-870c-39d2f54af3f3\",\"type\":\"MonthsTicker\"},{\"attributes\":{\"months\":[0,2,4,6,8,10]},\"id\":\"f5865111-6f11-47ee-b583-24f0cbec83fb\",\"type\":\"MonthsTicker\"},{\"attributes\":{},\"id\":\"4dc6dd9c-3b27-4a71-a68c-fb42c8934e1a\",\"type\":\"BasicTicker\"},{\"attributes\":{\"months\":[0,4,8]},\"id\":\"13c3a0ea-c962-4b81-815c-ffb41c59e7ce\",\"type\":\"MonthsTicker\"},{\"attributes\":{\"plot\":{\"id\":\"6526a20f-d8e0-4837-9755-7e6f8f686fe6\",\"subtype\":\"Chart\",\"type\":\"Plot\"},\"ticker\":{\"id\":\"7f1d3fb6-d305-43e6-b236-67b99779536c\",\"type\":\"DatetimeTicker\"}},\"id\":\"9c431740-701c-4223-8edb-5ef5d162568a\",\"type\":\"Grid\"},{\"attributes\":{\"active_drag\":\"auto\",\"active_scroll\":\"auto\",\"active_tap\":\"auto\",\"tools\":[{\"id\":\"aeb4ac4a-3c93-4938-9c02-933108cf8fd5\",\"type\":\"PanTool\"},{\"id\":\"e8fa7a08-46af-4616-bf30-24c3316ea836\",\"type\":\"WheelZoomTool\"},{\"id\":\"444098c1-12a1-41fd-9bac-8136d3d8ae38\",\"type\":\"BoxZoomTool\"},{\"id\":\"260de349-32e2-4b97-963c-3590089f66da\",\"type\":\"SaveTool\"},{\"id\":\"609a19f9-addc-484c-b976-44e1f10ffd90\",\"type\":\"ResetTool\"},{\"id\":\"c2ef31de-de21-47e2-9289-7750374322f9\",\"type\":\"HelpTool\"}]},\"id\":\"ede29d90-cec0-46cb-9b36-7beb7c3c2cde\",\"type\":\"Toolbar\"},{\"attributes\":{\"days\":[1,2,3,4,5,6,7,8,9,10,11,12,13,14,15,16,17,18,19,20,21,22,23,24,25,26,27,28,29,30,31]},\"id\":\"cf88bf74-fc44-4442-8126-512ba50135ed\",\"type\":\"DaysTicker\"},{\"attributes\":{\"data_source\":{\"id\":\"0fbec548-51ea-414f-9127-14fecdf73a44\",\"type\":\"ColumnDataSource\"},\"glyph\":{\"id\":\"5f660536-257c-4a56-a797-a76e278ae9b2\",\"type\":\"Line\"},\"hover_glyph\":null,\"nonselection_glyph\":null,\"selection_glyph\":null},\"id\":\"c6ea1f03-8555-4ff9-898e-3124eee184c7\",\"type\":\"GlyphRenderer\"},{\"attributes\":{\"months\":[0,6]},\"id\":\"cf46dbc6-5b44-423f-b2eb-9e97ff22403d\",\"type\":\"MonthsTicker\"},{\"attributes\":{\"days\":[1,8,15,22]},\"id\":\"96dc7d3d-d01f-4cb1-abba-2e1e495f141f\",\"type\":\"DaysTicker\"},{\"attributes\":{\"callback\":null,\"column_names\":[\"x_values\",\"y_values\"],\"data\":{\"chart_index\":[{\"series\":\"schneehoehe\"},{\"series\":\"schneehoehe\"},{\"series\":\"schneehoehe\"},{\"series\":\"schneehoehe\"},{\"series\":\"schneehoehe\"},{\"series\":\"schneehoehe\"},{\"series\":\"schneehoehe\"},{\"series\":\"schneehoehe\"},{\"series\":\"schneehoehe\"},{\"series\":\"schneehoehe\"},{\"series\":\"schneehoehe\"},{\"series\":\"schneehoehe\"},{\"series\":\"schneehoehe\"},{\"series\":\"schneehoehe\"},{\"series\":\"schneehoehe\"},{\"series\":\"schneehoehe\"},{\"series\":\"schneehoehe\"},{\"series\":\"schneehoehe\"},{\"series\":\"schneehoehe\"},{\"series\":\"schneehoehe\"},{\"series\":\"schneehoehe\"},{\"series\":\"schneehoehe\"},{\"series\":\"schneehoehe\"},{\"series\":\"schneehoehe\"},{\"series\":\"schneehoehe\"},{\"series\":\"schneehoehe\"},{\"series\":\"schneehoehe\"},{\"series\":\"schneehoehe\"},{\"series\":\"schneehoehe\"},{\"series\":\"schneehoehe\"}],\"series\":[\"schneehoehe\",\"schneehoehe\",\"schneehoehe\",\"schneehoehe\",\"schneehoehe\",\"schneehoehe\",\"schneehoehe\",\"schneehoehe\",\"schneehoehe\",\"schneehoehe\",\"schneehoehe\",\"schneehoehe\",\"schneehoehe\",\"schneehoehe\",\"schneehoehe\",\"schneehoehe\",\"schneehoehe\",\"schneehoehe\",\"schneehoehe\",\"schneehoehe\",\"schneehoehe\",\"schneehoehe\",\"schneehoehe\",\"schneehoehe\",\"schneehoehe\",\"schneehoehe\",\"schneehoehe\",\"schneehoehe\",\"schneehoehe\",\"schneehoehe\"],\"x_values\":[504921600000.0,536457600000.0,567993600000.0,599616000000.0,631152000000.0,662688000000.0,694224000000.0,725846400000.0,757382400000.0,788918400000.0,820454400000.0,852076800000.0,883612800000.0,915148800000.0,946684800000.0,978307200000.0,1009843200000.0,1041379200000.0,1072915200000.0,1104537600000.0,1136073600000.0,1167609600000.0,1199145600000.0,1230768000000.0,1262304000000.0,1293840000000.0,1325376000000.0,1356998400000.0,1388534400000.0,1420070400000.0],\"y_values\":[0.5161290322580645,1.1333333333333333,0.03296703296703297,0.044444444444444446,0.044444444444444446,2.1,0.02197802197802198,0.15555555555555556,0.43333333333333335,0.8777777777777778,1.3406593406593406,0.2,0.28888888888888886,0.7555555555555555,0.15384615384615385,0.5222222222222223,0.18888888888888888,3.1555555555555554,0.42857142857142855,1.1333333333333333,0.3707865168539326,0.03409090909090909,0.0,1.6555555555555554,19.71764705882353,1.1777777777777778,2.452054794520548,0.0,0.044444444444444446,0.32222222222222224]}},\"id\":\"0fbec548-51ea-414f-9127-14fecdf73a44\",\"type\":\"ColumnDataSource\"},{\"attributes\":{\"plot\":{\"id\":\"6526a20f-d8e0-4837-9755-7e6f8f686fe6\",\"subtype\":\"Chart\",\"type\":\"Plot\"}},\"id\":\"aeb4ac4a-3c93-4938-9c02-933108cf8fd5\",\"type\":\"PanTool\"},{\"attributes\":{\"dimension\":1,\"plot\":{\"id\":\"6526a20f-d8e0-4837-9755-7e6f8f686fe6\",\"subtype\":\"Chart\",\"type\":\"Plot\"},\"ticker\":{\"id\":\"58c90bd9-3a1b-4de4-bbf2-cdfc5adb2352\",\"type\":\"BasicTicker\"}},\"id\":\"631ff4df-b7da-47d7-b244-2d3084302605\",\"type\":\"Grid\"},{\"attributes\":{\"days\":[1,15]},\"id\":\"713230db-5652-4065-b83c-d9af23b6ea0c\",\"type\":\"DaysTicker\"},{\"attributes\":{\"plot\":{\"id\":\"2973de4c-853e-4a46-9d28-0ed8202e6407\",\"subtype\":\"Chart\",\"type\":\"Plot\"}},\"id\":\"f7ecdbce-3051-4fe2-846d-2ba076cf8964\",\"type\":\"WheelZoomTool\"},{\"attributes\":{},\"id\":\"a13ad7a2-0962-4c49-9fe0-5ccc93d30ca6\",\"type\":\"BasicTickFormatter\"},{\"attributes\":{},\"id\":\"7f1d3fb6-d305-43e6-b236-67b99779536c\",\"type\":\"DatetimeTicker\"},{\"attributes\":{\"callback\":null,\"column_names\":[\"x_values\",\"y_values\"],\"data\":{\"chart_index\":[{\"series\":\"schneehoehe\"},{\"series\":\"schneehoehe\"},{\"series\":\"schneehoehe\"},{\"series\":\"schneehoehe\"},{\"series\":\"schneehoehe\"},{\"series\":\"schneehoehe\"},{\"series\":\"schneehoehe\"},{\"series\":\"schneehoehe\"},{\"series\":\"schneehoehe\"},{\"series\":\"schneehoehe\"},{\"series\":\"schneehoehe\"},{\"series\":\"schneehoehe\"},{\"series\":\"schneehoehe\"},{\"series\":\"schneehoehe\"},{\"series\":\"schneehoehe\"},{\"series\":\"schneehoehe\"},{\"series\":\"schneehoehe\"},{\"series\":\"schneehoehe\"},{\"series\":\"schneehoehe\"},{\"series\":\"schneehoehe\"},{\"series\":\"schneehoehe\"},{\"series\":\"schneehoehe\"},{\"series\":\"schneehoehe\"},{\"series\":\"schneehoehe\"},{\"series\":\"schneehoehe\"},{\"series\":\"schneehoehe\"},{\"series\":\"schneehoehe\"},{\"series\":\"schneehoehe\"},{\"series\":\"schneehoehe\"},{\"series\":\"schneehoehe\"},{\"series\":\"schneehoehe\"},{\"series\":\"schneehoehe\"},{\"series\":\"schneehoehe\"},{\"series\":\"schneehoehe\"},{\"series\":\"schneehoehe\"},{\"series\":\"schneehoehe\"},{\"series\":\"schneehoehe\"},{\"series\":\"schneehoehe\"},{\"series\":\"schneehoehe\"},{\"series\":\"schneehoehe\"},{\"series\":\"schneehoehe\"},{\"series\":\"schneehoehe\"},{\"series\":\"schneehoehe\"},{\"series\":\"schneehoehe\"},{\"series\":\"schneehoehe\"},{\"series\":\"schneehoehe\"},{\"series\":\"schneehoehe\"},{\"series\":\"schneehoehe\"},{\"series\":\"schneehoehe\"},{\"series\":\"schneehoehe\"},{\"series\":\"schneehoehe\"},{\"series\":\"schneehoehe\"},{\"series\":\"schneehoehe\"},{\"series\":\"schneehoehe\"},{\"series\":\"schneehoehe\"},{\"series\":\"schneehoehe\"},{\"series\":\"schneehoehe\"},{\"series\":\"schneehoehe\"},{\"series\":\"schneehoehe\"},{\"series\":\"schneehoehe\"},{\"series\":\"schneehoehe\"},{\"series\":\"schneehoehe\"},{\"series\":\"schneehoehe\"},{\"series\":\"schneehoehe\"},{\"series\":\"schneehoehe\"},{\"series\":\"schneehoehe\"},{\"series\":\"schneehoehe\"},{\"series\":\"schneehoehe\"},{\"series\":\"schneehoehe\"}],\"series\":[\"schneehoehe\",\"schneehoehe\",\"schneehoehe\",\"schneehoehe\",\"schneehoehe\",\"schneehoehe\",\"schneehoehe\",\"schneehoehe\",\"schneehoehe\",\"schneehoehe\",\"schneehoehe\",\"schneehoehe\",\"schneehoehe\",\"schneehoehe\",\"schneehoehe\",\"schneehoehe\",\"schneehoehe\",\"schneehoehe\",\"schneehoehe\",\"schneehoehe\",\"schneehoehe\",\"schneehoehe\",\"schneehoehe\",\"schneehoehe\",\"schneehoehe\",\"schneehoehe\",\"schneehoehe\",\"schneehoehe\",\"schneehoehe\",\"schneehoehe\",\"schneehoehe\",\"schneehoehe\",\"schneehoehe\",\"schneehoehe\",\"schneehoehe\",\"schneehoehe\",\"schneehoehe\",\"schneehoehe\",\"schneehoehe\",\"schneehoehe\",\"schneehoehe\",\"schneehoehe\",\"schneehoehe\",\"schneehoehe\",\"schneehoehe\",\"schneehoehe\",\"schneehoehe\",\"schneehoehe\",\"schneehoehe\",\"schneehoehe\",\"schneehoehe\",\"schneehoehe\",\"schneehoehe\",\"schneehoehe\",\"schneehoehe\",\"schneehoehe\",\"schneehoehe\",\"schneehoehe\",\"schneehoehe\",\"schneehoehe\",\"schneehoehe\",\"schneehoehe\",\"schneehoehe\",\"schneehoehe\",\"schneehoehe\",\"schneehoehe\",\"schneehoehe\",\"schneehoehe\",\"schneehoehe\"],\"x_values\":[-725846400000.0,-694310400000.0,-662688000000.0,-631152000000.0,-599616000000.0,-568080000000.0,-536457600000.0,-504921600000.0,-473385600000.0,-441849600000.0,-410227200000.0,-378691200000.0,-347155200000.0,-315619200000.0,-283996800000.0,-252460800000.0,-220924800000.0,-189388800000.0,-157766400000.0,-126230400000.0,-94694400000.0,-63158400000.0,-31536000000.0,0.0,31536000000.0,63072000000.0,94694400000.0,126230400000.0,157766400000.0,189302400000.0,220924800000.0,252460800000.0,283996800000.0,315532800000.0,347155200000.0,378691200000.0,410227200000.0,441763200000.0,473385600000.0,504921600000.0,536457600000.0,567993600000.0,599616000000.0,631152000000.0,662688000000.0,694224000000.0,725846400000.0,757382400000.0,788918400000.0,820454400000.0,852076800000.0,883612800000.0,915148800000.0,946684800000.0,978307200000.0,1009843200000.0,1041379200000.0,1072915200000.0,1104537600000.0,1136073600000.0,1167609600000.0,1199145600000.0,1230768000000.0,1262304000000.0,1293840000000.0,1325376000000.0,1356998400000.0,1388534400000.0,1420070400000.0],\"y_values\":[0.5161290322580645,0.4835164835164835,0.13333333333333333,3.3222222222222224,1.5222222222222221,5.34065934065934,4.5,1.0777777777777777,6.033333333333333,5.1208791208791204,0.4222222222222222,0.9444444444444444,3.2111111111111112,1.1758241758241759,0.7666666666666667,2.511111111111111,17.455555555555556,0.9340659340659341,1.7333333333333334,0.2222222222222222,0.9333333333333333,2.956043956043956,6.8,8.333333333333334,1.488888888888889,0.5714285714285714,1.3333333333333333,0.1,0.0,1.3076923076923077,0.5777777777777777,2.2111111111111112,10.577777777777778,1.021978021978022,8.8,2.0,0.8870967741935484,2.4835164835164836,4.988888888888889,3.1555555555555554,1.7444444444444445,0.6153846153846154,0.0,0.6111111111111112,2.522222222222222,0.07692307692307693,0.17777777777777778,0.35555555555555557,1.211111111111111,1.0879120879120878,1.211111111111111,1.2666666666666666,1.4555555555555555,0.4945054945054945,1.8111111111111111,1.3,1.0666666666666667,0.9010989010989011,1.988888888888889,0.6666666666666666,0.1111111111111111,0.5274725274725275,2.2444444444444445,12.266666666666667,1.7777777777777777,0.4835164835164835,2.588888888888889,0.6111111111111112,0.9]}},\"id\":\"4444c518-1774-4a8d-b510-a54f2b472085\",\"type\":\"ColumnDataSource\"},{\"attributes\":{\"plot\":{\"id\":\"6526a20f-d8e0-4837-9755-7e6f8f686fe6\",\"subtype\":\"Chart\",\"type\":\"Plot\"}},\"id\":\"260de349-32e2-4b97-963c-3590089f66da\",\"type\":\"SaveTool\"},{\"attributes\":{\"plot\":{\"id\":\"97f73de6-f532-43eb-970d-5624d5c1c640\",\"subtype\":\"Chart\",\"type\":\"Plot\"}},\"id\":\"cbe6b6fc-6a0e-459d-b7fc-fa527d9a9ab0\",\"type\":\"PanTool\"},{\"attributes\":{\"axis_label\":\"Schneehoehe (cm)\",\"formatter\":{\"id\":\"338620e3-c9ff-4237-beb4-31a6599847ff\",\"type\":\"BasicTickFormatter\"},\"plot\":{\"id\":\"97f73de6-f532-43eb-970d-5624d5c1c640\",\"subtype\":\"Chart\",\"type\":\"Plot\"},\"ticker\":{\"id\":\"4dc6dd9c-3b27-4a71-a68c-fb42c8934e1a\",\"type\":\"BasicTicker\"}},\"id\":\"a1cdd382-8872-46b4-90fb-3dc7ef6206b4\",\"type\":\"LinearAxis\"},{\"attributes\":{\"below\":[{\"id\":\"f6667a74-a6e8-4dad-b16e-80c028c4c945\",\"type\":\"DatetimeAxis\"}],\"left\":[{\"id\":\"a8874a3c-549a-4001-af99-f51f6a1809a9\",\"type\":\"LinearAxis\"}],\"plot_height\":300,\"plot_width\":300,\"renderers\":[{\"id\":\"12f14ad3-f278-4e42-b8b0-f4e8cebf4a76\",\"type\":\"BoxAnnotation\"},{\"id\":\"c6ea1f03-8555-4ff9-898e-3124eee184c7\",\"type\":\"GlyphRenderer\"},{\"id\":\"f6667a74-a6e8-4dad-b16e-80c028c4c945\",\"type\":\"DatetimeAxis\"},{\"id\":\"a8874a3c-549a-4001-af99-f51f6a1809a9\",\"type\":\"LinearAxis\"},{\"id\":\"9c431740-701c-4223-8edb-5ef5d162568a\",\"type\":\"Grid\"},{\"id\":\"631ff4df-b7da-47d7-b244-2d3084302605\",\"type\":\"Grid\"}],\"title\":{\"id\":\"ad7f09e6-91b9-4548-82d1-f2c10f2e9830\",\"type\":\"Title\"},\"tool_events\":{\"id\":\"0b43c9c2-e880-4d12-852f-707248644cb2\",\"type\":\"ToolEvents\"},\"toolbar\":{\"id\":\"ede29d90-cec0-46cb-9b36-7beb7c3c2cde\",\"type\":\"Toolbar\"},\"toolbar_location\":null,\"x_mapper_type\":\"auto\",\"x_range\":{\"id\":\"080783f2-51b9-4224-981c-c45146c0db18\",\"type\":\"Range1d\"},\"y_mapper_type\":\"auto\",\"y_range\":{\"id\":\"9d88e4fc-1a49-4109-b9d9-bbf096e93322\",\"type\":\"Range1d\"}},\"id\":\"6526a20f-d8e0-4837-9755-7e6f8f686fe6\",\"subtype\":\"Chart\",\"type\":\"Plot\"},{\"attributes\":{},\"id\":\"5850cc7c-4c86-40d2-8c16-bcc6901f4468\",\"type\":\"DatetimeTickFormatter\"},{\"attributes\":{\"callback\":null,\"end\":1420070400000.0,\"start\":-725846400000.0},\"id\":\"764b4767-949f-48bd-a5ab-8376b2f0163f\",\"type\":\"Range1d\"},{\"attributes\":{\"below\":[{\"id\":\"21344ac2-809f-44f4-8623-0b77f158c0c6\",\"type\":\"DatetimeAxis\"}],\"left\":[{\"id\":\"a1cdd382-8872-46b4-90fb-3dc7ef6206b4\",\"type\":\"LinearAxis\"}],\"plot_height\":300,\"plot_width\":300,\"renderers\":[{\"id\":\"ee3b019d-0125-43ac-850d-887d73f29986\",\"type\":\"BoxAnnotation\"},{\"id\":\"96246a3a-67f2-49e0-bf6b-26abb191cf7d\",\"type\":\"GlyphRenderer\"},{\"id\":\"21344ac2-809f-44f4-8623-0b77f158c0c6\",\"type\":\"DatetimeAxis\"},{\"id\":\"a1cdd382-8872-46b4-90fb-3dc7ef6206b4\",\"type\":\"LinearAxis\"},{\"id\":\"a60c1974-18a5-4fe6-a99d-eab2bf927a1e\",\"type\":\"Grid\"},{\"id\":\"b1b0f26f-20c6-43d9-849a-95721eb0331e\",\"type\":\"Grid\"}],\"title\":{\"id\":\"fa0054c6-c0f1-4957-955e-b98042ba310d\",\"type\":\"Title\"},\"tool_events\":{\"id\":\"72cebe8b-e10c-42cc-936f-64ceee4fc411\",\"type\":\"ToolEvents\"},\"toolbar\":{\"id\":\"c96b41ec-1c04-4138-95fd-e5020e39b9e3\",\"type\":\"Toolbar\"},\"toolbar_location\":null,\"x_mapper_type\":\"auto\",\"x_range\":{\"id\":\"0a1996a7-2a29-4b51-806c-21f73ef4ed26\",\"type\":\"Range1d\"},\"y_mapper_type\":\"auto\",\"y_range\":{\"id\":\"7763eb83-b257-4202-b43c-2ed8d31c77af\",\"type\":\"Range1d\"}},\"id\":\"97f73de6-f532-43eb-970d-5624d5c1c640\",\"subtype\":\"Chart\",\"type\":\"Plot\"},{\"attributes\":{},\"id\":\"f10c4fed-7a0b-4336-b9fc-538cb745a842\",\"type\":\"DatetimeTickFormatter\"},{\"attributes\":{\"axis_label\":\"Date\",\"formatter\":{\"id\":\"f10c4fed-7a0b-4336-b9fc-538cb745a842\",\"type\":\"DatetimeTickFormatter\"},\"plot\":{\"id\":\"2973de4c-853e-4a46-9d28-0ed8202e6407\",\"subtype\":\"Chart\",\"type\":\"Plot\"},\"ticker\":{\"id\":\"7bbdd865-af29-4d28-9cef-00a74d73604b\",\"type\":\"DatetimeTicker\"}},\"id\":\"6f0468a1-e52f-4b62-b06c-13bbaf41474d\",\"type\":\"DatetimeAxis\"},{\"attributes\":{\"plot\":{\"id\":\"97f73de6-f532-43eb-970d-5624d5c1c640\",\"subtype\":\"Chart\",\"type\":\"Plot\"},\"ticker\":{\"id\":\"4dd8ad78-f30c-4052-b043-e3c57e0e023a\",\"type\":\"DatetimeTicker\"}},\"id\":\"a60c1974-18a5-4fe6-a99d-eab2bf927a1e\",\"type\":\"Grid\"},{\"attributes\":{\"plot\":{\"id\":\"97f73de6-f532-43eb-970d-5624d5c1c640\",\"subtype\":\"Chart\",\"type\":\"Plot\"}},\"id\":\"0d2abe8d-4d94-401f-8e6d-d21f2e43f51b\",\"type\":\"SaveTool\"},{\"attributes\":{\"callback\":null,\"end\":1420070400000.0,\"start\":-725846400000.0},\"id\":\"080783f2-51b9-4224-981c-c45146c0db18\",\"type\":\"Range1d\"},{\"attributes\":{},\"id\":\"c7601880-4ab1-4763-8f6c-2683d64a6ef9\",\"type\":\"YearsTicker\"},{\"attributes\":{\"callback\":null,\"end\":1420070400000.0,\"start\":-725846400000.0},\"id\":\"0a1996a7-2a29-4b51-806c-21f73ef4ed26\",\"type\":\"Range1d\"},{\"attributes\":{\"bottom_units\":\"screen\",\"fill_alpha\":{\"value\":0.5},\"fill_color\":{\"value\":\"lightgrey\"},\"left_units\":\"screen\",\"level\":\"overlay\",\"line_alpha\":{\"value\":1.0},\"line_color\":{\"value\":\"black\"},\"line_dash\":[4,4],\"line_width\":{\"value\":2},\"plot\":null,\"render_mode\":\"css\",\"right_units\":\"screen\",\"top_units\":\"screen\"},\"id\":\"ee3b019d-0125-43ac-850d-887d73f29986\",\"type\":\"BoxAnnotation\"},{\"attributes\":{\"base\":24,\"mantissas\":[1,2,4,6,8,12],\"max_interval\":43200000.0,\"min_interval\":3600000.0,\"num_minor_ticks\":0},\"id\":\"890c9416-b85d-4b33-8fd2-8406c33eb93e\",\"type\":\"AdaptiveTicker\"},{\"attributes\":{\"plot\":{\"id\":\"2973de4c-853e-4a46-9d28-0ed8202e6407\",\"subtype\":\"Chart\",\"type\":\"Plot\"}},\"id\":\"d3a9380d-9e44-440e-8abc-26d5040ed31a\",\"type\":\"PanTool\"},{\"attributes\":{},\"id\":\"22cfb4be-fe88-4cd6-a500-b898c876e964\",\"type\":\"YearsTicker\"},{\"attributes\":{},\"id\":\"277c91fd-2b05-40d4-8da6-c3aea5aa5800\",\"type\":\"DatetimeTickFormatter\"},{\"attributes\":{\"bottom_units\":\"screen\",\"fill_alpha\":{\"value\":0.5},\"fill_color\":{\"value\":\"lightgrey\"},\"left_units\":\"screen\",\"level\":\"overlay\",\"line_alpha\":{\"value\":1.0},\"line_color\":{\"value\":\"black\"},\"line_dash\":[4,4],\"line_width\":{\"value\":2},\"plot\":null,\"render_mode\":\"css\",\"right_units\":\"screen\",\"top_units\":\"screen\"},\"id\":\"12f14ad3-f278-4e42-b8b0-f4e8cebf4a76\",\"type\":\"BoxAnnotation\"},{\"attributes\":{\"months\":[0,1,2,3,4,5,6,7,8,9,10,11]},\"id\":\"6933a8e6-b091-4cf7-b9da-71a7530b7b87\",\"type\":\"MonthsTicker\"},{\"attributes\":{\"months\":[0,2,4,6,8,10]},\"id\":\"623311ff-f4a3-4f64-8a2d-6af9a10ca9ea\",\"type\":\"MonthsTicker\"},{\"attributes\":{\"dimension\":1,\"plot\":{\"id\":\"97f73de6-f532-43eb-970d-5624d5c1c640\",\"subtype\":\"Chart\",\"type\":\"Plot\"},\"ticker\":{\"id\":\"4dc6dd9c-3b27-4a71-a68c-fb42c8934e1a\",\"type\":\"BasicTicker\"}},\"id\":\"b1b0f26f-20c6-43d9-849a-95721eb0331e\",\"type\":\"Grid\"},{\"attributes\":{\"plot\":{\"id\":\"6526a20f-d8e0-4837-9755-7e6f8f686fe6\",\"subtype\":\"Chart\",\"type\":\"Plot\"}},\"id\":\"c2ef31de-de21-47e2-9289-7750374322f9\",\"type\":\"HelpTool\"},{\"attributes\":{\"data_source\":{\"id\":\"4444c518-1774-4a8d-b510-a54f2b472085\",\"type\":\"ColumnDataSource\"},\"glyph\":{\"id\":\"87f30baf-5676-4096-823d-6fc865b4100f\",\"type\":\"Line\"},\"hover_glyph\":null,\"nonselection_glyph\":null,\"selection_glyph\":null},\"id\":\"96246a3a-67f2-49e0-bf6b-26abb191cf7d\",\"type\":\"GlyphRenderer\"},{\"attributes\":{},\"id\":\"338620e3-c9ff-4237-beb4-31a6599847ff\",\"type\":\"BasicTickFormatter\"},{\"attributes\":{\"line_color\":{\"value\":\"#f22c40\"},\"line_width\":{\"value\":2},\"x\":{\"field\":\"x_values\"},\"y\":{\"field\":\"y_values\"}},\"id\":\"5f660536-257c-4a56-a797-a76e278ae9b2\",\"type\":\"Line\"},{\"attributes\":{\"days\":[1,2,3,4,5,6,7,8,9,10,11,12,13,14,15,16,17,18,19,20,21,22,23,24,25,26,27,28,29,30,31]},\"id\":\"1c1e582d-a2c0-4fd3-b41a-9f33c61543b0\",\"type\":\"DaysTicker\"},{\"attributes\":{\"axis_label\":\"Schneehoehe (cm)\",\"formatter\":{\"id\":\"1e6351d9-1849-4668-b28f-7838a25cf286\",\"type\":\"BasicTickFormatter\"},\"plot\":{\"id\":\"6526a20f-d8e0-4837-9755-7e6f8f686fe6\",\"subtype\":\"Chart\",\"type\":\"Plot\"},\"ticker\":{\"id\":\"58c90bd9-3a1b-4de4-bbf2-cdfc5adb2352\",\"type\":\"BasicTicker\"}},\"id\":\"a8874a3c-549a-4001-af99-f51f6a1809a9\",\"type\":\"LinearAxis\"},{\"attributes\":{\"active_drag\":\"auto\",\"active_scroll\":\"auto\",\"active_tap\":\"auto\",\"tools\":[{\"id\":\"d3a9380d-9e44-440e-8abc-26d5040ed31a\",\"type\":\"PanTool\"},{\"id\":\"f7ecdbce-3051-4fe2-846d-2ba076cf8964\",\"type\":\"WheelZoomTool\"},{\"id\":\"ac4de253-b917-42e7-9e3e-1d0a15da77ad\",\"type\":\"BoxZoomTool\"},{\"id\":\"8e45c954-0a68-4922-b818-cb4e6cddc535\",\"type\":\"SaveTool\"},{\"id\":\"81204712-a28c-42e4-8be9-7db6a588edf0\",\"type\":\"ResetTool\"},{\"id\":\"60f8dd61-32d6-4d1e-909a-f9a0abd84a5f\",\"type\":\"HelpTool\"}]},\"id\":\"d045919e-04ad-4056-9a5c-b61d5cbabeb3\",\"type\":\"Toolbar\"},{\"attributes\":{},\"id\":\"7bbdd865-af29-4d28-9cef-00a74d73604b\",\"type\":\"DatetimeTicker\"},{\"attributes\":{\"months\":[0,2,4,6,8,10]},\"id\":\"44c91093-eef3-44ab-b5fe-b026f2bd8665\",\"type\":\"MonthsTicker\"},{\"attributes\":{\"callback\":null,\"end\":19.71764705882353},\"id\":\"7763eb83-b257-4202-b43c-2ed8d31c77af\",\"type\":\"Range1d\"},{\"attributes\":{\"plot\":{\"id\":\"6526a20f-d8e0-4837-9755-7e6f8f686fe6\",\"subtype\":\"Chart\",\"type\":\"Plot\"}},\"id\":\"e8fa7a08-46af-4616-bf30-24c3316ea836\",\"type\":\"WheelZoomTool\"},{\"attributes\":{\"max_interval\":500.0,\"num_minor_ticks\":0},\"id\":\"f6a0ba7f-c87e-4fd2-b3cb-0aa3afb510b1\",\"type\":\"AdaptiveTicker\"},{\"attributes\":{},\"id\":\"58c90bd9-3a1b-4de4-bbf2-cdfc5adb2352\",\"type\":\"BasicTicker\"},{\"attributes\":{},\"id\":\"4dd8ad78-f30c-4052-b043-e3c57e0e023a\",\"type\":\"DatetimeTicker\"},{\"attributes\":{\"data_source\":{\"id\":\"d059fcfa-6b07-497e-a89c-1f899ccd8675\",\"type\":\"ColumnDataSource\"},\"glyph\":{\"id\":\"04444452-f1a1-4e83-8518-89a1cc40950b\",\"type\":\"Line\"},\"hover_glyph\":null,\"nonselection_glyph\":null,\"selection_glyph\":null},\"id\":\"be776f00-02d2-4b98-92eb-c0e548830458\",\"type\":\"GlyphRenderer\"},{\"attributes\":{\"base\":24,\"mantissas\":[1,2,4,6,8,12],\"max_interval\":43200000.0,\"min_interval\":3600000.0,\"num_minor_ticks\":0},\"id\":\"100b3a8c-4d33-440a-b33b-8d2d6f5f993a\",\"type\":\"AdaptiveTicker\"},{\"attributes\":{\"line_color\":{\"value\":\"#f22c40\"},\"line_width\":{\"value\":2},\"x\":{\"field\":\"x_values\"},\"y\":{\"field\":\"y_values\"}},\"id\":\"04444452-f1a1-4e83-8518-89a1cc40950b\",\"type\":\"Line\"},{\"attributes\":{\"days\":[1,15]},\"id\":\"15e083ab-b444-4042-83e6-46b05838fc9f\",\"type\":\"DaysTicker\"},{\"attributes\":{\"base\":60,\"mantissas\":[1,2,5,10,15,20,30],\"max_interval\":1800000.0,\"min_interval\":1000.0,\"num_minor_ticks\":0},\"id\":\"ff25aaf1-9304-4522-8383-67200de838a4\",\"type\":\"AdaptiveTicker\"},{\"attributes\":{\"plot\":null,\"text\":\"Kiel-Holtenau\"},\"id\":\"ad7f09e6-91b9-4548-82d1-f2c10f2e9830\",\"type\":\"Title\"},{\"attributes\":{\"plot\":{\"id\":\"2973de4c-853e-4a46-9d28-0ed8202e6407\",\"subtype\":\"Chart\",\"type\":\"Plot\"}},\"id\":\"81204712-a28c-42e4-8be9-7db6a588edf0\",\"type\":\"ResetTool\"},{\"attributes\":{\"plot\":{\"id\":\"6526a20f-d8e0-4837-9755-7e6f8f686fe6\",\"subtype\":\"Chart\",\"type\":\"Plot\"}},\"id\":\"609a19f9-addc-484c-b976-44e1f10ffd90\",\"type\":\"ResetTool\"},{\"attributes\":{\"axis_label\":\"Date\",\"formatter\":{\"id\":\"277c91fd-2b05-40d4-8da6-c3aea5aa5800\",\"type\":\"DatetimeTickFormatter\"},\"plot\":{\"id\":\"97f73de6-f532-43eb-970d-5624d5c1c640\",\"subtype\":\"Chart\",\"type\":\"Plot\"},\"ticker\":{\"id\":\"4dd8ad78-f30c-4052-b043-e3c57e0e023a\",\"type\":\"DatetimeTicker\"}},\"id\":\"21344ac2-809f-44f4-8623-0b77f158c0c6\",\"type\":\"DatetimeAxis\"},{\"attributes\":{\"overlay\":{\"id\":\"12f14ad3-f278-4e42-b8b0-f4e8cebf4a76\",\"type\":\"BoxAnnotation\"},\"plot\":{\"id\":\"6526a20f-d8e0-4837-9755-7e6f8f686fe6\",\"subtype\":\"Chart\",\"type\":\"Plot\"}},\"id\":\"444098c1-12a1-41fd-9bac-8136d3d8ae38\",\"type\":\"BoxZoomTool\"},{\"attributes\":{\"base\":60,\"mantissas\":[1,2,5,10,15,20,30],\"max_interval\":1800000.0,\"min_interval\":1000.0,\"num_minor_ticks\":0},\"id\":\"40042be6-068c-43c3-8e65-a1cb1383d6cd\",\"type\":\"AdaptiveTicker\"},{\"attributes\":{\"line_color\":{\"value\":\"#f22c40\"},\"line_width\":{\"value\":2},\"x\":{\"field\":\"x_values\"},\"y\":{\"field\":\"y_values\"}},\"id\":\"87f30baf-5676-4096-823d-6fc865b4100f\",\"type\":\"Line\"},{\"attributes\":{\"months\":[0,4,8]},\"id\":\"e79e75db-0628-40f2-97cb-5edbd4e1c815\",\"type\":\"MonthsTicker\"},{\"attributes\":{\"axis_label\":\"Date\",\"formatter\":{\"id\":\"5850cc7c-4c86-40d2-8c16-bcc6901f4468\",\"type\":\"DatetimeTickFormatter\"},\"plot\":{\"id\":\"6526a20f-d8e0-4837-9755-7e6f8f686fe6\",\"subtype\":\"Chart\",\"type\":\"Plot\"},\"ticker\":{\"id\":\"7f1d3fb6-d305-43e6-b236-67b99779536c\",\"type\":\"DatetimeTicker\"}},\"id\":\"f6667a74-a6e8-4dad-b16e-80c028c4c945\",\"type\":\"DatetimeAxis\"},{\"attributes\":{\"active_drag\":\"auto\",\"active_scroll\":\"auto\",\"active_tap\":\"auto\",\"tools\":[{\"id\":\"cbe6b6fc-6a0e-459d-b7fc-fa527d9a9ab0\",\"type\":\"PanTool\"},{\"id\":\"d6702f5b-f2e2-4e97-bbbb-fb03724aaafb\",\"type\":\"WheelZoomTool\"},{\"id\":\"0009343a-1493-480d-8d00-d54f7d60e72a\",\"type\":\"BoxZoomTool\"},{\"id\":\"0d2abe8d-4d94-401f-8e6d-d21f2e43f51b\",\"type\":\"SaveTool\"},{\"id\":\"adb57ccc-f5b9-4a1d-812b-547374452375\",\"type\":\"ResetTool\"},{\"id\":\"e25defdc-894a-4af1-918a-d6c21f27492f\",\"type\":\"HelpTool\"}]},\"id\":\"c96b41ec-1c04-4138-95fd-e5020e39b9e3\",\"type\":\"Toolbar\"},{\"attributes\":{\"callback\":null,\"end\":19.71764705882353},\"id\":\"aa620aa0-1390-4e6e-86b5-52e90aaa118e\",\"type\":\"Range1d\"},{\"attributes\":{\"months\":[0,6]},\"id\":\"c4dce85a-1106-4b17-8cce-92f558c26cf2\",\"type\":\"MonthsTicker\"},{\"attributes\":{\"overlay\":{\"id\":\"26edd794-6bcb-44e8-984a-7ffca57c71e0\",\"type\":\"BoxAnnotation\"},\"plot\":{\"id\":\"2973de4c-853e-4a46-9d28-0ed8202e6407\",\"subtype\":\"Chart\",\"type\":\"Plot\"}},\"id\":\"ac4de253-b917-42e7-9e3e-1d0a15da77ad\",\"type\":\"BoxZoomTool\"},{\"attributes\":{\"plot\":{\"id\":\"97f73de6-f532-43eb-970d-5624d5c1c640\",\"subtype\":\"Chart\",\"type\":\"Plot\"}},\"id\":\"e25defdc-894a-4af1-918a-d6c21f27492f\",\"type\":\"HelpTool\"},{\"attributes\":{\"callback\":null,\"column_names\":[\"x_values\",\"y_values\"],\"data\":{\"chart_index\":[{\"series\":\"schneehoehe\"},{\"series\":\"schneehoehe\"},{\"series\":\"schneehoehe\"},{\"series\":\"schneehoehe\"},{\"series\":\"schneehoehe\"},{\"series\":\"schneehoehe\"},{\"series\":\"schneehoehe\"},{\"series\":\"schneehoehe\"},{\"series\":\"schneehoehe\"},{\"series\":\"schneehoehe\"},{\"series\":\"schneehoehe\"},{\"series\":\"schneehoehe\"},{\"series\":\"schneehoehe\"},{\"series\":\"schneehoehe\"},{\"series\":\"schneehoehe\"},{\"series\":\"schneehoehe\"},{\"series\":\"schneehoehe\"},{\"series\":\"schneehoehe\"},{\"series\":\"schneehoehe\"},{\"series\":\"schneehoehe\"},{\"series\":\"schneehoehe\"},{\"series\":\"schneehoehe\"},{\"series\":\"schneehoehe\"},{\"series\":\"schneehoehe\"},{\"series\":\"schneehoehe\"},{\"series\":\"schneehoehe\"},{\"series\":\"schneehoehe\"},{\"series\":\"schneehoehe\"},{\"series\":\"schneehoehe\"},{\"series\":\"schneehoehe\"},{\"series\":\"schneehoehe\"},{\"series\":\"schneehoehe\"},{\"series\":\"schneehoehe\"},{\"series\":\"schneehoehe\"},{\"series\":\"schneehoehe\"},{\"series\":\"schneehoehe\"},{\"series\":\"schneehoehe\"},{\"series\":\"schneehoehe\"},{\"series\":\"schneehoehe\"},{\"series\":\"schneehoehe\"},{\"series\":\"schneehoehe\"},{\"series\":\"schneehoehe\"},{\"series\":\"schneehoehe\"},{\"series\":\"schneehoehe\"},{\"series\":\"schneehoehe\"},{\"series\":\"schneehoehe\"},{\"series\":\"schneehoehe\"},{\"series\":\"schneehoehe\"},{\"series\":\"schneehoehe\"},{\"series\":\"schneehoehe\"},{\"series\":\"schneehoehe\"},{\"series\":\"schneehoehe\"},{\"series\":\"schneehoehe\"}],\"series\":[\"schneehoehe\",\"schneehoehe\",\"schneehoehe\",\"schneehoehe\",\"schneehoehe\",\"schneehoehe\",\"schneehoehe\",\"schneehoehe\",\"schneehoehe\",\"schneehoehe\",\"schneehoehe\",\"schneehoehe\",\"schneehoehe\",\"schneehoehe\",\"schneehoehe\",\"schneehoehe\",\"schneehoehe\",\"schneehoehe\",\"schneehoehe\",\"schneehoehe\",\"schneehoehe\",\"schneehoehe\",\"schneehoehe\",\"schneehoehe\",\"schneehoehe\",\"schneehoehe\",\"schneehoehe\",\"schneehoehe\",\"schneehoehe\",\"schneehoehe\",\"schneehoehe\",\"schneehoehe\",\"schneehoehe\",\"schneehoehe\",\"schneehoehe\",\"schneehoehe\",\"schneehoehe\",\"schneehoehe\",\"schneehoehe\",\"schneehoehe\",\"schneehoehe\",\"schneehoehe\",\"schneehoehe\",\"schneehoehe\",\"schneehoehe\",\"schneehoehe\",\"schneehoehe\",\"schneehoehe\",\"schneehoehe\",\"schneehoehe\",\"schneehoehe\",\"schneehoehe\",\"schneehoehe\"],\"x_values\":[-220924800000.0,-189388800000.0,-157766400000.0,-126230400000.0,-94694400000.0,-63158400000.0,-31536000000.0,0.0,31536000000.0,63072000000.0,94694400000.0,126230400000.0,157766400000.0,189302400000.0,220924800000.0,252460800000.0,283996800000.0,315532800000.0,347155200000.0,378691200000.0,410227200000.0,441763200000.0,473385600000.0,504921600000.0,536457600000.0,567993600000.0,599616000000.0,631152000000.0,662688000000.0,694224000000.0,725846400000.0,757382400000.0,788918400000.0,820454400000.0,852076800000.0,883612800000.0,915148800000.0,946684800000.0,978307200000.0,1009843200000.0,1041379200000.0,1072915200000.0,1104537600000.0,1136073600000.0,1167609600000.0,1199145600000.0,1230768000000.0,1262304000000.0,1293840000000.0,1325376000000.0,1356998400000.0,1388534400000.0,1420070400000.0],\"y_values\":[9.122222222222222,1.4395604395604396,0.6666666666666666,4.155555555555556,0.8777777777777778,2.4945054945054945,4.733333333333333,6.355555555555555,1.8,0.6043956043956044,1.0,0.12222222222222222,0.011111111111111112,1.3406593406593406,0.3333333333333333,0.9444444444444444,13.71111111111111,3.2527472527472527,4.677777777777778,0.6888888888888889,1.4777777777777779,0.3626373626373626,3.4,3.3555555555555556,5.888888888888889,0.5054945054945055,0.0,0.7555555555555555,2.2777777777777777,0.06593406593406594,0.8111111111111111,0.3111111111111111,1.1222222222222222,1.2747252747252746,0.5666666666666667,0.9444444444444444,0.6555555555555556,1.2747252747252746,1.0666666666666667,0.1,0.8,0.5494505494505495,2.5,1.988888888888889,0.2777777777777778,0.17582417582417584,2.1222222222222222,16.133333333333333,1.1888888888888889,1.3846153846153846,1.3888888888888888,0.9888888888888889,0.3111111111111111]}},\"id\":\"d059fcfa-6b07-497e-a89c-1f899ccd8675\",\"type\":\"ColumnDataSource\"},{\"attributes\":{\"days\":[1,8,15,22]},\"id\":\"1bf2ee39-e2b1-4706-961b-b9430e033c4a\",\"type\":\"DaysTicker\"},{\"attributes\":{\"days\":[1,4,7,10,13,16,19,22,25,28]},\"id\":\"cd3d8f9a-195a-46f3-bc37-03e28ccc9672\",\"type\":\"DaysTicker\"},{\"attributes\":{\"callback\":null,\"end\":19.71764705882353},\"id\":\"9d88e4fc-1a49-4109-b9d9-bbf096e93322\",\"type\":\"Range1d\"},{\"attributes\":{\"months\":[0,4,8]},\"id\":\"455a8221-c76f-4484-8614-a4cdc27e75ff\",\"type\":\"MonthsTicker\"},{\"attributes\":{\"plot\":null,\"text\":\"Berlin-Tegel\"},\"id\":\"9b8ec8e6-e81a-4457-a044-cb711350a421\",\"type\":\"Title\"},{\"attributes\":{},\"id\":\"0b43c9c2-e880-4d12-852f-707248644cb2\",\"type\":\"ToolEvents\"},{\"attributes\":{\"children\":[{\"id\":\"dda1c7d3-56bf-4516-9151-39b52e793d55\",\"type\":\"Row\"}]},\"id\":\"6355be01-460e-49bd-862f-dbdc8206d058\",\"type\":\"Column\"},{\"attributes\":{},\"id\":\"811cba4a-a580-46a7-a96f-9a773518bab1\",\"type\":\"ToolEvents\"},{\"attributes\":{},\"id\":\"72cebe8b-e10c-42cc-936f-64ceee4fc411\",\"type\":\"ToolEvents\"},{\"attributes\":{},\"id\":\"371facb2-d285-463c-8d4b-af28f657d0ca\",\"type\":\"YearsTicker\"},{\"attributes\":{\"months\":[0,1,2,3,4,5,6,7,8,9,10,11]},\"id\":\"674077f9-7fca-499f-9d60-2b963d517186\",\"type\":\"MonthsTicker\"},{\"attributes\":{},\"id\":\"08a33aa0-93ea-4e1c-aaa7-096a64a4217b\",\"type\":\"BasicTicker\"},{\"attributes\":{\"days\":[1,8,15,22]},\"id\":\"7e60d4f7-2e5b-468b-ae04-e4f826831b2a\",\"type\":\"DaysTicker\"},{\"attributes\":{},\"id\":\"1e6351d9-1849-4668-b28f-7838a25cf286\",\"type\":\"BasicTickFormatter\"},{\"attributes\":{\"axis_label\":\"Schneehoehe (cm)\",\"formatter\":{\"id\":\"a13ad7a2-0962-4c49-9fe0-5ccc93d30ca6\",\"type\":\"BasicTickFormatter\"},\"plot\":{\"id\":\"2973de4c-853e-4a46-9d28-0ed8202e6407\",\"subtype\":\"Chart\",\"type\":\"Plot\"},\"ticker\":{\"id\":\"08a33aa0-93ea-4e1c-aaa7-096a64a4217b\",\"type\":\"BasicTicker\"}},\"id\":\"33c7bf87-c2a6-4313-a613-d9a06ca9aeef\",\"type\":\"LinearAxis\"},{\"attributes\":{\"base\":60,\"mantissas\":[1,2,5,10,15,20,30],\"max_interval\":1800000.0,\"min_interval\":1000.0,\"num_minor_ticks\":0},\"id\":\"70916d4f-c790-455d-98ff-91cac5a190ca\",\"type\":\"AdaptiveTicker\"},{\"attributes\":{\"days\":[1,15]},\"id\":\"a83ff701-6577-4460-94ee-a1667771be51\",\"type\":\"DaysTicker\"},{\"attributes\":{\"max_interval\":500.0,\"num_minor_ticks\":0},\"id\":\"74627a4a-92ea-4924-9ba4-9a866d108a39\",\"type\":\"AdaptiveTicker\"},{\"attributes\":{\"overlay\":{\"id\":\"ee3b019d-0125-43ac-850d-887d73f29986\",\"type\":\"BoxAnnotation\"},\"plot\":{\"id\":\"97f73de6-f532-43eb-970d-5624d5c1c640\",\"subtype\":\"Chart\",\"type\":\"Plot\"}},\"id\":\"0009343a-1493-480d-8d00-d54f7d60e72a\",\"type\":\"BoxZoomTool\"},{\"attributes\":{\"plot\":{\"id\":\"97f73de6-f532-43eb-970d-5624d5c1c640\",\"subtype\":\"Chart\",\"type\":\"Plot\"}},\"id\":\"adb57ccc-f5b9-4a1d-812b-547374452375\",\"type\":\"ResetTool\"},{\"attributes\":{\"plot\":{\"id\":\"97f73de6-f532-43eb-970d-5624d5c1c640\",\"subtype\":\"Chart\",\"type\":\"Plot\"}},\"id\":\"d6702f5b-f2e2-4e97-bbbb-fb03724aaafb\",\"type\":\"WheelZoomTool\"}],\"root_ids\":[\"b629a588-db2a-4518-af8f-87b45ddae4c5\"]},\"title\":\"Bokeh Application\",\"version\":\"0.12.2\"}};\n",
       "            var render_items = [{\"docid\":\"268c50ed-9b12-4eec-929d-100cbf19598f\",\"elementid\":\"4ed9328a-a68b-41ed-af79-14e3b5620ad1\",\"modelid\":\"b629a588-db2a-4518-af8f-87b45ddae4c5\"}];\n",
       "            \n",
       "            Bokeh.embed.embed_items(docs_json, render_items);\n",
       "        });\n",
       "      },\n",
       "      function(Bokeh) {\n",
       "      }\n",
       "    ];\n",
       "  \n",
       "    function run_inline_js() {\n",
       "      \n",
       "      if ((window.Bokeh !== undefined) || (force === \"1\")) {\n",
       "        for (var i = 0; i < inline_js.length; i++) {\n",
       "          inline_js[i](window.Bokeh);\n",
       "        }if (force === \"1\") {\n",
       "          display_loaded();\n",
       "        }} else if (Date.now() < window._bokeh_timeout) {\n",
       "        setTimeout(run_inline_js, 100);\n",
       "      } else if (!window._bokeh_failed_load) {\n",
       "        console.log(\"Bokeh: BokehJS failed to load within specified timeout.\");\n",
       "        window._bokeh_failed_load = true;\n",
       "      } else if (!force) {\n",
       "        var cell = $(\"#4ed9328a-a68b-41ed-af79-14e3b5620ad1\").parents('.cell').data().cell;\n",
       "        cell.output_area.append_execute_result(NB_LOAD_WARNING)\n",
       "      }\n",
       "  \n",
       "    }\n",
       "  \n",
       "    if (window._bokeh_is_loading === 0) {\n",
       "      console.log(\"Bokeh: BokehJS loaded, going straight to plotting\");\n",
       "      run_inline_js();\n",
       "    } else {\n",
       "      load_libs(js_urls, function() {\n",
       "        console.log(\"Bokeh: BokehJS plotting callback run at\", now());\n",
       "        run_inline_js();\n",
       "      });\n",
       "    }\n",
       "  }(this));\n",
       "</script>"
      ]
     },
     "metadata": {},
     "output_type": "display_data"
    }
   ],
   "source": [
    "# given a list of stations, retrieve the data for each station, and plot snowcover together\n",
    "\n",
    "# retrieve the data \n",
    "station_list = ['Dillenburg','Kiel-Holtenau','Berlin-Tegel']\n",
    "Dlist = [station_data_to_dataframe(station,['schneehoehe']) for station in station_list]\n",
    "Dbig = pd.concat(Dlist)\n",
    "\n",
    "# grid plot configuration \n",
    "plot_options = dict(plot_width=300, plot_height=300,\n",
    "                   tools=\"pan,wheel_zoom,box_zoom,box_select\",\n",
    "                  )\n",
    "\n",
    "# loop over stations and create plots \n",
    "plotlist = [create_tseries_per_station(D,station) for D,station in zip(Dlist,station_list)]\n",
    "\n",
    "# give them all the same x- andd y-ranges\n",
    "from bokeh.models import Range1d\n",
    "for s in plotlist:\n",
    "    s.y_range=Range1d(Dbig.schneehoehe.min(),Dbig.schneehoehe.max())\n",
    "    s.x_range=Range1d(Dbig.index[0],Dbig.index[len(Dbig.index)-1])\n",
    "\n",
    "# apply the plots to the grid and show it \n",
    "grid = gridplot(plotlist, ncols=3,**plot_options)\n",
    "show(grid)\n",
    "\n"
   ]
  },
  {
   "cell_type": "code",
   "execution_count": 14,
   "metadata": {
    "collapsed": false
   },
   "outputs": [
    {
     "data": {
      "text/plain": [
       "[<bokeh.charts.chart.Chart at 0x7f41b2a8bfd0>,\n",
       " <bokeh.charts.chart.Chart at 0x7f41b2caf7f0>,\n",
       " <bokeh.charts.chart.Chart at 0x7f41b2a8cac8>]"
      ]
     },
     "execution_count": 14,
     "metadata": {},
     "output_type": "execute_result"
    }
   ],
   "source": [
    "plotlist"
   ]
  },
  {
   "cell_type": "markdown",
   "metadata": {},
   "source": [
    "## Comparing stations - comments & ideas  \n",
    "\n",
    "+ it's hard for a layperson viewer to put in a list of stations \n",
    "+ would be cool if you could click on a peak and get a google image for that city and that winter "
   ]
  },
  {
   "cell_type": "markdown",
   "metadata": {},
   "source": [
    "# Visualization 2: Single bundesland average vs. individual cities \n",
    "\n",
    "This plot would give a more averaged view, but also show how single stations deviate from one another. \n"
   ]
  },
  {
   "cell_type": "code",
   "execution_count": 6,
   "metadata": {
    "collapsed": false
   },
   "outputs": [],
   "source": [
    "# Function to plot the timeseries of one of the variables over a given Bundesland\n",
    "def plot_timeseries_by_bundesland(Bundesland,variable,Nstations=None,debug=False):\n",
    "\n",
    "    # bokeh extras\n",
    "    from bokeh.models import Range1d,HoverTool,ColumnDataSource\n",
    "\n",
    "    # read in station data as a dataframe \n",
    "    S = read_station_metadata()\n",
    "    \n",
    "    # find the stations that are in the requested bundesland\n",
    "    stationdata_bundesland=S[S[\"Bundesland\"]==Bundesland]\n",
    "    # limit the number of stations, so that the figure isn't too big, by  \n",
    "    # randomly choosing some stations \n",
    "    if Nstations is not None:\n",
    "        Nsample = min(Nstations,len(stationdata_bundesland))\n",
    "        stationdata_bundesland=stationdata_bundesland.sample(n=Nsample)\n",
    "    station_list = list(stationdata_bundesland['Stationsname'].values)  \n",
    "    if debug:\n",
    "        print(station_list)\n",
    "\n",
    "    # read in the data and create a big dataframe \n",
    "    for station in station_list:\n",
    "        try:\n",
    "            station_data_to_dataframe(station,[variable])\n",
    "        except OSError:\n",
    "            print(station)\n",
    "    Dlist = [station_data_to_dataframe(station,[variable]) for station in station_list]\n",
    "    Dbig = pd.concat(Dlist)\n",
    "    data = Dbig.reset_index().pivot(index='Date',columns='Station',values=variable)\n",
    "    if debug:\n",
    "        print(data.head(5))\n",
    "    \n",
    "    hover = HoverTool(tooltips=[(\"Winter:\", \"@DateStr\"),(\"Station:\",\"@Station\"),(variable+\":\",\"$y\")])\n",
    "    from palettable.wesanderson import GrandBudapest3_6 as bmap\n",
    "    \n",
    "    p = figure(\n",
    "        plot_width=800, \n",
    "        plot_height=400, \n",
    "        x_axis_type=\"datetime\")\n",
    "\n",
    "    for station, df in Dbig.reset_index().groupby('Station'):\n",
    "        source = ColumnDataSource(df[['Date', variable,'Station']])\n",
    "        source.add(df.Date.map(lambda x: x.strftime('%Y')), 'DateStr')\n",
    "        color = \"blue\" \n",
    "        p.line(x='Date', y=variable, color=bmap.hex_colors[1], legend=False,\n",
    "               line_width=2, alpha=0.5,\n",
    "               hover_color=bmap.hex_colors[2],hover_alpha=1.0,\n",
    "               source=source)\n",
    "    p.add_tools(hover)\n",
    "\n",
    "    p.xaxis.axis_label = \"Datum\"\n",
    "    p.yaxis.axis_label = variable\n",
    "    p.legend.location = \"top_left\"\n",
    "    p.title.text = Bundesland+' '+variable\n",
    "    \n",
    "\n",
    "    d0 = pd.tslib.Timestamp('1938-01-01 00:00:00')\n",
    "    df = pd.tslib.Timestamp('2015-01-01 00:00:00')\n",
    "    p.x_range=Range1d(d0,df)\n",
    "\n",
    "    return(p)"
   ]
  },
  {
   "cell_type": "code",
   "execution_count": 9,
   "metadata": {
    "collapsed": false
   },
   "outputs": [
    {
     "name": "stdout",
     "output_type": "stream",
     "text": [
      "Unable to find data for station Weilburg(Kläranlage)\n",
      "Unable to find data for station Weilburg(Kläranlage)\n"
     ]
    },
    {
     "data": {
      "text/html": [
       "\n",
       "\n",
       "    <div class=\"bk-root\">\n",
       "        <div class=\"plotdiv\" id=\"d5c9c11a-c284-490b-802a-f170cbd6e458\"></div>\n",
       "    </div>\n",
       "<script type=\"text/javascript\">\n",
       "  \n",
       "  (function(global) {\n",
       "    function now() {\n",
       "      return new Date();\n",
       "    }\n",
       "  \n",
       "    var force = \"\";\n",
       "  \n",
       "    if (typeof (window._bokeh_onload_callbacks) === \"undefined\" || force !== \"\") {\n",
       "      window._bokeh_onload_callbacks = [];\n",
       "      window._bokeh_is_loading = undefined;\n",
       "    }\n",
       "  \n",
       "  \n",
       "    \n",
       "    if (typeof (window._bokeh_timeout) === \"undefined\" || force !== \"\") {\n",
       "      window._bokeh_timeout = Date.now() + 0;\n",
       "      window._bokeh_failed_load = false;\n",
       "    }\n",
       "  \n",
       "    var NB_LOAD_WARNING = {'data': {'text/html':\n",
       "       \"<div style='background-color: #fdd'>\\n\"+\n",
       "       \"<p>\\n\"+\n",
       "       \"BokehJS does not appear to have successfully loaded. If loading BokehJS from CDN, this \\n\"+\n",
       "       \"may be due to a slow or bad network connection. Possible fixes:\\n\"+\n",
       "       \"</p>\\n\"+\n",
       "       \"<ul>\\n\"+\n",
       "       \"<li>re-rerun `output_notebook()` to attempt to load from CDN again, or</li>\\n\"+\n",
       "       \"<li>use INLINE resources instead, as so:</li>\\n\"+\n",
       "       \"</ul>\\n\"+\n",
       "       \"<code>\\n\"+\n",
       "       \"from bokeh.resources import INLINE\\n\"+\n",
       "       \"output_notebook(resources=INLINE)\\n\"+\n",
       "       \"</code>\\n\"+\n",
       "       \"</div>\"}};\n",
       "  \n",
       "    function display_loaded() {\n",
       "      if (window.Bokeh !== undefined) {\n",
       "        Bokeh.$(\"#d5c9c11a-c284-490b-802a-f170cbd6e458\").text(\"BokehJS successfully loaded.\");\n",
       "      } else if (Date.now() < window._bokeh_timeout) {\n",
       "        setTimeout(display_loaded, 100)\n",
       "      }\n",
       "    }\n",
       "  \n",
       "    function run_callbacks() {\n",
       "      window._bokeh_onload_callbacks.forEach(function(callback) { callback() });\n",
       "      delete window._bokeh_onload_callbacks\n",
       "      console.info(\"Bokeh: all callbacks have finished\");\n",
       "    }\n",
       "  \n",
       "    function load_libs(js_urls, callback) {\n",
       "      window._bokeh_onload_callbacks.push(callback);\n",
       "      if (window._bokeh_is_loading > 0) {\n",
       "        console.log(\"Bokeh: BokehJS is being loaded, scheduling callback at\", now());\n",
       "        return null;\n",
       "      }\n",
       "      if (js_urls == null || js_urls.length === 0) {\n",
       "        run_callbacks();\n",
       "        return null;\n",
       "      }\n",
       "      console.log(\"Bokeh: BokehJS not loaded, scheduling load and callback at\", now());\n",
       "      window._bokeh_is_loading = js_urls.length;\n",
       "      for (var i = 0; i < js_urls.length; i++) {\n",
       "        var url = js_urls[i];\n",
       "        var s = document.createElement('script');\n",
       "        s.src = url;\n",
       "        s.async = false;\n",
       "        s.onreadystatechange = s.onload = function() {\n",
       "          window._bokeh_is_loading--;\n",
       "          if (window._bokeh_is_loading === 0) {\n",
       "            console.log(\"Bokeh: all BokehJS libraries loaded\");\n",
       "            run_callbacks()\n",
       "          }\n",
       "        };\n",
       "        s.onerror = function() {\n",
       "          console.warn(\"failed to load library \" + url);\n",
       "        };\n",
       "        console.log(\"Bokeh: injecting script tag for BokehJS library: \", url);\n",
       "        document.getElementsByTagName(\"head\")[0].appendChild(s);\n",
       "      }\n",
       "    };var element = document.getElementById(\"d5c9c11a-c284-490b-802a-f170cbd6e458\");\n",
       "    if (element == null) {\n",
       "      console.log(\"Bokeh: ERROR: autoload.js configured with elementid 'd5c9c11a-c284-490b-802a-f170cbd6e458' but no matching script tag was found. \")\n",
       "      return false;\n",
       "    }\n",
       "  \n",
       "    var js_urls = [];\n",
       "  \n",
       "    var inline_js = [\n",
       "      function(Bokeh) {\n",
       "        Bokeh.$(function() {\n",
       "            var docs_json = {\"029555aa-a7eb-4cda-8239-f944b4405882\":{\"roots\":{\"references\":[{\"attributes\":{\"line_color\":{\"value\":\"#E7AD9D\"},\"line_width\":{\"value\":2},\"x\":{\"field\":\"Date\"},\"y\":{\"field\":\"lufttemperatur\"}},\"id\":\"09206ada-ed8c-45ac-9854-6a741cc0e035\",\"type\":\"Line\"},{\"attributes\":{\"axis_label\":\"lufttemperatur\",\"formatter\":{\"id\":\"f3ec4717-80ae-4076-8db6-d39eaa0a39be\",\"type\":\"BasicTickFormatter\"},\"plot\":{\"id\":\"15d0248a-7906-4d6a-8632-b4d56c71ba2b\",\"subtype\":\"Figure\",\"type\":\"Plot\"},\"ticker\":{\"id\":\"06335f56-5ec0-419d-a474-49df9a0e6950\",\"type\":\"BasicTicker\"}},\"id\":\"f99414d3-10ed-42b2-b2e1-4d7bc7c9666f\",\"type\":\"LinearAxis\"},{\"attributes\":{\"callback\":null,\"column_names\":[\"Station\",\"lufttemperatur\",\"index\",\"Date\",\"DateStr\"],\"data\":{\"Date\":[-757382400000.0,-725846400000.0,-694310400000.0,-662688000000.0,-631152000000.0,-599616000000.0,-568080000000.0,-536457600000.0,-504921600000.0,-473385600000.0,-441849600000.0,-410227200000.0,-378691200000.0,-347155200000.0,-315619200000.0,-283996800000.0,-252460800000.0,-220924800000.0,-189388800000.0,-157766400000.0,-126230400000.0,-94694400000.0,-63158400000.0,-31536000000.0,0.0,31536000000.0,63072000000.0,94694400000.0,126230400000.0,157766400000.0,189302400000.0,220924800000.0,252460800000.0,283996800000.0,315532800000.0,347155200000.0,378691200000.0,410227200000.0,441763200000.0,473385600000.0,504921600000.0,536457600000.0,567993600000.0,599616000000.0,631152000000.0,662688000000.0,694224000000.0,725846400000.0,757382400000.0,788918400000.0,820454400000.0,852076800000.0,883612800000.0,915148800000.0,946684800000.0,978307200000.0,1009843200000.0,1041379200000.0,1072915200000.0,1104537600000.0,1136073600000.0,1167609600000.0,1199145600000.0,1230768000000.0,1262304000000.0,1293840000000.0,1325376000000.0,1356998400000.0,1388534400000.0,1420070400000.0],\"DateStr\":[\"1946\",\"1947\",\"1948\",\"1949\",\"1950\",\"1951\",\"1952\",\"1953\",\"1954\",\"1955\",\"1956\",\"1957\",\"1958\",\"1959\",\"1960\",\"1961\",\"1962\",\"1963\",\"1964\",\"1965\",\"1966\",\"1967\",\"1968\",\"1969\",\"1970\",\"1971\",\"1972\",\"1973\",\"1974\",\"1975\",\"1976\",\"1977\",\"1978\",\"1979\",\"1980\",\"1981\",\"1982\",\"1983\",\"1984\",\"1985\",\"1986\",\"1987\",\"1988\",\"1989\",\"1990\",\"1991\",\"1992\",\"1993\",\"1994\",\"1995\",\"1996\",\"1997\",\"1998\",\"1999\",\"2000\",\"2001\",\"2002\",\"2003\",\"2004\",\"2005\",\"2006\",\"2007\",\"2008\",\"2009\",\"2010\",\"2011\",\"2012\",\"2013\",\"2014\",\"2015\"],\"Station\":[\"C\\u00f6lbe,KR.Marburg-Biedenkopf\",\"C\\u00f6lbe,KR.Marburg-Biedenkopf\",\"C\\u00f6lbe,KR.Marburg-Biedenkopf\",\"C\\u00f6lbe,KR.Marburg-Biedenkopf\",\"C\\u00f6lbe,KR.Marburg-Biedenkopf\",\"C\\u00f6lbe,KR.Marburg-Biedenkopf\",\"C\\u00f6lbe,KR.Marburg-Biedenkopf\",\"C\\u00f6lbe,KR.Marburg-Biedenkopf\",\"C\\u00f6lbe,KR.Marburg-Biedenkopf\",\"C\\u00f6lbe,KR.Marburg-Biedenkopf\",\"C\\u00f6lbe,KR.Marburg-Biedenkopf\",\"C\\u00f6lbe,KR.Marburg-Biedenkopf\",\"C\\u00f6lbe,KR.Marburg-Biedenkopf\",\"C\\u00f6lbe,KR.Marburg-Biedenkopf\",\"C\\u00f6lbe,KR.Marburg-Biedenkopf\",\"C\\u00f6lbe,KR.Marburg-Biedenkopf\",\"C\\u00f6lbe,KR.Marburg-Biedenkopf\",\"C\\u00f6lbe,KR.Marburg-Biedenkopf\",\"C\\u00f6lbe,KR.Marburg-Biedenkopf\",\"C\\u00f6lbe,KR.Marburg-Biedenkopf\",\"C\\u00f6lbe,KR.Marburg-Biedenkopf\",\"C\\u00f6lbe,KR.Marburg-Biedenkopf\",\"C\\u00f6lbe,KR.Marburg-Biedenkopf\",\"C\\u00f6lbe,KR.Marburg-Biedenkopf\",\"C\\u00f6lbe,KR.Marburg-Biedenkopf\",\"C\\u00f6lbe,KR.Marburg-Biedenkopf\",\"C\\u00f6lbe,KR.Marburg-Biedenkopf\",\"C\\u00f6lbe,KR.Marburg-Biedenkopf\",\"C\\u00f6lbe,KR.Marburg-Biedenkopf\",\"C\\u00f6lbe,KR.Marburg-Biedenkopf\",\"C\\u00f6lbe,KR.Marburg-Biedenkopf\",\"C\\u00f6lbe,KR.Marburg-Biedenkopf\",\"C\\u00f6lbe,KR.Marburg-Biedenkopf\",\"C\\u00f6lbe,KR.Marburg-Biedenkopf\",\"C\\u00f6lbe,KR.Marburg-Biedenkopf\",\"C\\u00f6lbe,KR.Marburg-Biedenkopf\",\"C\\u00f6lbe,KR.Marburg-Biedenkopf\",\"C\\u00f6lbe,KR.Marburg-Biedenkopf\",\"C\\u00f6lbe,KR.Marburg-Biedenkopf\",\"C\\u00f6lbe,KR.Marburg-Biedenkopf\",\"C\\u00f6lbe,KR.Marburg-Biedenkopf\",\"C\\u00f6lbe,KR.Marburg-Biedenkopf\",\"C\\u00f6lbe,KR.Marburg-Biedenkopf\",\"C\\u00f6lbe,KR.Marburg-Biedenkopf\",\"C\\u00f6lbe,KR.Marburg-Biedenkopf\",\"C\\u00f6lbe,KR.Marburg-Biedenkopf\",\"C\\u00f6lbe,KR.Marburg-Biedenkopf\",\"C\\u00f6lbe,KR.Marburg-Biedenkopf\",\"C\\u00f6lbe,KR.Marburg-Biedenkopf\",\"C\\u00f6lbe,KR.Marburg-Biedenkopf\",\"C\\u00f6lbe,KR.Marburg-Biedenkopf\",\"C\\u00f6lbe,KR.Marburg-Biedenkopf\",\"C\\u00f6lbe,KR.Marburg-Biedenkopf\",\"C\\u00f6lbe,KR.Marburg-Biedenkopf\",\"C\\u00f6lbe,KR.Marburg-Biedenkopf\",\"C\\u00f6lbe,KR.Marburg-Biedenkopf\",\"C\\u00f6lbe,KR.Marburg-Biedenkopf\",\"C\\u00f6lbe,KR.Marburg-Biedenkopf\",\"C\\u00f6lbe,KR.Marburg-Biedenkopf\",\"C\\u00f6lbe,KR.Marburg-Biedenkopf\",\"C\\u00f6lbe,KR.Marburg-Biedenkopf\",\"C\\u00f6lbe,KR.Marburg-Biedenkopf\",\"C\\u00f6lbe,KR.Marburg-Biedenkopf\",\"C\\u00f6lbe,KR.Marburg-Biedenkopf\",\"C\\u00f6lbe,KR.Marburg-Biedenkopf\",\"C\\u00f6lbe,KR.Marburg-Biedenkopf\",\"C\\u00f6lbe,KR.Marburg-Biedenkopf\",\"C\\u00f6lbe,KR.Marburg-Biedenkopf\",\"C\\u00f6lbe,KR.Marburg-Biedenkopf\",\"C\\u00f6lbe,KR.Marburg-Biedenkopf\"],\"index\":[230,231,232,233,234,235,236,237,238,239,240,241,242,243,244,245,246,247,248,249,250,251,252,253,254,255,256,257,258,259,260,261,262,263,264,265,266,267,268,269,270,271,272,273,274,275,276,277,278,279,280,281,282,283,284,285,286,287,288,289,290,291,292,293,294,295,296,297,298,299],\"lufttemperatur\":[-0.4933333333333332,-2.5011111111111086,1.8329670329670325,1.8766666666666674,-0.006666666666666426,2.346666666666668,0.053846153846153794,0.8966666666666672,-0.47444444444444384,-0.564444444444444,-1.754945054945055,1.5233333333333332,1.7699999999999998,1.1044444444444443,0.7769230769230773,1.1122222222222224,-0.18666666666666698,-5.208888888888889,-0.3230769230769227,1.5977777777777782,2.13,2.3599999999999994,0.08461538461538466,-0.8611111111111108,-0.16555555555555557,1.8166666666666669,0.8769230769230765,0.9988888888888889,4.633333333333334,2.9777777777777783,1.2846153846153847,2.602222222222222,0.9355555555555557,-0.34777777777777685,1.1329670329670325,-1.0266666666666668,0.1744444444444442,1.5755555555555554,1.8208791208791208,-1.1144444444444441,-0.2055555555555558,-0.6666666666666672,3.78131868131868,2.8511111111111114,3.373333333333335,\"NaN\",\"NaN\",3.861290322580646,2.761111111111112,1.3866666666666665,-1.9241758241758236,1.1900000000000002,2.5733333333333333,2.5655555555555556,2.9966666666666675,\"NaN\",\"NaN\",\"NaN\",\"NaN\",\"NaN\",4.464516129032258,3.783333333333333,2.656043956043957,-0.43000000000000005,-1.9966666666666673,2.686666666666667,1.4769230769230768,1.7066666666666666,3.7500000000000004,3.6633333333333318]}},\"id\":\"09181002-971b-4289-9742-04a176fdf3b7\",\"type\":\"ColumnDataSource\"},{\"attributes\":{\"data_source\":{\"id\":\"0e22ce29-3fad-4f3e-8184-1f102c8a111d\",\"type\":\"ColumnDataSource\"},\"glyph\":{\"id\":\"95e91d67-51eb-4529-9d44-a256d907f304\",\"type\":\"Line\"},\"hover_glyph\":{\"id\":\"4c9c52af-54bb-4d12-98b4-4d90197aa735\",\"type\":\"Line\"},\"nonselection_glyph\":{\"id\":\"85bf3e19-dbfd-4c18-9c63-e9e230c39030\",\"type\":\"Line\"},\"selection_glyph\":null},\"id\":\"75b436cf-dc1b-48b8-9e95-0a0ceff101d7\",\"type\":\"GlyphRenderer\"},{\"attributes\":{\"num_minor_ticks\":5},\"id\":\"96134625-3e50-4f4e-ad3c-c7231b0a4550\",\"type\":\"DatetimeTicker\"},{\"attributes\":{\"base\":60,\"mantissas\":[1,2,5,10,15,20,30],\"max_interval\":1800000.0,\"min_interval\":1000.0,\"num_minor_ticks\":0},\"id\":\"ebb51414-a2e4-4355-aa43-310b497cb352\",\"type\":\"AdaptiveTicker\"},{\"attributes\":{\"line_alpha\":{\"value\":0.5},\"line_color\":{\"value\":\"#253845\"},\"line_width\":{\"value\":2},\"x\":{\"field\":\"Date\"},\"y\":{\"field\":\"lufttemperatur\"}},\"id\":\"bea47289-c9f8-4d11-b59f-cac0bee61982\",\"type\":\"Line\"},{\"attributes\":{\"days\":[1,2,3,4,5,6,7,8,9,10,11,12,13,14,15,16,17,18,19,20,21,22,23,24,25,26,27,28,29,30,31]},\"id\":\"0f9800df-b48b-42b3-8965-5b91d81763d8\",\"type\":\"DaysTicker\"},{\"attributes\":{\"callback\":null,\"column_names\":[\"Station\",\"lufttemperatur\",\"index\",\"Date\",\"DateStr\"],\"data\":{\"Date\":[536457600000.0,567993600000.0,599616000000.0,631152000000.0,662688000000.0,694224000000.0,725846400000.0,757382400000.0,788918400000.0,820454400000.0,852076800000.0,883612800000.0,915148800000.0,946684800000.0,978307200000.0,1009843200000.0,1041379200000.0,1072915200000.0,1104537600000.0,1136073600000.0,1167609600000.0,1199145600000.0,1230768000000.0,1262304000000.0,1293840000000.0,1325376000000.0,1356998400000.0,1388534400000.0,1420070400000.0],\"DateStr\":[\"1987\",\"1988\",\"1989\",\"1990\",\"1991\",\"1992\",\"1993\",\"1994\",\"1995\",\"1996\",\"1997\",\"1998\",\"1999\",\"2000\",\"2001\",\"2002\",\"2003\",\"2004\",\"2005\",\"2006\",\"2007\",\"2008\",\"2009\",\"2010\",\"2011\",\"2012\",\"2013\",\"2014\",\"2015\"],\"Station\":[\"Wiesbaden-Auringen\",\"Wiesbaden-Auringen\",\"Wiesbaden-Auringen\",\"Wiesbaden-Auringen\",\"Wiesbaden-Auringen\",\"Wiesbaden-Auringen\",\"Wiesbaden-Auringen\",\"Wiesbaden-Auringen\",\"Wiesbaden-Auringen\",\"Wiesbaden-Auringen\",\"Wiesbaden-Auringen\",\"Wiesbaden-Auringen\",\"Wiesbaden-Auringen\",\"Wiesbaden-Auringen\",\"Wiesbaden-Auringen\",\"Wiesbaden-Auringen\",\"Wiesbaden-Auringen\",\"Wiesbaden-Auringen\",\"Wiesbaden-Auringen\",\"Wiesbaden-Auringen\",\"Wiesbaden-Auringen\",\"Wiesbaden-Auringen\",\"Wiesbaden-Auringen\",\"Wiesbaden-Auringen\",\"Wiesbaden-Auringen\",\"Wiesbaden-Auringen\",\"Wiesbaden-Auringen\",\"Wiesbaden-Auringen\",\"Wiesbaden-Auringen\"],\"index\":[602,603,604,605,606,607,608,609,610,611,612,613,614,615,616,617,618,619,620,621,622,623,624,625,626,627,628,629,630],\"lufttemperatur\":[2.238709677419355,3.339560439560439,2.466666666666667,2.628888888888888,0.20666666666666672,1.8681318681318682,1.7255555555555564,2.668888888888889,1.4477777777777778,-1.1769230769230774,1.3566666666666667,2.364444444444444,1.872222222222223,2.7934065934065937,1.6899999999999986,2.6177777777777766,0.7800000000000001,1.240659340659341,0.9266666666666671,0.9666666666666667,3.5744444444444454,2.760439560439561,-0.13666666666666694,-1.875555555555554,2.291111111111111,1.123076923076923,1.2633333333333334,3.401111111111112,3.208888888888888]}},\"id\":\"33a2c152-8833-4741-b9d9-9f98c5e0a274\",\"type\":\"ColumnDataSource\"},{\"attributes\":{},\"id\":\"f3ec4717-80ae-4076-8db6-d39eaa0a39be\",\"type\":\"BasicTickFormatter\"},{\"attributes\":{\"dimension\":1,\"plot\":{\"id\":\"15d0248a-7906-4d6a-8632-b4d56c71ba2b\",\"subtype\":\"Figure\",\"type\":\"Plot\"},\"ticker\":{\"id\":\"06335f56-5ec0-419d-a474-49df9a0e6950\",\"type\":\"BasicTicker\"}},\"id\":\"d7dd347f-1820-4a13-98b7-9bc8ce9d60bc\",\"type\":\"Grid\"},{\"attributes\":{\"line_alpha\":{\"value\":0.1},\"line_color\":{\"value\":\"#1f77b4\"},\"line_width\":{\"value\":2},\"x\":{\"field\":\"Date\"},\"y\":{\"field\":\"lufttemperatur\"}},\"id\":\"e711f492-0599-41b9-8203-3781a76b2274\",\"type\":\"Line\"},{\"attributes\":{\"data_source\":{\"id\":\"64eed796-48a1-4c70-bb94-e66fcd0c952e\",\"type\":\"ColumnDataSource\"},\"glyph\":{\"id\":\"269f8e5e-1087-4307-846f-f77c1737c3a6\",\"type\":\"Line\"},\"hover_glyph\":{\"id\":\"bc4a8194-0e41-4438-a63f-a6f6580a3375\",\"type\":\"Line\"},\"nonselection_glyph\":{\"id\":\"6af61f3d-4ba4-46cd-9524-62bb41c526fa\",\"type\":\"Line\"},\"selection_glyph\":null},\"id\":\"82d6ac81-1eac-415d-939e-0a2db59eef45\",\"type\":\"GlyphRenderer\"},{\"attributes\":{\"callback\":null,\"column_names\":[\"Station\",\"lufttemperatur\",\"index\",\"Date\",\"DateStr\"],\"data\":{\"Date\":[-1104537600000.0,-1073001600000.0,-1041379200000.0,-1009843200000.0,-978307200000.0,-946771200000.0,-915148800000.0,-883612800000.0,-852076800000.0,-820540800000.0,-788918400000.0,-757382400000.0,-725846400000.0,-694310400000.0,-662688000000.0,-631152000000.0,-599616000000.0,-568080000000.0,-536457600000.0,-504921600000.0,-473385600000.0,-441849600000.0,-410227200000.0,-378691200000.0,-347155200000.0,-315619200000.0,-283996800000.0,-252460800000.0,-220924800000.0,-189388800000.0,-157766400000.0,-126230400000.0,-94694400000.0,-63158400000.0,-31536000000.0,0.0,31536000000.0,63072000000.0,94694400000.0,126230400000.0,157766400000.0,189302400000.0,220924800000.0,252460800000.0,283996800000.0,315532800000.0,347155200000.0,378691200000.0,410227200000.0,441763200000.0,473385600000.0,504921600000.0,536457600000.0,567993600000.0,599616000000.0,631152000000.0,662688000000.0,694224000000.0,725846400000.0,757382400000.0,788918400000.0,820454400000.0,852076800000.0,883612800000.0,915148800000.0,946684800000.0,978307200000.0,1009843200000.0,1041379200000.0,1072915200000.0,1104537600000.0,1136073600000.0,1167609600000.0,1199145600000.0,1230768000000.0,1262304000000.0,1293840000000.0,1325376000000.0,1356998400000.0,1388534400000.0,1420070400000.0],\"DateStr\":[\"1935\",\"1936\",\"1937\",\"1938\",\"1939\",\"1940\",\"1941\",\"1942\",\"1943\",\"1944\",\"1945\",\"1946\",\"1947\",\"1948\",\"1949\",\"1950\",\"1951\",\"1952\",\"1953\",\"1954\",\"1955\",\"1956\",\"1957\",\"1958\",\"1959\",\"1960\",\"1961\",\"1962\",\"1963\",\"1964\",\"1965\",\"1966\",\"1967\",\"1968\",\"1969\",\"1970\",\"1971\",\"1972\",\"1973\",\"1974\",\"1975\",\"1976\",\"1977\",\"1978\",\"1979\",\"1980\",\"1981\",\"1982\",\"1983\",\"1984\",\"1985\",\"1986\",\"1987\",\"1988\",\"1989\",\"1990\",\"1991\",\"1992\",\"1993\",\"1994\",\"1995\",\"1996\",\"1997\",\"1998\",\"1999\",\"2000\",\"2001\",\"2002\",\"2003\",\"2004\",\"2005\",\"2006\",\"2007\",\"2008\",\"2009\",\"2010\",\"2011\",\"2012\",\"2013\",\"2014\",\"2015\"],\"Station\":[\"Geisenheim\",\"Geisenheim\",\"Geisenheim\",\"Geisenheim\",\"Geisenheim\",\"Geisenheim\",\"Geisenheim\",\"Geisenheim\",\"Geisenheim\",\"Geisenheim\",\"Geisenheim\",\"Geisenheim\",\"Geisenheim\",\"Geisenheim\",\"Geisenheim\",\"Geisenheim\",\"Geisenheim\",\"Geisenheim\",\"Geisenheim\",\"Geisenheim\",\"Geisenheim\",\"Geisenheim\",\"Geisenheim\",\"Geisenheim\",\"Geisenheim\",\"Geisenheim\",\"Geisenheim\",\"Geisenheim\",\"Geisenheim\",\"Geisenheim\",\"Geisenheim\",\"Geisenheim\",\"Geisenheim\",\"Geisenheim\",\"Geisenheim\",\"Geisenheim\",\"Geisenheim\",\"Geisenheim\",\"Geisenheim\",\"Geisenheim\",\"Geisenheim\",\"Geisenheim\",\"Geisenheim\",\"Geisenheim\",\"Geisenheim\",\"Geisenheim\",\"Geisenheim\",\"Geisenheim\",\"Geisenheim\",\"Geisenheim\",\"Geisenheim\",\"Geisenheim\",\"Geisenheim\",\"Geisenheim\",\"Geisenheim\",\"Geisenheim\",\"Geisenheim\",\"Geisenheim\",\"Geisenheim\",\"Geisenheim\",\"Geisenheim\",\"Geisenheim\",\"Geisenheim\",\"Geisenheim\",\"Geisenheim\",\"Geisenheim\",\"Geisenheim\",\"Geisenheim\",\"Geisenheim\",\"Geisenheim\",\"Geisenheim\",\"Geisenheim\",\"Geisenheim\",\"Geisenheim\",\"Geisenheim\",\"Geisenheim\",\"Geisenheim\",\"Geisenheim\",\"Geisenheim\",\"Geisenheim\",\"Geisenheim\"],\"index\":[149,150,151,152,153,154,155,156,157,158,159,160,161,162,163,164,165,166,167,168,169,170,171,172,173,174,175,176,177,178,179,180,181,182,183,184,185,186,187,188,189,190,191,192,193,194,195,196,197,198,199,200,201,202,203,204,205,206,207,208,209,210,211,212,213,214,215,216,217,218,219,220,221,222,223,224,225,226,227,228,229],\"lufttemperatur\":[2.4500000000000006,3.025274725274726,2.2311111111111117,1.7244444444444447,2.3200000000000003,-3.4307692307692306,0.531111111111111,-2.457777777777777,2.0266666666666655,2.26043956043956,1.2277777777777776,0.7877777777777785,-1.0422222222222224,2.7934065934065937,2.9611111111111112,1.2377777777777776,3.445555555555555,1.476923076923077,2.1622222222222227,1.0022222222222223,1.0055555555555558,-0.5923076923076929,2.605555555555555,2.881111111111111,2.196666666666667,2.1538461538461537,2.651111111111112,1.3633333333333333,-3.415555555555555,1.171428571428572,2.727777777777779,3.142222222222221,2.8966666666666665,1.1373626373626378,-0.07333333333333322,0.7688888888888884,2.193333333333333,1.585714285714285,1.6244444444444444,5.342222222222223,3.4700000000000006,2.1395604395604395,3.303333333333334,1.751111111111111,0.9055555555555559,2.121978021978021,0.2066666666666666,1.0733333333333337,2.641111111111111,2.423076923076922,0.1122222222222227,1.0244444444444443,0.47777777777777786,4.554945054945055,3.54,3.958888888888889,1.2622222222222221,2.8659340659340655,3.0633333333333326,3.962222222222223,2.7244444444444436,-0.11428571428571442,2.204444444444444,3.473333333333332,3.4255555555555555,4.142857142857143,2.971111111111112,3.8611111111111103,1.7855555555555551,2.6857142857142855,2.223333333333333,2.1288888888888886,4.888888888888888,3.8384615384615373,0.9144444444444444,-0.39666666666666645,3.7122222222222216,2.5780219780219786,2.664444444444445,4.804444444444444,4.485555555555556]}},\"id\":\"48292fa2-1b8b-49fe-a2f8-15a3e9bf8c7d\",\"type\":\"ColumnDataSource\"},{\"attributes\":{\"line_color\":{\"value\":\"#E7AD9D\"},\"line_width\":{\"value\":2},\"x\":{\"field\":\"Date\"},\"y\":{\"field\":\"lufttemperatur\"}},\"id\":\"7d742c4c-a1e2-4fbc-a606-e54e41a2ff82\",\"type\":\"Line\"},{\"attributes\":{\"line_alpha\":{\"value\":0.1},\"line_color\":{\"value\":\"#1f77b4\"},\"line_width\":{\"value\":2},\"x\":{\"field\":\"Date\"},\"y\":{\"field\":\"lufttemperatur\"}},\"id\":\"129ed748-b1a1-40dd-942f-ad1f38e1a11f\",\"type\":\"Line\"},{\"attributes\":{\"plot\":{\"id\":\"15d0248a-7906-4d6a-8632-b4d56c71ba2b\",\"subtype\":\"Figure\",\"type\":\"Plot\"}},\"id\":\"f94add55-d06b-4d29-9ffa-c2eb43f31f6f\",\"type\":\"WheelZoomTool\"},{\"attributes\":{\"callback\":null,\"plot\":{\"id\":\"15d0248a-7906-4d6a-8632-b4d56c71ba2b\",\"subtype\":\"Figure\",\"type\":\"Plot\"},\"tooltips\":[[\"Winter:\",\"@DateStr\"],[\"Station:\",\"@Station\"],[\"lufttemperatur:\",\"$y\"]]},\"id\":\"6e9a9084-148e-446b-bd1b-f61b706bfadd\",\"type\":\"HoverTool\"},{\"attributes\":{\"line_alpha\":{\"value\":0.5},\"line_color\":{\"value\":\"#253845\"},\"line_width\":{\"value\":2},\"x\":{\"field\":\"Date\"},\"y\":{\"field\":\"lufttemperatur\"}},\"id\":\"f91a07b6-92e4-4bde-b708-3bd9140ffe35\",\"type\":\"Line\"},{\"attributes\":{\"callback\":null,\"column_names\":[\"Station\",\"lufttemperatur\",\"index\",\"Date\",\"DateStr\"],\"data\":{\"Date\":[-662688000000.0,-631152000000.0,-599616000000.0,-568080000000.0,-536457600000.0,-504921600000.0,-473385600000.0,-441849600000.0,-410227200000.0,-378691200000.0,-347155200000.0,-315619200000.0,-283996800000.0,-252460800000.0,-220924800000.0,-189388800000.0,-157766400000.0,-126230400000.0,-94694400000.0,-63158400000.0,-31536000000.0,0.0,31536000000.0,63072000000.0,94694400000.0,126230400000.0,157766400000.0,189302400000.0,220924800000.0,252460800000.0,283996800000.0,315532800000.0,347155200000.0,378691200000.0,410227200000.0,441763200000.0,473385600000.0,504921600000.0,536457600000.0,567993600000.0,599616000000.0,631152000000.0,662688000000.0,694224000000.0,725846400000.0,757382400000.0,788918400000.0,820454400000.0,852076800000.0,883612800000.0,915148800000.0,946684800000.0,978307200000.0,1009843200000.0,1041379200000.0,1072915200000.0,1104537600000.0],\"DateStr\":[\"1949\",\"1950\",\"1951\",\"1952\",\"1953\",\"1954\",\"1955\",\"1956\",\"1957\",\"1958\",\"1959\",\"1960\",\"1961\",\"1962\",\"1963\",\"1964\",\"1965\",\"1966\",\"1967\",\"1968\",\"1969\",\"1970\",\"1971\",\"1972\",\"1973\",\"1974\",\"1975\",\"1976\",\"1977\",\"1978\",\"1979\",\"1980\",\"1981\",\"1982\",\"1983\",\"1984\",\"1985\",\"1986\",\"1987\",\"1988\",\"1989\",\"1990\",\"1991\",\"1992\",\"1993\",\"1994\",\"1995\",\"1996\",\"1997\",\"1998\",\"1999\",\"2000\",\"2001\",\"2002\",\"2003\",\"2004\",\"2005\"],\"Station\":[\"Wartenberg-Angersbach\",\"Wartenberg-Angersbach\",\"Wartenberg-Angersbach\",\"Wartenberg-Angersbach\",\"Wartenberg-Angersbach\",\"Wartenberg-Angersbach\",\"Wartenberg-Angersbach\",\"Wartenberg-Angersbach\",\"Wartenberg-Angersbach\",\"Wartenberg-Angersbach\",\"Wartenberg-Angersbach\",\"Wartenberg-Angersbach\",\"Wartenberg-Angersbach\",\"Wartenberg-Angersbach\",\"Wartenberg-Angersbach\",\"Wartenberg-Angersbach\",\"Wartenberg-Angersbach\",\"Wartenberg-Angersbach\",\"Wartenberg-Angersbach\",\"Wartenberg-Angersbach\",\"Wartenberg-Angersbach\",\"Wartenberg-Angersbach\",\"Wartenberg-Angersbach\",\"Wartenberg-Angersbach\",\"Wartenberg-Angersbach\",\"Wartenberg-Angersbach\",\"Wartenberg-Angersbach\",\"Wartenberg-Angersbach\",\"Wartenberg-Angersbach\",\"Wartenberg-Angersbach\",\"Wartenberg-Angersbach\",\"Wartenberg-Angersbach\",\"Wartenberg-Angersbach\",\"Wartenberg-Angersbach\",\"Wartenberg-Angersbach\",\"Wartenberg-Angersbach\",\"Wartenberg-Angersbach\",\"Wartenberg-Angersbach\",\"Wartenberg-Angersbach\",\"Wartenberg-Angersbach\",\"Wartenberg-Angersbach\",\"Wartenberg-Angersbach\",\"Wartenberg-Angersbach\",\"Wartenberg-Angersbach\",\"Wartenberg-Angersbach\",\"Wartenberg-Angersbach\",\"Wartenberg-Angersbach\",\"Wartenberg-Angersbach\",\"Wartenberg-Angersbach\",\"Wartenberg-Angersbach\",\"Wartenberg-Angersbach\",\"Wartenberg-Angersbach\",\"Wartenberg-Angersbach\",\"Wartenberg-Angersbach\",\"Wartenberg-Angersbach\",\"Wartenberg-Angersbach\",\"Wartenberg-Angersbach\"],\"index\":[545,546,547,548,549,550,551,552,553,554,555,556,557,558,559,560,561,562,563,564,565,566,567,568,569,570,571,572,573,574,575,576,577,578,579,580,581,582,583,584,585,586,587,588,589,590,591,592,593,594,595,596,597,598,599,600,601],\"lufttemperatur\":[1.744444444444444,-0.07666666666666634,2.052222222222222,-0.3065934065934069,0.5822222222222222,-0.8444444444444441,-0.5499999999999994,-2.346153846153845,1.4722222222222228,1.7544444444444443,0.8188888888888889,0.4758241758241758,0.7633333333333336,-0.7088888888888888,-6.176666666666665,-0.854945054945055,0.9333333333333335,1.147777777777778,1.2699999999999991,-0.9791208791208789,-2.007777777777778,-1.0822222222222226,0.9955555555555555,-0.2659340659340661,-0.1333333333333333,3.9222222222222234,2.1833333333333322,0.08241758241758257,1.7577777777777774,-0.05555555555555561,-1.0877777777777773,-0.00549450549450548,-2.077777777777778,-0.8066666666666669,0.4677777777777776,0.7857142857142856,-2.034444444444444,-1.2799999999999996,-1.779999999999999,3.351648351648353,2.5299999999999994,2.938888888888889,-0.324444444444444,1.6549450549450548,1.5888888888888888,2.478888888888889,1.1655555555555552,-2.542857142857142,1.061111111111112,2.347777777777776,2.272222222222222,2.762637362637363,1.255555555555556,2.388888888888888,0.04777777777777781,1.487912087912088,1.1688888888888893]}},\"id\":\"3ba1d890-d61b-4afd-a5d6-b29ce93964ad\",\"type\":\"ColumnDataSource\"},{\"attributes\":{\"plot\":{\"id\":\"15d0248a-7906-4d6a-8632-b4d56c71ba2b\",\"subtype\":\"Figure\",\"type\":\"Plot\"}},\"id\":\"2ec4b99d-d19a-4344-8560-2e5f987df6f9\",\"type\":\"HelpTool\"},{\"attributes\":{\"line_alpha\":{\"value\":0.1},\"line_color\":{\"value\":\"#1f77b4\"},\"line_width\":{\"value\":2},\"x\":{\"field\":\"Date\"},\"y\":{\"field\":\"lufttemperatur\"}},\"id\":\"9cb4e918-c4f0-4fdb-bc72-ac2004e8f2ce\",\"type\":\"Line\"},{\"attributes\":{\"data_source\":{\"id\":\"972d4dc0-9c93-4b2d-9963-8ab36a984bd5\",\"type\":\"ColumnDataSource\"},\"glyph\":{\"id\":\"f8ddc544-04b2-4785-bf05-1336a91ba02d\",\"type\":\"Line\"},\"hover_glyph\":{\"id\":\"5e9eaa9f-a2ec-40b6-8477-5dd262295ac3\",\"type\":\"Line\"},\"nonselection_glyph\":{\"id\":\"74f15687-cf0b-4884-a59a-feb80af91c86\",\"type\":\"Line\"},\"selection_glyph\":null},\"id\":\"4591e9b4-f9a5-4dce-9c13-c6c512a57cb2\",\"type\":\"GlyphRenderer\"},{\"attributes\":{\"line_alpha\":{\"value\":0.5},\"line_color\":{\"value\":\"#253845\"},\"line_width\":{\"value\":2},\"x\":{\"field\":\"Date\"},\"y\":{\"field\":\"lufttemperatur\"}},\"id\":\"8ea27af0-1718-4f1f-a28e-1bcdfaf36117\",\"type\":\"Line\"},{\"attributes\":{\"line_alpha\":{\"value\":0.1},\"line_color\":{\"value\":\"#1f77b4\"},\"line_width\":{\"value\":2},\"x\":{\"field\":\"Date\"},\"y\":{\"field\":\"lufttemperatur\"}},\"id\":\"032ba9a1-e08d-4223-a6ae-8e597bad38d6\",\"type\":\"Line\"},{\"attributes\":{\"line_alpha\":{\"value\":0.5},\"line_color\":{\"value\":\"#253845\"},\"line_width\":{\"value\":2},\"x\":{\"field\":\"Date\"},\"y\":{\"field\":\"lufttemperatur\"}},\"id\":\"269f8e5e-1087-4307-846f-f77c1737c3a6\",\"type\":\"Line\"},{\"attributes\":{\"line_alpha\":{\"value\":0.5},\"line_color\":{\"value\":\"#253845\"},\"line_width\":{\"value\":2},\"x\":{\"field\":\"Date\"},\"y\":{\"field\":\"lufttemperatur\"}},\"id\":\"a5d29c1d-b273-48c5-ba93-204bf4b2dc03\",\"type\":\"Line\"},{\"attributes\":{\"data_source\":{\"id\":\"d17796cd-ac3f-45a1-8ae1-dff14d5654ee\",\"type\":\"ColumnDataSource\"},\"glyph\":{\"id\":\"d34e99be-608f-4050-b55d-c007f5a0bc54\",\"type\":\"Line\"},\"hover_glyph\":{\"id\":\"8f238fdf-a38e-43d5-865b-046c892c2d5c\",\"type\":\"Line\"},\"nonselection_glyph\":{\"id\":\"129ed748-b1a1-40dd-942f-ad1f38e1a11f\",\"type\":\"Line\"},\"selection_glyph\":null},\"id\":\"4cf81375-b57d-40ca-9f31-db6fe3f3afea\",\"type\":\"GlyphRenderer\"},{\"attributes\":{\"months\":[0,1,2,3,4,5,6,7,8,9,10,11]},\"id\":\"523ebcf6-c145-41ea-b310-3ed6693dde53\",\"type\":\"MonthsTicker\"},{\"attributes\":{\"line_color\":{\"value\":\"#E7AD9D\"},\"line_width\":{\"value\":2},\"x\":{\"field\":\"Date\"},\"y\":{\"field\":\"lufttemperatur\"}},\"id\":\"a2556866-cf9c-4f02-a16b-0418f9e14bb9\",\"type\":\"Line\"},{\"attributes\":{\"callback\":null},\"id\":\"e1b12939-bb12-4e72-b51f-4584c5436fb1\",\"type\":\"DataRange1d\"},{\"attributes\":{\"callback\":null,\"column_names\":[\"Station\",\"lufttemperatur\",\"index\",\"Date\",\"DateStr\"],\"data\":{\"Date\":[-1041379200000.0,-1009843200000.0,-978307200000.0,-946771200000.0,-915148800000.0,-883612800000.0,-852076800000.0,-820540800000.0,-788918400000.0,-757382400000.0,-725846400000.0,-694310400000.0,-662688000000.0,-631152000000.0,-599616000000.0,-568080000000.0,-536457600000.0,-504921600000.0,-473385600000.0,-441849600000.0,-410227200000.0,-378691200000.0,-347155200000.0,-315619200000.0,-283996800000.0,-252460800000.0,-220924800000.0,-189388800000.0,-157766400000.0,-126230400000.0,-94694400000.0,-63158400000.0,-31536000000.0,0.0,31536000000.0,63072000000.0,94694400000.0,126230400000.0,157766400000.0,189302400000.0,220924800000.0,252460800000.0,283996800000.0,315532800000.0,347155200000.0,378691200000.0,410227200000.0,441763200000.0,473385600000.0,504921600000.0,536457600000.0,567993600000.0,599616000000.0,631152000000.0,662688000000.0,694224000000.0,725846400000.0,757382400000.0,788918400000.0,820454400000.0,852076800000.0,883612800000.0,915148800000.0,946684800000.0,978307200000.0,1009843200000.0,1041379200000.0,1072915200000.0,1104537600000.0,1136073600000.0,1167609600000.0,1199145600000.0,1230768000000.0,1262304000000.0,1293840000000.0,1325376000000.0,1356998400000.0,1388534400000.0,1420070400000.0],\"DateStr\":[\"1937\",\"1938\",\"1939\",\"1940\",\"1941\",\"1942\",\"1943\",\"1944\",\"1945\",\"1946\",\"1947\",\"1948\",\"1949\",\"1950\",\"1951\",\"1952\",\"1953\",\"1954\",\"1955\",\"1956\",\"1957\",\"1958\",\"1959\",\"1960\",\"1961\",\"1962\",\"1963\",\"1964\",\"1965\",\"1966\",\"1967\",\"1968\",\"1969\",\"1970\",\"1971\",\"1972\",\"1973\",\"1974\",\"1975\",\"1976\",\"1977\",\"1978\",\"1979\",\"1980\",\"1981\",\"1982\",\"1983\",\"1984\",\"1985\",\"1986\",\"1987\",\"1988\",\"1989\",\"1990\",\"1991\",\"1992\",\"1993\",\"1994\",\"1995\",\"1996\",\"1997\",\"1998\",\"1999\",\"2000\",\"2001\",\"2002\",\"2003\",\"2004\",\"2005\",\"2006\",\"2007\",\"2008\",\"2009\",\"2010\",\"2011\",\"2012\",\"2013\",\"2014\",\"2015\"],\"Station\":[\"Beerfelden\",\"Beerfelden\",\"Beerfelden\",\"Beerfelden\",\"Beerfelden\",\"Beerfelden\",\"Beerfelden\",\"Beerfelden\",\"Beerfelden\",\"Beerfelden\",\"Beerfelden\",\"Beerfelden\",\"Beerfelden\",\"Beerfelden\",\"Beerfelden\",\"Beerfelden\",\"Beerfelden\",\"Beerfelden\",\"Beerfelden\",\"Beerfelden\",\"Beerfelden\",\"Beerfelden\",\"Beerfelden\",\"Beerfelden\",\"Beerfelden\",\"Beerfelden\",\"Beerfelden\",\"Beerfelden\",\"Beerfelden\",\"Beerfelden\",\"Beerfelden\",\"Beerfelden\",\"Beerfelden\",\"Beerfelden\",\"Beerfelden\",\"Beerfelden\",\"Beerfelden\",\"Beerfelden\",\"Beerfelden\",\"Beerfelden\",\"Beerfelden\",\"Beerfelden\",\"Beerfelden\",\"Beerfelden\",\"Beerfelden\",\"Beerfelden\",\"Beerfelden\",\"Beerfelden\",\"Beerfelden\",\"Beerfelden\",\"Beerfelden\",\"Beerfelden\",\"Beerfelden\",\"Beerfelden\",\"Beerfelden\",\"Beerfelden\",\"Beerfelden\",\"Beerfelden\",\"Beerfelden\",\"Beerfelden\",\"Beerfelden\",\"Beerfelden\",\"Beerfelden\",\"Beerfelden\",\"Beerfelden\",\"Beerfelden\",\"Beerfelden\",\"Beerfelden\",\"Beerfelden\",\"Beerfelden\",\"Beerfelden\",\"Beerfelden\",\"Beerfelden\",\"Beerfelden\",\"Beerfelden\",\"Beerfelden\",\"Beerfelden\",\"Beerfelden\",\"Beerfelden\"],\"index\":[649,650,651,652,653,654,655,656,657,658,659,660,661,662,663,664,665,666,667,668,669,670,671,672,673,674,675,676,677,678,679,680,681,682,683,684,685,686,687,688,689,690,691,692,693,694,695,696,697,698,699,700,701,702,703,704,705,706,707,708,709,710,711,712,713,714,715,716,717,718,719,720,721,722,723,724,725,726,727],\"lufttemperatur\":[0.35000000000000003,-0.7188888888888888,0.27333333333333276,-5.0505494505494495,-1.7088888888888907,-3.9722222222222223,0.5966666666666675,-0.3131868131868129,-0.3544444444444453,-1.1222222222222227,-2.9100000000000006,1.3186813186813187,1.5555555555555551,-0.43111111111111106,1.7822222222222226,-1.108791208791209,0.03999999999999969,-1.2800000000000002,-0.5244444444444444,-2.5725274725274723,1.0922222222222224,1.1044444444444443,1.077777777777778,0.09230769230769242,1.1011111111111116,-0.9633333333333335,-5.282222222222224,-0.9384615384615383,0.14888888888888888,1.3522222222222224,0.4755555555555556,-1.059340659340659,-2.301111111111111,-1.2322222222222219,0.6566666666666666,0.045054945054944805,-0.7888888888888891,3.178888888888888,1.725555555555556,-0.308791208791209,1.5288888888888894,-0.23555555555555552,-0.8144444444444455,-0.15714285714285742,-1.678888888888889,-0.2722222222222222,0.38444444444444453,0.13956043956043948,-1.5711111111111111,-1.4066666666666663,-1.5800000000000005,2.281318681318682,2.015555555555555,2.0944444444444437,-0.3277777777777778,1.0780219780219777,1.271111111111111,2.035555555555556,0.7333333333333333,-2.1362637362637362,0.9311111111111109,2.338888888888889,1.0300000000000002,2.2901098901098895,0.8699999999999997,2.0622222222222226,-0.3155555555555557,0.4703296703296703,-0.1966666666666665,0.17777777777777762,2.8744444444444457,2.260439560439561,-0.7244444444444443,-2.4777777777777787,1.642222222222222,0.07032967032967044,0.5044444444444445,2.9722222222222228,2.617777777777778]}},\"id\":\"36a93d81-b641-41e1-8f99-e342f7bb60f8\",\"type\":\"ColumnDataSource\"},{\"attributes\":{\"data_source\":{\"id\":\"33a2c152-8833-4741-b9d9-9f98c5e0a274\",\"type\":\"ColumnDataSource\"},\"glyph\":{\"id\":\"06ac81a8-226c-4c52-9314-defe9d8b1756\",\"type\":\"Line\"},\"hover_glyph\":{\"id\":\"f47a800d-152a-48bf-a0b6-f79f468e8f6d\",\"type\":\"Line\"},\"nonselection_glyph\":{\"id\":\"279e37e6-3644-4c72-84d1-3edd1bb843ba\",\"type\":\"Line\"},\"selection_glyph\":null},\"id\":\"0dd405e6-2375-48ad-954f-51a7b0ba7e30\",\"type\":\"GlyphRenderer\"},{\"attributes\":{\"line_color\":{\"value\":\"#E7AD9D\"},\"line_width\":{\"value\":2},\"x\":{\"field\":\"Date\"},\"y\":{\"field\":\"lufttemperatur\"}},\"id\":\"5e9eaa9f-a2ec-40b6-8477-5dd262295ac3\",\"type\":\"Line\"},{\"attributes\":{\"callback\":null,\"column_names\":[\"Station\",\"lufttemperatur\",\"index\",\"Date\",\"DateStr\"],\"data\":{\"Date\":[883612800000.0,915148800000.0,946684800000.0,978307200000.0,1009843200000.0,1041379200000.0,1072915200000.0,1104537600000.0,1136073600000.0,1167609600000.0,1199145600000.0,1230768000000.0],\"DateStr\":[\"1998\",\"1999\",\"2000\",\"2001\",\"2002\",\"2003\",\"2004\",\"2005\",\"2006\",\"2007\",\"2008\",\"2009\"],\"Station\":[\"Wahlen\",\"Wahlen\",\"Wahlen\",\"Wahlen\",\"Wahlen\",\"Wahlen\",\"Wahlen\",\"Wahlen\",\"Wahlen\",\"Wahlen\",\"Wahlen\",\"Wahlen\"],\"index\":[137,138,139,140,141,142,143,144,145,146,147,148],\"lufttemperatur\":[0.7129032258064517,0.6936170212765957,1.926086956521739,0.2662337662337663,1.6123595505617978,-0.4767441860465118,0.35164835164835173,-0.33417721518987326,-0.1897727272727276,2.586666666666667,1.8461538461538451,-1.7898305084745767]}},\"id\":\"598ae32d-649d-4527-966d-9694c4062575\",\"type\":\"ColumnDataSource\"},{\"attributes\":{\"line_alpha\":{\"value\":0.5},\"line_color\":{\"value\":\"#253845\"},\"line_width\":{\"value\":2},\"x\":{\"field\":\"Date\"},\"y\":{\"field\":\"lufttemperatur\"}},\"id\":\"ac7b68fc-b28e-4565-82e3-72d7d657e4d7\",\"type\":\"Line\"},{\"attributes\":{\"data_source\":{\"id\":\"126c48c0-8e7c-4028-89fe-8a6a5f048ff5\",\"type\":\"ColumnDataSource\"},\"glyph\":{\"id\":\"ac7b68fc-b28e-4565-82e3-72d7d657e4d7\",\"type\":\"Line\"},\"hover_glyph\":{\"id\":\"a2556866-cf9c-4f02-a16b-0418f9e14bb9\",\"type\":\"Line\"},\"nonselection_glyph\":{\"id\":\"e3ee3c96-d27b-408e-8834-d00102afd5b0\",\"type\":\"Line\"},\"selection_glyph\":null},\"id\":\"54ba24b7-c23f-4188-99b7-6c970867e59a\",\"type\":\"GlyphRenderer\"},{\"attributes\":{\"line_alpha\":{\"value\":0.5},\"line_color\":{\"value\":\"#253845\"},\"line_width\":{\"value\":2},\"x\":{\"field\":\"Date\"},\"y\":{\"field\":\"lufttemperatur\"}},\"id\":\"06ac81a8-226c-4c52-9314-defe9d8b1756\",\"type\":\"Line\"},{\"attributes\":{\"plot\":{\"id\":\"15d0248a-7906-4d6a-8632-b4d56c71ba2b\",\"subtype\":\"Figure\",\"type\":\"Plot\"}},\"id\":\"a3d9e26e-7a34-4e52-b86c-9eae97408cea\",\"type\":\"PanTool\"},{\"attributes\":{\"callback\":null,\"column_names\":[\"Station\",\"lufttemperatur\",\"index\",\"Date\",\"DateStr\"],\"data\":{\"Date\":[-757382400000.0,-725846400000.0,-694310400000.0,-662688000000.0,-631152000000.0,-599616000000.0,-568080000000.0,-536457600000.0,-504921600000.0,-473385600000.0,-441849600000.0,-410227200000.0,-378691200000.0,-347155200000.0,-315619200000.0,-283996800000.0,-252460800000.0,-220924800000.0,-189388800000.0,-157766400000.0,-126230400000.0,-94694400000.0,-63158400000.0,-31536000000.0,0.0,31536000000.0,63072000000.0,94694400000.0,126230400000.0,157766400000.0,189302400000.0,220924800000.0],\"DateStr\":[\"1946\",\"1947\",\"1948\",\"1949\",\"1950\",\"1951\",\"1952\",\"1953\",\"1954\",\"1955\",\"1956\",\"1957\",\"1958\",\"1959\",\"1960\",\"1961\",\"1962\",\"1963\",\"1964\",\"1965\",\"1966\",\"1967\",\"1968\",\"1969\",\"1970\",\"1971\",\"1972\",\"1973\",\"1974\",\"1975\",\"1976\",\"1977\"],\"Station\":[\"Kassel-Harleshausen\",\"Kassel-Harleshausen\",\"Kassel-Harleshausen\",\"Kassel-Harleshausen\",\"Kassel-Harleshausen\",\"Kassel-Harleshausen\",\"Kassel-Harleshausen\",\"Kassel-Harleshausen\",\"Kassel-Harleshausen\",\"Kassel-Harleshausen\",\"Kassel-Harleshausen\",\"Kassel-Harleshausen\",\"Kassel-Harleshausen\",\"Kassel-Harleshausen\",\"Kassel-Harleshausen\",\"Kassel-Harleshausen\",\"Kassel-Harleshausen\",\"Kassel-Harleshausen\",\"Kassel-Harleshausen\",\"Kassel-Harleshausen\",\"Kassel-Harleshausen\",\"Kassel-Harleshausen\",\"Kassel-Harleshausen\",\"Kassel-Harleshausen\",\"Kassel-Harleshausen\",\"Kassel-Harleshausen\",\"Kassel-Harleshausen\",\"Kassel-Harleshausen\",\"Kassel-Harleshausen\",\"Kassel-Harleshausen\",\"Kassel-Harleshausen\",\"Kassel-Harleshausen\"],\"index\":[300,301,302,303,304,305,306,307,308,309,310,311,312,313,314,315,316,317,318,319,320,321,322,323,324,325,326,327,328,329,330,331],\"lufttemperatur\":[-2.019354838709677,-3.0366666666666657,2.163736263736263,2.411111111111111,0.4322222222222225,2.6488888888888895,0.3241758241758241,1.3188888888888892,-0.23666666666666708,-0.23000000000000012,-1.7362637362637356,1.8900000000000003,2.127777777777778,1.317777777777778,1.1780219780219785,1.4477777777777778,-0.005555555555555338,-4.622222222222224,0.24285714285714288,1.6411111111111114,1.7677777777777777,2.3666666666666663,-0.3384615384615383,-1.0955555555555558,-0.42444444444444457,2.082222222222222,1.123076923076924,0.9722222222222222,4.589999999999999,3.061111111111112,0.9494505494505494,2.538983050847458]}},\"id\":\"0e22ce29-3fad-4f3e-8184-1f102c8a111d\",\"type\":\"ColumnDataSource\"},{\"attributes\":{\"line_color\":{\"value\":\"#E7AD9D\"},\"line_width\":{\"value\":2},\"x\":{\"field\":\"Date\"},\"y\":{\"field\":\"lufttemperatur\"}},\"id\":\"8f238fdf-a38e-43d5-865b-046c892c2d5c\",\"type\":\"Line\"},{\"attributes\":{\"callback\":null,\"column_names\":[\"Station\",\"lufttemperatur\",\"index\",\"Date\",\"DateStr\"],\"data\":{\"Date\":[-378691200000.0,-347155200000.0,-315619200000.0,-283996800000.0,-252460800000.0,-220924800000.0,-189388800000.0,-157766400000.0,-126230400000.0,-94694400000.0,-63158400000.0,-31536000000.0,0.0,31536000000.0,63072000000.0,94694400000.0,126230400000.0,157766400000.0,189302400000.0,220924800000.0,252460800000.0,283996800000.0,315532800000.0,347155200000.0,378691200000.0,410227200000.0,441763200000.0,473385600000.0,504921600000.0],\"DateStr\":[\"1958\",\"1959\",\"1960\",\"1961\",\"1962\",\"1963\",\"1964\",\"1965\",\"1966\",\"1967\",\"1968\",\"1969\",\"1970\",\"1971\",\"1972\",\"1973\",\"1974\",\"1975\",\"1976\",\"1977\",\"1978\",\"1979\",\"1980\",\"1981\",\"1982\",\"1983\",\"1984\",\"1985\",\"1986\"],\"Station\":[\"Brombachtal-Kirch-Brombach\",\"Brombachtal-Kirch-Brombach\",\"Brombachtal-Kirch-Brombach\",\"Brombachtal-Kirch-Brombach\",\"Brombachtal-Kirch-Brombach\",\"Brombachtal-Kirch-Brombach\",\"Brombachtal-Kirch-Brombach\",\"Brombachtal-Kirch-Brombach\",\"Brombachtal-Kirch-Brombach\",\"Brombachtal-Kirch-Brombach\",\"Brombachtal-Kirch-Brombach\",\"Brombachtal-Kirch-Brombach\",\"Brombachtal-Kirch-Brombach\",\"Brombachtal-Kirch-Brombach\",\"Brombachtal-Kirch-Brombach\",\"Brombachtal-Kirch-Brombach\",\"Brombachtal-Kirch-Brombach\",\"Brombachtal-Kirch-Brombach\",\"Brombachtal-Kirch-Brombach\",\"Brombachtal-Kirch-Brombach\",\"Brombachtal-Kirch-Brombach\",\"Brombachtal-Kirch-Brombach\",\"Brombachtal-Kirch-Brombach\",\"Brombachtal-Kirch-Brombach\",\"Brombachtal-Kirch-Brombach\",\"Brombachtal-Kirch-Brombach\",\"Brombachtal-Kirch-Brombach\",\"Brombachtal-Kirch-Brombach\",\"Brombachtal-Kirch-Brombach\"],\"index\":[754,755,756,757,758,759,760,761,762,763,764,765,766,767,768,769,770,771,772,773,774,775,776,777,778,779,780,781,782],\"lufttemperatur\":[2.106666666666667,1.4677777777777776,1.0219780219780223,2.01,-0.07222222222222219,-4.868888888888888,-0.017582417582417294,1.3033333333333328,2.218888888888889,1.5955555555555554,-0.07582417582417571,-1.2744444444444447,-0.2777777777777777,1.377777777777778,0.597802197802198,0.31888888888888894,4.428888888888889,2.7199999999999993,0.7879120879120871,2.418888888888889,0.7333333333333335,-0.04222222222222286,0.8538461538461541,-1.1833333333333331,0.12333333333333343,1.245555555555555,1.2461538461538462,-0.9922222222222217,-0.188888888888889]}},\"id\":\"126c48c0-8e7c-4028-89fe-8a6a5f048ff5\",\"type\":\"ColumnDataSource\"},{\"attributes\":{\"bottom_units\":\"screen\",\"fill_alpha\":{\"value\":0.5},\"fill_color\":{\"value\":\"lightgrey\"},\"left_units\":\"screen\",\"level\":\"overlay\",\"line_alpha\":{\"value\":1.0},\"line_color\":{\"value\":\"black\"},\"line_dash\":[4,4],\"line_width\":{\"value\":2},\"plot\":null,\"render_mode\":\"css\",\"right_units\":\"screen\",\"top_units\":\"screen\"},\"id\":\"4686a002-a681-4a03-9978-bc3ae185d958\",\"type\":\"BoxAnnotation\"},{\"attributes\":{\"line_alpha\":{\"value\":0.1},\"line_color\":{\"value\":\"#1f77b4\"},\"line_width\":{\"value\":2},\"x\":{\"field\":\"Date\"},\"y\":{\"field\":\"lufttemperatur\"}},\"id\":\"988698a7-60cd-4622-b425-1c33d1de3de5\",\"type\":\"Line\"},{\"attributes\":{},\"id\":\"06335f56-5ec0-419d-a474-49df9a0e6950\",\"type\":\"BasicTicker\"},{\"attributes\":{},\"id\":\"95781225-9cbd-490a-a05c-73292d6ad8fd\",\"type\":\"DatetimeTickFormatter\"},{\"attributes\":{\"line_alpha\":{\"value\":0.1},\"line_color\":{\"value\":\"#1f77b4\"},\"line_width\":{\"value\":2},\"x\":{\"field\":\"Date\"},\"y\":{\"field\":\"lufttemperatur\"}},\"id\":\"58e0e050-223c-4b9b-8c91-e49d5e8cb8a7\",\"type\":\"Line\"},{\"attributes\":{\"plot\":{\"id\":\"15d0248a-7906-4d6a-8632-b4d56c71ba2b\",\"subtype\":\"Figure\",\"type\":\"Plot\"}},\"id\":\"ae5eb846-8cd5-43c3-9756-af5b74b49100\",\"type\":\"SaveTool\"},{\"attributes\":{\"data_source\":{\"id\":\"598ae32d-649d-4527-966d-9694c4062575\",\"type\":\"ColumnDataSource\"},\"glyph\":{\"id\":\"a8d6e347-cf47-47a9-a22d-d947752d862f\",\"type\":\"Line\"},\"hover_glyph\":{\"id\":\"7d742c4c-a1e2-4fbc-a606-e54e41a2ff82\",\"type\":\"Line\"},\"nonselection_glyph\":{\"id\":\"f093d4b4-4d17-4491-a52b-1e8225bef81a\",\"type\":\"Line\"},\"selection_glyph\":null},\"id\":\"df98b927-18d5-45f2-810e-afa8c9cc4394\",\"type\":\"GlyphRenderer\"},{\"attributes\":{\"months\":[0,6]},\"id\":\"099540c3-ebe8-4732-87db-1bd6173d5bf8\",\"type\":\"MonthsTicker\"},{\"attributes\":{\"axis_label\":\"Datum\",\"formatter\":{\"id\":\"95781225-9cbd-490a-a05c-73292d6ad8fd\",\"type\":\"DatetimeTickFormatter\"},\"plot\":{\"id\":\"15d0248a-7906-4d6a-8632-b4d56c71ba2b\",\"subtype\":\"Figure\",\"type\":\"Plot\"},\"ticker\":{\"id\":\"96134625-3e50-4f4e-ad3c-c7231b0a4550\",\"type\":\"DatetimeTicker\"}},\"id\":\"75b1dccf-dc98-454c-8c35-285271d01311\",\"type\":\"DatetimeAxis\"},{\"attributes\":{\"base\":24,\"mantissas\":[1,2,4,6,8,12],\"max_interval\":43200000.0,\"min_interval\":3600000.0,\"num_minor_ticks\":0},\"id\":\"3614a218-5ab1-4e01-87c9-ba6ee8cc87f7\",\"type\":\"AdaptiveTicker\"},{\"attributes\":{\"callback\":null,\"end\":1420070400000.0,\"start\":-1009843200000.0},\"id\":\"c047f42d-be14-4e98-9037-b116fe1ddb95\",\"type\":\"Range1d\"},{\"attributes\":{\"line_alpha\":{\"value\":0.1},\"line_color\":{\"value\":\"#1f77b4\"},\"line_width\":{\"value\":2},\"x\":{\"field\":\"Date\"},\"y\":{\"field\":\"lufttemperatur\"}},\"id\":\"85bf3e19-dbfd-4c18-9c63-e9e230c39030\",\"type\":\"Line\"},{\"attributes\":{\"plot\":{\"id\":\"15d0248a-7906-4d6a-8632-b4d56c71ba2b\",\"subtype\":\"Figure\",\"type\":\"Plot\"}},\"id\":\"00a5dbe3-6ca1-4eef-b9e8-3523af296b2e\",\"type\":\"ResetTool\"},{\"attributes\":{\"line_color\":{\"value\":\"#E7AD9D\"},\"line_width\":{\"value\":2},\"x\":{\"field\":\"Date\"},\"y\":{\"field\":\"lufttemperatur\"}},\"id\":\"4c9c52af-54bb-4d12-98b4-4d90197aa735\",\"type\":\"Line\"},{\"attributes\":{\"line_alpha\":{\"value\":0.5},\"line_color\":{\"value\":\"#253845\"},\"line_width\":{\"value\":2},\"x\":{\"field\":\"Date\"},\"y\":{\"field\":\"lufttemperatur\"}},\"id\":\"69338236-690a-4294-a8ef-6959b0fbd3fe\",\"type\":\"Line\"},{\"attributes\":{\"data_source\":{\"id\":\"db6776e0-d1e1-4b92-a343-2c6d5d34b7e6\",\"type\":\"ColumnDataSource\"},\"glyph\":{\"id\":\"a5d29c1d-b273-48c5-ba93-204bf4b2dc03\",\"type\":\"Line\"},\"hover_glyph\":{\"id\":\"09206ada-ed8c-45ac-9854-6a741cc0e035\",\"type\":\"Line\"},\"nonselection_glyph\":{\"id\":\"bc7ccaab-4ab9-4bcf-a9ad-6658cc152b7c\",\"type\":\"Line\"},\"selection_glyph\":null},\"id\":\"f8a973a4-6592-4b46-b872-3f1141e39af9\",\"type\":\"GlyphRenderer\"},{\"attributes\":{\"line_alpha\":{\"value\":0.5},\"line_color\":{\"value\":\"#253845\"},\"line_width\":{\"value\":2},\"x\":{\"field\":\"Date\"},\"y\":{\"field\":\"lufttemperatur\"}},\"id\":\"3ae70f23-7b09-42c2-b104-2608045c15b5\",\"type\":\"Line\"},{\"attributes\":{\"plot\":{\"id\":\"15d0248a-7906-4d6a-8632-b4d56c71ba2b\",\"subtype\":\"Figure\",\"type\":\"Plot\"},\"ticker\":{\"id\":\"96134625-3e50-4f4e-ad3c-c7231b0a4550\",\"type\":\"DatetimeTicker\"}},\"id\":\"70d470a7-359d-4b27-9c3e-c1767576929e\",\"type\":\"Grid\"},{\"attributes\":{\"line_alpha\":{\"value\":0.1},\"line_color\":{\"value\":\"#1f77b4\"},\"line_width\":{\"value\":2},\"x\":{\"field\":\"Date\"},\"y\":{\"field\":\"lufttemperatur\"}},\"id\":\"59caab6a-bcbe-4ccd-947d-8a2bf0d6616b\",\"type\":\"Line\"},{\"attributes\":{\"max_interval\":500.0,\"num_minor_ticks\":0},\"id\":\"c99448d1-e5a8-4b21-b006-25e180b12ebb\",\"type\":\"AdaptiveTicker\"},{\"attributes\":{\"callback\":null,\"column_names\":[\"Station\",\"lufttemperatur\",\"index\",\"Date\",\"DateStr\"],\"data\":{\"Date\":[-504921600000.0,-473385600000.0,-441849600000.0,-410227200000.0,-378691200000.0,-347155200000.0,-315619200000.0,-283996800000.0,-252460800000.0,-220924800000.0,-189388800000.0,-157766400000.0,-126230400000.0,-94694400000.0,-63158400000.0,-31536000000.0,0.0,31536000000.0,63072000000.0,94694400000.0,126230400000.0,157766400000.0,189302400000.0,220924800000.0,252460800000.0,283996800000.0,315532800000.0,347155200000.0,378691200000.0,410227200000.0,441763200000.0,473385600000.0],\"DateStr\":[\"1954\",\"1955\",\"1956\",\"1957\",\"1958\",\"1959\",\"1960\",\"1961\",\"1962\",\"1963\",\"1964\",\"1965\",\"1966\",\"1967\",\"1968\",\"1969\",\"1970\",\"1971\",\"1972\",\"1973\",\"1974\",\"1975\",\"1976\",\"1977\",\"1978\",\"1979\",\"1980\",\"1981\",\"1982\",\"1983\",\"1984\",\"1985\"],\"Station\":[\"Schl\\u00fcchtern-Kloster-Gomfritz\",\"Schl\\u00fcchtern-Kloster-Gomfritz\",\"Schl\\u00fcchtern-Kloster-Gomfritz\",\"Schl\\u00fcchtern-Kloster-Gomfritz\",\"Schl\\u00fcchtern-Kloster-Gomfritz\",\"Schl\\u00fcchtern-Kloster-Gomfritz\",\"Schl\\u00fcchtern-Kloster-Gomfritz\",\"Schl\\u00fcchtern-Kloster-Gomfritz\",\"Schl\\u00fcchtern-Kloster-Gomfritz\",\"Schl\\u00fcchtern-Kloster-Gomfritz\",\"Schl\\u00fcchtern-Kloster-Gomfritz\",\"Schl\\u00fcchtern-Kloster-Gomfritz\",\"Schl\\u00fcchtern-Kloster-Gomfritz\",\"Schl\\u00fcchtern-Kloster-Gomfritz\",\"Schl\\u00fcchtern-Kloster-Gomfritz\",\"Schl\\u00fcchtern-Kloster-Gomfritz\",\"Schl\\u00fcchtern-Kloster-Gomfritz\",\"Schl\\u00fcchtern-Kloster-Gomfritz\",\"Schl\\u00fcchtern-Kloster-Gomfritz\",\"Schl\\u00fcchtern-Kloster-Gomfritz\",\"Schl\\u00fcchtern-Kloster-Gomfritz\",\"Schl\\u00fcchtern-Kloster-Gomfritz\",\"Schl\\u00fcchtern-Kloster-Gomfritz\",\"Schl\\u00fcchtern-Kloster-Gomfritz\",\"Schl\\u00fcchtern-Kloster-Gomfritz\",\"Schl\\u00fcchtern-Kloster-Gomfritz\",\"Schl\\u00fcchtern-Kloster-Gomfritz\",\"Schl\\u00fcchtern-Kloster-Gomfritz\",\"Schl\\u00fcchtern-Kloster-Gomfritz\",\"Schl\\u00fcchtern-Kloster-Gomfritz\",\"Schl\\u00fcchtern-Kloster-Gomfritz\",\"Schl\\u00fcchtern-Kloster-Gomfritz\"],\"index\":[399,400,401,402,403,404,405,406,407,408,409,410,411,412,413,414,415,416,417,418,419,420,421,422,423,424,425,426,427,428,429,430],\"lufttemperatur\":[-1.573333333333334,-1.2555555555555562,-3.2263736263736233,0.8799999999999996,1.038888888888889,0.45999999999999985,-0.2956043956043956,0.34333333333333294,-1.2544444444444445,-6.390000000000001,-1.2846153846153845,0.3066666666666666,1.0300000000000002,0.6288888888888889,-1.442857142857143,-2.8533333333333326,-1.5788888888888886,0.6166666666666666,-0.47032967032967077,-0.7377777777777779,3.151111111111111,1.5011111111111117,-0.5538461538461539,1.2277777777777779,-0.4033333333333333,-1.398888888888887,-0.25054945054945077,-2.5922222222222215,-0.9844444444444447,0.05555555555555512,0.04065934065934066,-5.455932203389831]}},\"id\":\"a7e0f5a6-6e8f-4a56-b2d1-440708b468da\",\"type\":\"ColumnDataSource\"},{\"attributes\":{\"line_color\":{\"value\":\"#E7AD9D\"},\"line_width\":{\"value\":2},\"x\":{\"field\":\"Date\"},\"y\":{\"field\":\"lufttemperatur\"}},\"id\":\"ed051e41-6b35-4eb9-b98d-90aa6ced234a\",\"type\":\"Line\"},{\"attributes\":{\"line_color\":{\"value\":\"#E7AD9D\"},\"line_width\":{\"value\":2},\"x\":{\"field\":\"Date\"},\"y\":{\"field\":\"lufttemperatur\"}},\"id\":\"f47a800d-152a-48bf-a0b6-f79f468e8f6d\",\"type\":\"Line\"},{\"attributes\":{\"data_source\":{\"id\":\"3ba1d890-d61b-4afd-a5d6-b29ce93964ad\",\"type\":\"ColumnDataSource\"},\"glyph\":{\"id\":\"8ea27af0-1718-4f1f-a28e-1bcdfaf36117\",\"type\":\"Line\"},\"hover_glyph\":{\"id\":\"fc0a1d9a-37f6-43c0-aa69-b581bc2ac904\",\"type\":\"Line\"},\"nonselection_glyph\":{\"id\":\"cc6ba00e-1eb2-49c3-95c5-55885cefa00a\",\"type\":\"Line\"},\"selection_glyph\":null},\"id\":\"07a9a7a1-68a1-4d39-95dd-5aa3aec9c081\",\"type\":\"GlyphRenderer\"},{\"attributes\":{\"callback\":null,\"column_names\":[\"Station\",\"lufttemperatur\",\"index\",\"Date\",\"DateStr\"],\"data\":{\"Date\":[883612800000.0,915148800000.0,946684800000.0,978307200000.0,1009843200000.0,1041379200000.0,1072915200000.0,1104537600000.0,1136073600000.0,1167609600000.0,1199145600000.0,1230768000000.0,1262304000000.0,1293840000000.0,1325376000000.0,1356998400000.0,1388534400000.0,1420070400000.0],\"DateStr\":[\"1998\",\"1999\",\"2000\",\"2001\",\"2002\",\"2003\",\"2004\",\"2005\",\"2006\",\"2007\",\"2008\",\"2009\",\"2010\",\"2011\",\"2012\",\"2013\",\"2014\",\"2015\"],\"Station\":[\"Twistetal-M\\u00fchlhausen\",\"Twistetal-M\\u00fchlhausen\",\"Twistetal-M\\u00fchlhausen\",\"Twistetal-M\\u00fchlhausen\",\"Twistetal-M\\u00fchlhausen\",\"Twistetal-M\\u00fchlhausen\",\"Twistetal-M\\u00fchlhausen\",\"Twistetal-M\\u00fchlhausen\",\"Twistetal-M\\u00fchlhausen\",\"Twistetal-M\\u00fchlhausen\",\"Twistetal-M\\u00fchlhausen\",\"Twistetal-M\\u00fchlhausen\",\"Twistetal-M\\u00fchlhausen\",\"Twistetal-M\\u00fchlhausen\",\"Twistetal-M\\u00fchlhausen\",\"Twistetal-M\\u00fchlhausen\",\"Twistetal-M\\u00fchlhausen\",\"Twistetal-M\\u00fchlhausen\"],\"index\":[631,632,633,634,635,636,637,638,639,640,641,642,643,644,645,646,647,648],\"lufttemperatur\":[1.1903225806451612,1.9100000000000001,2.6769230769230776,0.8522222222222218,2.0811111111111114,-0.40111111111111075,0.9989010989010987,1.1233333333333335,0.43444444444444463,3.3666666666666663,2.5439560439560434,-0.627777777777778,-2.898888888888889,2.041111111111111,0.8197802197802198,0.8899999999999999,3.1300000000000012,3.092222222222221]}},\"id\":\"64eed796-48a1-4c70-bb94-e66fcd0c952e\",\"type\":\"ColumnDataSource\"},{\"attributes\":{\"callback\":null,\"column_names\":[\"Station\",\"lufttemperatur\",\"index\",\"Date\",\"DateStr\"],\"data\":{\"Date\":[-599616000000.0,-568080000000.0,-536457600000.0,-504921600000.0,-473385600000.0,-441849600000.0,-410227200000.0,-378691200000.0,-347155200000.0,-315619200000.0,-283996800000.0,-252460800000.0,-220924800000.0,-189388800000.0,-157766400000.0,-126230400000.0,-94694400000.0,-63158400000.0,-31536000000.0,0.0,31536000000.0,63072000000.0,94694400000.0,126230400000.0,157766400000.0,189302400000.0,220924800000.0,252460800000.0,283996800000.0,315532800000.0,347155200000.0,378691200000.0,410227200000.0,441763200000.0,473385600000.0,504921600000.0,536457600000.0,567993600000.0,599616000000.0],\"DateStr\":[\"1951\",\"1952\",\"1953\",\"1954\",\"1955\",\"1956\",\"1957\",\"1958\",\"1959\",\"1960\",\"1961\",\"1962\",\"1963\",\"1964\",\"1965\",\"1966\",\"1967\",\"1968\",\"1969\",\"1970\",\"1971\",\"1972\",\"1973\",\"1974\",\"1975\",\"1976\",\"1977\",\"1978\",\"1979\",\"1980\",\"1981\",\"1982\",\"1983\",\"1984\",\"1985\",\"1986\",\"1987\",\"1988\",\"1989\"],\"Station\":[\"Lorch/Rhein\",\"Lorch/Rhein\",\"Lorch/Rhein\",\"Lorch/Rhein\",\"Lorch/Rhein\",\"Lorch/Rhein\",\"Lorch/Rhein\",\"Lorch/Rhein\",\"Lorch/Rhein\",\"Lorch/Rhein\",\"Lorch/Rhein\",\"Lorch/Rhein\",\"Lorch/Rhein\",\"Lorch/Rhein\",\"Lorch/Rhein\",\"Lorch/Rhein\",\"Lorch/Rhein\",\"Lorch/Rhein\",\"Lorch/Rhein\",\"Lorch/Rhein\",\"Lorch/Rhein\",\"Lorch/Rhein\",\"Lorch/Rhein\",\"Lorch/Rhein\",\"Lorch/Rhein\",\"Lorch/Rhein\",\"Lorch/Rhein\",\"Lorch/Rhein\",\"Lorch/Rhein\",\"Lorch/Rhein\",\"Lorch/Rhein\",\"Lorch/Rhein\",\"Lorch/Rhein\",\"Lorch/Rhein\",\"Lorch/Rhein\",\"Lorch/Rhein\",\"Lorch/Rhein\",\"Lorch/Rhein\",\"Lorch/Rhein\"],\"index\":[31,32,33,34,35,36,37,38,39,40,41,42,43,44,45,46,47,48,49,50,51,52,53,54,55,56,57,58,59,60,61,62,63,64,65,66,67,68,69],\"lufttemperatur\":[3.7922222222222204,1.6241758241758244,2.0266666666666664,0.8822222222222222,1.2,-0.8769230769230775,2.5877777777777786,3.2411111111111097,2.3366666666666664,2.1846153846153853,2.344444444444446,1.1622222222222223,-4.389999999999998,1.2010989010989008,2.6922222222222225,3.240000000000001,2.99,1.1241758241758244,0.03666666666666646,0.8466666666666666,2.3633333333333337,1.4571428571428573,1.8400000000000005,5.623333333333334,3.4633333333333325,2.446153846153845,3.644444444444444,1.9000000000000006,1.0800000000000003,1.9978021978021976,0.3244444444444443,1.113333333333333,2.704444444444444,2.707692307692307,0.05444444444444459,0.9055555555555556,0.4644444444444451,4.974725274725274,4.028813559322034]}},\"id\":\"db6776e0-d1e1-4b92-a343-2c6d5d34b7e6\",\"type\":\"ColumnDataSource\"},{\"attributes\":{\"days\":[1,15]},\"id\":\"ba80c111-3eb7-4abf-8ca1-e89e7b9453dd\",\"type\":\"DaysTicker\"},{\"attributes\":{\"line_color\":{\"value\":\"#E7AD9D\"},\"line_width\":{\"value\":2},\"x\":{\"field\":\"Date\"},\"y\":{\"field\":\"lufttemperatur\"}},\"id\":\"287b9cb9-59c0-4291-83b8-06d8b9352b69\",\"type\":\"Line\"},{\"attributes\":{\"below\":[{\"id\":\"75b1dccf-dc98-454c-8c35-285271d01311\",\"type\":\"DatetimeAxis\"}],\"left\":[{\"id\":\"f99414d3-10ed-42b2-b2e1-4d7bc7c9666f\",\"type\":\"LinearAxis\"}],\"plot_height\":400,\"plot_width\":800,\"renderers\":[{\"id\":\"75b1dccf-dc98-454c-8c35-285271d01311\",\"type\":\"DatetimeAxis\"},{\"id\":\"70d470a7-359d-4b27-9c3e-c1767576929e\",\"type\":\"Grid\"},{\"id\":\"f99414d3-10ed-42b2-b2e1-4d7bc7c9666f\",\"type\":\"LinearAxis\"},{\"id\":\"d7dd347f-1820-4a13-98b7-9bc8ce9d60bc\",\"type\":\"Grid\"},{\"id\":\"4686a002-a681-4a03-9978-bc3ae185d958\",\"type\":\"BoxAnnotation\"},{\"id\":\"828a66f2-bcf2-4c77-b292-37fc3ddff251\",\"type\":\"GlyphRenderer\"},{\"id\":\"54ba24b7-c23f-4188-99b7-6c970867e59a\",\"type\":\"GlyphRenderer\"},{\"id\":\"4b9de97a-4060-4dc5-92e8-5401ffea4182\",\"type\":\"GlyphRenderer\"},{\"id\":\"4ad377ff-f7ae-429f-823c-cd41e7331e14\",\"type\":\"GlyphRenderer\"},{\"id\":\"016dc013-0fc8-49b5-9c05-1997a1f0d8dd\",\"type\":\"GlyphRenderer\"},{\"id\":\"96721a54-de45-4023-8b06-eba239e6a313\",\"type\":\"GlyphRenderer\"},{\"id\":\"adc85fc2-4933-44b6-8597-075420e8cfdb\",\"type\":\"GlyphRenderer\"},{\"id\":\"8a86ba54-65c6-47aa-bd38-c9c38f061947\",\"type\":\"GlyphRenderer\"},{\"id\":\"4591e9b4-f9a5-4dce-9c13-c6c512a57cb2\",\"type\":\"GlyphRenderer\"},{\"id\":\"75b436cf-dc1b-48b8-9e95-0a0ceff101d7\",\"type\":\"GlyphRenderer\"},{\"id\":\"f8a973a4-6592-4b46-b872-3f1141e39af9\",\"type\":\"GlyphRenderer\"},{\"id\":\"4cf81375-b57d-40ca-9f31-db6fe3f3afea\",\"type\":\"GlyphRenderer\"},{\"id\":\"263901b7-dc01-4c75-8653-2c01c2b32c1f\",\"type\":\"GlyphRenderer\"},{\"id\":\"dc21a70a-c008-4e5a-95e5-12a9a2ffd647\",\"type\":\"GlyphRenderer\"},{\"id\":\"965f15f3-868e-4bef-9f00-c2becc3bcb11\",\"type\":\"GlyphRenderer\"},{\"id\":\"82d6ac81-1eac-415d-939e-0a2db59eef45\",\"type\":\"GlyphRenderer\"},{\"id\":\"df98b927-18d5-45f2-810e-afa8c9cc4394\",\"type\":\"GlyphRenderer\"},{\"id\":\"07a9a7a1-68a1-4d39-95dd-5aa3aec9c081\",\"type\":\"GlyphRenderer\"},{\"id\":\"0dd405e6-2375-48ad-954f-51a7b0ba7e30\",\"type\":\"GlyphRenderer\"}],\"title\":{\"id\":\"658a3324-564c-4263-b3f9-2edbdd128e9b\",\"type\":\"Title\"},\"tool_events\":{\"id\":\"3cf68fae-e90f-4f16-bce5-75666012c56a\",\"type\":\"ToolEvents\"},\"toolbar\":{\"id\":\"14731b50-a538-4693-ad4a-38829219533d\",\"type\":\"Toolbar\"},\"x_range\":{\"id\":\"c047f42d-be14-4e98-9037-b116fe1ddb95\",\"type\":\"Range1d\"},\"y_range\":{\"id\":\"e1b12939-bb12-4e72-b51f-4584c5436fb1\",\"type\":\"DataRange1d\"}},\"id\":\"15d0248a-7906-4d6a-8632-b4d56c71ba2b\",\"subtype\":\"Figure\",\"type\":\"Plot\"},{\"attributes\":{\"line_alpha\":{\"value\":0.5},\"line_color\":{\"value\":\"#253845\"},\"line_width\":{\"value\":2},\"x\":{\"field\":\"Date\"},\"y\":{\"field\":\"lufttemperatur\"}},\"id\":\"988fe571-aa41-4d06-8df7-2ab4918334c9\",\"type\":\"Line\"},{\"attributes\":{\"callback\":null,\"column_names\":[\"Station\",\"lufttemperatur\",\"index\",\"Date\",\"DateStr\"],\"data\":{\"Date\":[788918400000.0,820454400000.0],\"DateStr\":[\"1995\",\"1996\"],\"Station\":[\"Hanau\",\"Hanau\"],\"index\":[752,753],\"lufttemperatur\":[0.7806451612903224,0.23333333333333334]}},\"id\":\"972d4dc0-9c93-4b2d-9963-8ab36a984bd5\",\"type\":\"ColumnDataSource\"},{\"attributes\":{\"line_alpha\":{\"value\":0.5},\"line_color\":{\"value\":\"#253845\"},\"line_width\":{\"value\":2},\"x\":{\"field\":\"Date\"},\"y\":{\"field\":\"lufttemperatur\"}},\"id\":\"d34e99be-608f-4050-b55d-c007f5a0bc54\",\"type\":\"Line\"},{\"attributes\":{\"line_alpha\":{\"value\":0.1},\"line_color\":{\"value\":\"#1f77b4\"},\"line_width\":{\"value\":2},\"x\":{\"field\":\"Date\"},\"y\":{\"field\":\"lufttemperatur\"}},\"id\":\"279e37e6-3644-4c72-84d1-3edd1bb843ba\",\"type\":\"Line\"},{\"attributes\":{\"active_drag\":\"auto\",\"active_scroll\":\"auto\",\"active_tap\":\"auto\",\"tools\":[{\"id\":\"a3d9e26e-7a34-4e52-b86c-9eae97408cea\",\"type\":\"PanTool\"},{\"id\":\"f94add55-d06b-4d29-9ffa-c2eb43f31f6f\",\"type\":\"WheelZoomTool\"},{\"id\":\"fcf8bfdf-0062-4c83-a7ba-b4f87984117f\",\"type\":\"BoxZoomTool\"},{\"id\":\"ae5eb846-8cd5-43c3-9756-af5b74b49100\",\"type\":\"SaveTool\"},{\"id\":\"00a5dbe3-6ca1-4eef-b9e8-3523af296b2e\",\"type\":\"ResetTool\"},{\"id\":\"2ec4b99d-d19a-4344-8560-2e5f987df6f9\",\"type\":\"HelpTool\"},{\"id\":\"6e9a9084-148e-446b-bd1b-f61b706bfadd\",\"type\":\"HoverTool\"}]},\"id\":\"14731b50-a538-4693-ad4a-38829219533d\",\"type\":\"Toolbar\"},{\"attributes\":{\"line_alpha\":{\"value\":0.5},\"line_color\":{\"value\":\"#253845\"},\"line_width\":{\"value\":2},\"x\":{\"field\":\"Date\"},\"y\":{\"field\":\"lufttemperatur\"}},\"id\":\"efff22f7-89c4-499b-bc4e-f8dfe6df8bb0\",\"type\":\"Line\"},{\"attributes\":{\"line_alpha\":{\"value\":0.5},\"line_color\":{\"value\":\"#253845\"},\"line_width\":{\"value\":2},\"x\":{\"field\":\"Date\"},\"y\":{\"field\":\"lufttemperatur\"}},\"id\":\"b806f183-12b2-4d5e-b67b-f32f360149ef\",\"type\":\"Line\"},{\"attributes\":{\"days\":[1,8,15,22]},\"id\":\"d9e65f4e-5bf7-41d6-a2e2-87aa6309af18\",\"type\":\"DaysTicker\"},{\"attributes\":{\"line_alpha\":{\"value\":0.1},\"line_color\":{\"value\":\"#1f77b4\"},\"line_width\":{\"value\":2},\"x\":{\"field\":\"Date\"},\"y\":{\"field\":\"lufttemperatur\"}},\"id\":\"16746ba5-4223-4beb-b1eb-c2f87ab92d8a\",\"type\":\"Line\"},{\"attributes\":{\"callback\":null,\"column_names\":[\"Station\",\"lufttemperatur\",\"index\",\"Date\",\"DateStr\"],\"data\":{\"Date\":[473385600000.0,504921600000.0,536457600000.0,567993600000.0,599616000000.0,631152000000.0,662688000000.0,694224000000.0,725846400000.0,757382400000.0,788918400000.0,820454400000.0,852076800000.0,883612800000.0,915148800000.0,946684800000.0,978307200000.0,1009843200000.0,1041379200000.0,1072915200000.0,1104537600000.0,1136073600000.0,1167609600000.0,1199145600000.0,1230768000000.0,1262304000000.0,1293840000000.0,1325376000000.0,1356998400000.0,1388534400000.0,1420070400000.0],\"DateStr\":[\"1985\",\"1986\",\"1987\",\"1988\",\"1989\",\"1990\",\"1991\",\"1992\",\"1993\",\"1994\",\"1995\",\"1996\",\"1997\",\"1998\",\"1999\",\"2000\",\"2001\",\"2002\",\"2003\",\"2004\",\"2005\",\"2006\",\"2007\",\"2008\",\"2009\",\"2010\",\"2011\",\"2012\",\"2013\",\"2014\",\"2015\"],\"Station\":[\"Frankfurt/Main-Westend\",\"Frankfurt/Main-Westend\",\"Frankfurt/Main-Westend\",\"Frankfurt/Main-Westend\",\"Frankfurt/Main-Westend\",\"Frankfurt/Main-Westend\",\"Frankfurt/Main-Westend\",\"Frankfurt/Main-Westend\",\"Frankfurt/Main-Westend\",\"Frankfurt/Main-Westend\",\"Frankfurt/Main-Westend\",\"Frankfurt/Main-Westend\",\"Frankfurt/Main-Westend\",\"Frankfurt/Main-Westend\",\"Frankfurt/Main-Westend\",\"Frankfurt/Main-Westend\",\"Frankfurt/Main-Westend\",\"Frankfurt/Main-Westend\",\"Frankfurt/Main-Westend\",\"Frankfurt/Main-Westend\",\"Frankfurt/Main-Westend\",\"Frankfurt/Main-Westend\",\"Frankfurt/Main-Westend\",\"Frankfurt/Main-Westend\",\"Frankfurt/Main-Westend\",\"Frankfurt/Main-Westend\",\"Frankfurt/Main-Westend\",\"Frankfurt/Main-Westend\",\"Frankfurt/Main-Westend\",\"Frankfurt/Main-Westend\",\"Frankfurt/Main-Westend\"],\"index\":[0,1,2,3,4,5,6,7,8,9,10,11,12,13,14,15,16,17,18,19,20,21,22,23,24,25,26,27,28,29,30],\"lufttemperatur\":[5.380645161290323,1.3522222222222218,0.6800000000000003,4.984615384615382,4.001111111111112,4.332222222222222,1.5577777777777773,3.1714285714285713,3.441111111111112,4.247777777777778,3.081111111111112,0.0626373626373626,2.7933333333333334,4.044444444444445,3.7011111111111115,4.4626373626373645,3.1122222222222238,4.0633333333333335,1.9244444444444446,2.9912087912087912,2.582222222222221,2.6133333333333337,5.263333333333334,4.195604395604395,1.2788888888888887,-0.3966666666666667,3.983333333333334,2.754945054945054,2.9377777777777783,5.1866666666666665,4.9255555555555555]}},\"id\":\"06ac4d66-c134-4d62-b79d-6002cf031ef9\",\"type\":\"ColumnDataSource\"},{\"attributes\":{\"data_source\":{\"id\":\"06ac4d66-c134-4d62-b79d-6002cf031ef9\",\"type\":\"ColumnDataSource\"},\"glyph\":{\"id\":\"bea47289-c9f8-4d11-b59f-cac0bee61982\",\"type\":\"Line\"},\"hover_glyph\":{\"id\":\"815ef43d-502a-44d5-ae55-e3557d5d4dd3\",\"type\":\"Line\"},\"nonselection_glyph\":{\"id\":\"e7ab851e-5fee-4452-88c6-09961da66c28\",\"type\":\"Line\"},\"selection_glyph\":null},\"id\":\"016dc013-0fc8-49b5-9c05-1997a1f0d8dd\",\"type\":\"GlyphRenderer\"},{\"attributes\":{\"line_alpha\":{\"value\":0.1},\"line_color\":{\"value\":\"#1f77b4\"},\"line_width\":{\"value\":2},\"x\":{\"field\":\"Date\"},\"y\":{\"field\":\"lufttemperatur\"}},\"id\":\"5c34c70b-396e-4c50-915c-4086f5539b35\",\"type\":\"Line\"},{\"attributes\":{\"line_color\":{\"value\":\"#E7AD9D\"},\"line_width\":{\"value\":2},\"x\":{\"field\":\"Date\"},\"y\":{\"field\":\"lufttemperatur\"}},\"id\":\"0c4bd575-f639-474a-b8c2-f11287ee2d30\",\"type\":\"Line\"},{\"attributes\":{\"data_source\":{\"id\":\"09181002-971b-4289-9742-04a176fdf3b7\",\"type\":\"ColumnDataSource\"},\"glyph\":{\"id\":\"a004a48b-891b-4214-96f2-e243edea92d2\",\"type\":\"Line\"},\"hover_glyph\":{\"id\":\"ed051e41-6b35-4eb9-b98d-90aa6ced234a\",\"type\":\"Line\"},\"nonselection_glyph\":{\"id\":\"e711f492-0599-41b9-8203-3781a76b2274\",\"type\":\"Line\"},\"selection_glyph\":null},\"id\":\"4b9de97a-4060-4dc5-92e8-5401ffea4182\",\"type\":\"GlyphRenderer\"},{\"attributes\":{\"line_alpha\":{\"value\":0.5},\"line_color\":{\"value\":\"#253845\"},\"line_width\":{\"value\":2},\"x\":{\"field\":\"Date\"},\"y\":{\"field\":\"lufttemperatur\"}},\"id\":\"95e91d67-51eb-4529-9d44-a256d907f304\",\"type\":\"Line\"},{\"attributes\":{},\"id\":\"3cf68fae-e90f-4f16-bce5-75666012c56a\",\"type\":\"ToolEvents\"},{\"attributes\":{\"line_alpha\":{\"value\":0.5},\"line_color\":{\"value\":\"#253845\"},\"line_width\":{\"value\":2},\"x\":{\"field\":\"Date\"},\"y\":{\"field\":\"lufttemperatur\"}},\"id\":\"e6685bb8-1031-4dc0-9f75-f1b2f43566e9\",\"type\":\"Line\"},{\"attributes\":{\"line_alpha\":{\"value\":0.1},\"line_color\":{\"value\":\"#1f77b4\"},\"line_width\":{\"value\":2},\"x\":{\"field\":\"Date\"},\"y\":{\"field\":\"lufttemperatur\"}},\"id\":\"bc7ccaab-4ab9-4bcf-a9ad-6658cc152b7c\",\"type\":\"Line\"},{\"attributes\":{\"line_color\":{\"value\":\"#E7AD9D\"},\"line_width\":{\"value\":2},\"x\":{\"field\":\"Date\"},\"y\":{\"field\":\"lufttemperatur\"}},\"id\":\"ba0a2854-95af-42bd-9e71-dd25eaea323f\",\"type\":\"Line\"},{\"attributes\":{\"line_alpha\":{\"value\":0.1},\"line_color\":{\"value\":\"#1f77b4\"},\"line_width\":{\"value\":2},\"x\":{\"field\":\"Date\"},\"y\":{\"field\":\"lufttemperatur\"}},\"id\":\"e7ab851e-5fee-4452-88c6-09961da66c28\",\"type\":\"Line\"},{\"attributes\":{\"line_alpha\":{\"value\":0.1},\"line_color\":{\"value\":\"#1f77b4\"},\"line_width\":{\"value\":2},\"x\":{\"field\":\"Date\"},\"y\":{\"field\":\"lufttemperatur\"}},\"id\":\"f093d4b4-4d17-4491-a52b-1e8225bef81a\",\"type\":\"Line\"},{\"attributes\":{\"callback\":null,\"column_names\":[\"Station\",\"lufttemperatur\",\"index\",\"Date\",\"DateStr\"],\"data\":{\"Date\":[-283996800000.0,-252460800000.0,-220924800000.0,-189388800000.0,-157766400000.0,-126230400000.0,-94694400000.0,-63158400000.0,-31536000000.0,0.0,31536000000.0,63072000000.0,94694400000.0,126230400000.0,157766400000.0,189302400000.0,220924800000.0,252460800000.0,283996800000.0,315532800000.0,347155200000.0,378691200000.0,410227200000.0,441763200000.0],\"DateStr\":[\"1961\",\"1962\",\"1963\",\"1964\",\"1965\",\"1966\",\"1967\",\"1968\",\"1969\",\"1970\",\"1971\",\"1972\",\"1973\",\"1974\",\"1975\",\"1976\",\"1977\",\"1978\",\"1979\",\"1980\",\"1981\",\"1982\",\"1983\",\"1984\"],\"Station\":[\"Frankfurt/Main(Stadt)\",\"Frankfurt/Main(Stadt)\",\"Frankfurt/Main(Stadt)\",\"Frankfurt/Main(Stadt)\",\"Frankfurt/Main(Stadt)\",\"Frankfurt/Main(Stadt)\",\"Frankfurt/Main(Stadt)\",\"Frankfurt/Main(Stadt)\",\"Frankfurt/Main(Stadt)\",\"Frankfurt/Main(Stadt)\",\"Frankfurt/Main(Stadt)\",\"Frankfurt/Main(Stadt)\",\"Frankfurt/Main(Stadt)\",\"Frankfurt/Main(Stadt)\",\"Frankfurt/Main(Stadt)\",\"Frankfurt/Main(Stadt)\",\"Frankfurt/Main(Stadt)\",\"Frankfurt/Main(Stadt)\",\"Frankfurt/Main(Stadt)\",\"Frankfurt/Main(Stadt)\",\"Frankfurt/Main(Stadt)\",\"Frankfurt/Main(Stadt)\",\"Frankfurt/Main(Stadt)\",\"Frankfurt/Main(Stadt)\"],\"index\":[728,729,730,731,732,733,734,735,736,737,738,739,740,741,742,743,744,745,746,747,748,749,750,751],\"lufttemperatur\":[1.4000000000000004,0.8500000000000002,-3.9577777777777765,0.8450549450549453,2.6366666666666667,3.132222222222221,2.834444444444443,0.9197802197802195,-0.27888888888888885,0.6355555555555554,2.535555555555556,1.438461538461539,1.1577777777777776,5.155555555555558,3.3255555555555545,1.632967032967033,3.238888888888889,1.5388888888888892,0.6511111111111111,1.753846153846155,-0.3444444444444444,0.6822222222222222,2.21,2.211666666666666]}},\"id\":\"d16e7b46-c744-42e3-aa3a-341598ecbc69\",\"type\":\"ColumnDataSource\"},{\"attributes\":{\"callback\":null,\"column_names\":[\"Station\",\"lufttemperatur\",\"index\",\"Date\",\"DateStr\"],\"data\":{\"Date\":[-978307200000.0,-946771200000.0,-915148800000.0,-883612800000.0,-852076800000.0,-820540800000.0,-788918400000.0,-757382400000.0,-725846400000.0,-694310400000.0,-662688000000.0,-631152000000.0,-599616000000.0,-568080000000.0,-536457600000.0,-504921600000.0,-473385600000.0,-441849600000.0,-410227200000.0,-378691200000.0,-347155200000.0,-315619200000.0,-283996800000.0,-252460800000.0,-220924800000.0,-189388800000.0,-157766400000.0,-126230400000.0,-94694400000.0,-63158400000.0,-31536000000.0,0.0,31536000000.0,63072000000.0,94694400000.0,126230400000.0,157766400000.0,189302400000.0,220924800000.0,252460800000.0,283996800000.0,315532800000.0,347155200000.0,378691200000.0,410227200000.0,441763200000.0,473385600000.0,504921600000.0,536457600000.0,567993600000.0,599616000000.0,631152000000.0,662688000000.0,694224000000.0,725846400000.0,757382400000.0,788918400000.0,820454400000.0,852076800000.0,883612800000.0,915148800000.0,946684800000.0,978307200000.0,1009843200000.0,1041379200000.0,1072915200000.0,1104537600000.0,1136073600000.0,1167609600000.0,1199145600000.0,1230768000000.0,1262304000000.0,1293840000000.0,1325376000000.0,1356998400000.0,1388534400000.0,1420070400000.0],\"DateStr\":[\"1939\",\"1940\",\"1941\",\"1942\",\"1943\",\"1944\",\"1945\",\"1946\",\"1947\",\"1948\",\"1949\",\"1950\",\"1951\",\"1952\",\"1953\",\"1954\",\"1955\",\"1956\",\"1957\",\"1958\",\"1959\",\"1960\",\"1961\",\"1962\",\"1963\",\"1964\",\"1965\",\"1966\",\"1967\",\"1968\",\"1969\",\"1970\",\"1971\",\"1972\",\"1973\",\"1974\",\"1975\",\"1976\",\"1977\",\"1978\",\"1979\",\"1980\",\"1981\",\"1982\",\"1983\",\"1984\",\"1985\",\"1986\",\"1987\",\"1988\",\"1989\",\"1990\",\"1991\",\"1992\",\"1993\",\"1994\",\"1995\",\"1996\",\"1997\",\"1998\",\"1999\",\"2000\",\"2001\",\"2002\",\"2003\",\"2004\",\"2005\",\"2006\",\"2007\",\"2008\",\"2009\",\"2010\",\"2011\",\"2012\",\"2013\",\"2014\",\"2015\"],\"Station\":[\"Gie\\u00dfen/Wettenberg\",\"Gie\\u00dfen/Wettenberg\",\"Gie\\u00dfen/Wettenberg\",\"Gie\\u00dfen/Wettenberg\",\"Gie\\u00dfen/Wettenberg\",\"Gie\\u00dfen/Wettenberg\",\"Gie\\u00dfen/Wettenberg\",\"Gie\\u00dfen/Wettenberg\",\"Gie\\u00dfen/Wettenberg\",\"Gie\\u00dfen/Wettenberg\",\"Gie\\u00dfen/Wettenberg\",\"Gie\\u00dfen/Wettenberg\",\"Gie\\u00dfen/Wettenberg\",\"Gie\\u00dfen/Wettenberg\",\"Gie\\u00dfen/Wettenberg\",\"Gie\\u00dfen/Wettenberg\",\"Gie\\u00dfen/Wettenberg\",\"Gie\\u00dfen/Wettenberg\",\"Gie\\u00dfen/Wettenberg\",\"Gie\\u00dfen/Wettenberg\",\"Gie\\u00dfen/Wettenberg\",\"Gie\\u00dfen/Wettenberg\",\"Gie\\u00dfen/Wettenberg\",\"Gie\\u00dfen/Wettenberg\",\"Gie\\u00dfen/Wettenberg\",\"Gie\\u00dfen/Wettenberg\",\"Gie\\u00dfen/Wettenberg\",\"Gie\\u00dfen/Wettenberg\",\"Gie\\u00dfen/Wettenberg\",\"Gie\\u00dfen/Wettenberg\",\"Gie\\u00dfen/Wettenberg\",\"Gie\\u00dfen/Wettenberg\",\"Gie\\u00dfen/Wettenberg\",\"Gie\\u00dfen/Wettenberg\",\"Gie\\u00dfen/Wettenberg\",\"Gie\\u00dfen/Wettenberg\",\"Gie\\u00dfen/Wettenberg\",\"Gie\\u00dfen/Wettenberg\",\"Gie\\u00dfen/Wettenberg\",\"Gie\\u00dfen/Wettenberg\",\"Gie\\u00dfen/Wettenberg\",\"Gie\\u00dfen/Wettenberg\",\"Gie\\u00dfen/Wettenberg\",\"Gie\\u00dfen/Wettenberg\",\"Gie\\u00dfen/Wettenberg\",\"Gie\\u00dfen/Wettenberg\",\"Gie\\u00dfen/Wettenberg\",\"Gie\\u00dfen/Wettenberg\",\"Gie\\u00dfen/Wettenberg\",\"Gie\\u00dfen/Wettenberg\",\"Gie\\u00dfen/Wettenberg\",\"Gie\\u00dfen/Wettenberg\",\"Gie\\u00dfen/Wettenberg\",\"Gie\\u00dfen/Wettenberg\",\"Gie\\u00dfen/Wettenberg\",\"Gie\\u00dfen/Wettenberg\",\"Gie\\u00dfen/Wettenberg\",\"Gie\\u00dfen/Wettenberg\",\"Gie\\u00dfen/Wettenberg\",\"Gie\\u00dfen/Wettenberg\",\"Gie\\u00dfen/Wettenberg\",\"Gie\\u00dfen/Wettenberg\",\"Gie\\u00dfen/Wettenberg\",\"Gie\\u00dfen/Wettenberg\",\"Gie\\u00dfen/Wettenberg\",\"Gie\\u00dfen/Wettenberg\",\"Gie\\u00dfen/Wettenberg\",\"Gie\\u00dfen/Wettenberg\",\"Gie\\u00dfen/Wettenberg\",\"Gie\\u00dfen/Wettenberg\",\"Gie\\u00dfen/Wettenberg\",\"Gie\\u00dfen/Wettenberg\",\"Gie\\u00dfen/Wettenberg\",\"Gie\\u00dfen/Wettenberg\",\"Gie\\u00dfen/Wettenberg\",\"Gie\\u00dfen/Wettenberg\",\"Gie\\u00dfen/Wettenberg\"],\"index\":[468,469,470,471,472,473,474,475,476,477,478,479,480,481,482,483,484,485,486,487,488,489,490,491,492,493,494,495,496,497,498,499,500,501,502,503,504,505,506,507,508,509,510,511,512,513,514,515,516,517,518,519,520,521,522,523,524,525,526,527,528,529,530,531,532,533,534,535,536,537,538,539,540,541,542,543,544],\"lufttemperatur\":[1.4333333333333327,-4.950549450549449,-0.4533333333333335,-3.3744444444444457,1.2322222222222219,\"NaN\",\"NaN\",\"NaN\",-2.4200000000000004,1.9472527472527466,2.072222222222222,0.3666666666666668,2.744444444444445,0.5406593406593407,1.277777777777778,-0.02222222222222204,0.059999999999999824,-1.3527472527472522,1.9477777777777778,2.4033333333333333,1.5255555555555553,1.297802197802198,1.7044444444444449,0.17333333333333265,-4.784444444444443,0.1263736263736267,1.798888888888889,2.1799999999999997,2.0411111111111118,-0.050549450549450606,-1.1488888888888888,-0.35333333333333355,1.6099999999999997,0.7318681318681322,0.8300000000000002,4.682222222222223,2.8777777777777773,1.0978021978021981,2.6366666666666676,0.9022222222222221,-0.17111111111111016,1.135164835164835,-1.008888888888889,0.25666666666666654,1.5855555555555558,1.7648351648351657,-0.9566666666666671,-0.19333333333333333,-0.6188888888888887,3.8901098901098887,3.083333333333334,3.517777777777778,0.23333333333333328,2.3274725274725268,2.255555555555555,3.1066666666666656,1.7977777777777773,-1.4505494505494505,1.5600000000000003,2.9,2.7788888888888894,3.25824175824176,1.9044444444444446,2.8588888888888886,0.6088888888888888,1.724175824175825,1.3466666666666667,0.8977777777777779,3.6522222222222216,2.719780219780218,-0.3888888888888888,-1.9833333333333334,2.5077777777777777,1.20989010989011,1.455555555555556,3.683333333333334,3.5044444444444447]}},\"id\":\"a480e4ad-12cb-4850-9791-7a23e7e9ca75\",\"type\":\"ColumnDataSource\"},{\"attributes\":{\"data_source\":{\"id\":\"f08f7c80-2e6b-46a8-992e-e9c69e55b435\",\"type\":\"ColumnDataSource\"},\"glyph\":{\"id\":\"26b62278-f920-43a2-8fd7-62232aa2be7c\",\"type\":\"Line\"},\"hover_glyph\":{\"id\":\"ba0a2854-95af-42bd-9e71-dd25eaea323f\",\"type\":\"Line\"},\"nonselection_glyph\":{\"id\":\"988698a7-60cd-4622-b425-1c33d1de3de5\",\"type\":\"Line\"},\"selection_glyph\":null},\"id\":\"965f15f3-868e-4bef-9f00-c2becc3bcb11\",\"type\":\"GlyphRenderer\"},{\"attributes\":{\"line_alpha\":{\"value\":0.1},\"line_color\":{\"value\":\"#1f77b4\"},\"line_width\":{\"value\":2},\"x\":{\"field\":\"Date\"},\"y\":{\"field\":\"lufttemperatur\"}},\"id\":\"1559eb0a-c909-45f2-8137-5f2282575279\",\"type\":\"Line\"},{\"attributes\":{\"data_source\":{\"id\":\"59e3a9b5-7c6a-410e-be28-5cf1256bb646\",\"type\":\"ColumnDataSource\"},\"glyph\":{\"id\":\"3ae70f23-7b09-42c2-b104-2608045c15b5\",\"type\":\"Line\"},\"hover_glyph\":{\"id\":\"2a6b7bed-e09e-4cd6-ae0e-61e14a37849e\",\"type\":\"Line\"},\"nonselection_glyph\":{\"id\":\"032ba9a1-e08d-4223-a6ae-8e597bad38d6\",\"type\":\"Line\"},\"selection_glyph\":null},\"id\":\"263901b7-dc01-4c75-8653-2c01c2b32c1f\",\"type\":\"GlyphRenderer\"},{\"attributes\":{\"line_alpha\":{\"value\":0.1},\"line_color\":{\"value\":\"#1f77b4\"},\"line_width\":{\"value\":2},\"x\":{\"field\":\"Date\"},\"y\":{\"field\":\"lufttemperatur\"}},\"id\":\"6af61f3d-4ba4-46cd-9524-62bb41c526fa\",\"type\":\"Line\"},{\"attributes\":{\"callback\":null,\"column_names\":[\"Station\",\"lufttemperatur\",\"index\",\"Date\",\"DateStr\"],\"data\":{\"Date\":[-662688000000.0,-631152000000.0,-599616000000.0,-568080000000.0,-536457600000.0,-504921600000.0,-473385600000.0,-441849600000.0,-410227200000.0,-378691200000.0,-347155200000.0,-315619200000.0,-283996800000.0,-252460800000.0,-220924800000.0,-189388800000.0,-157766400000.0,-126230400000.0,-94694400000.0,-63158400000.0,-31536000000.0,0.0,31536000000.0,63072000000.0,94694400000.0,126230400000.0,157766400000.0,189302400000.0,220924800000.0,252460800000.0,283996800000.0,315532800000.0,347155200000.0,378691200000.0,410227200000.0,441763200000.0,473385600000.0,504921600000.0,536457600000.0,567993600000.0,599616000000.0,631152000000.0,662688000000.0,694224000000.0,725846400000.0,757382400000.0,788918400000.0,820454400000.0,852076800000.0,883612800000.0,915148800000.0,946684800000.0,978307200000.0,1009843200000.0,1041379200000.0,1072915200000.0,1104537600000.0,1136073600000.0,1167609600000.0,1199145600000.0,1230768000000.0,1262304000000.0,1293840000000.0,1325376000000.0,1356998400000.0,1388534400000.0,1420070400000.0],\"DateStr\":[\"1949\",\"1950\",\"1951\",\"1952\",\"1953\",\"1954\",\"1955\",\"1956\",\"1957\",\"1958\",\"1959\",\"1960\",\"1961\",\"1962\",\"1963\",\"1964\",\"1965\",\"1966\",\"1967\",\"1968\",\"1969\",\"1970\",\"1971\",\"1972\",\"1973\",\"1974\",\"1975\",\"1976\",\"1977\",\"1978\",\"1979\",\"1980\",\"1981\",\"1982\",\"1983\",\"1984\",\"1985\",\"1986\",\"1987\",\"1988\",\"1989\",\"1990\",\"1991\",\"1992\",\"1993\",\"1994\",\"1995\",\"1996\",\"1997\",\"1998\",\"1999\",\"2000\",\"2001\",\"2002\",\"2003\",\"2004\",\"2005\",\"2006\",\"2007\",\"2008\",\"2009\",\"2010\",\"2011\",\"2012\",\"2013\",\"2014\",\"2015\"],\"Station\":[\"Schotten\",\"Schotten\",\"Schotten\",\"Schotten\",\"Schotten\",\"Schotten\",\"Schotten\",\"Schotten\",\"Schotten\",\"Schotten\",\"Schotten\",\"Schotten\",\"Schotten\",\"Schotten\",\"Schotten\",\"Schotten\",\"Schotten\",\"Schotten\",\"Schotten\",\"Schotten\",\"Schotten\",\"Schotten\",\"Schotten\",\"Schotten\",\"Schotten\",\"Schotten\",\"Schotten\",\"Schotten\",\"Schotten\",\"Schotten\",\"Schotten\",\"Schotten\",\"Schotten\",\"Schotten\",\"Schotten\",\"Schotten\",\"Schotten\",\"Schotten\",\"Schotten\",\"Schotten\",\"Schotten\",\"Schotten\",\"Schotten\",\"Schotten\",\"Schotten\",\"Schotten\",\"Schotten\",\"Schotten\",\"Schotten\",\"Schotten\",\"Schotten\",\"Schotten\",\"Schotten\",\"Schotten\",\"Schotten\",\"Schotten\",\"Schotten\",\"Schotten\",\"Schotten\",\"Schotten\",\"Schotten\",\"Schotten\",\"Schotten\",\"Schotten\",\"Schotten\",\"Schotten\",\"Schotten\"],\"index\":[332,333,334,335,336,337,338,339,340,341,342,343,344,345,346,347,348,349,350,351,352,353,354,355,356,357,358,359,360,361,362,363,364,365,366,367,368,369,370,371,372,373,374,375,376,377,378,379,380,381,382,383,384,385,386,387,388,389,390,391,392,393,394,395,396,397,398],\"lufttemperatur\":[1.6666666666666663,0.04555555555555571,2.0388888888888888,-0.4417582417582421,0.618888888888889,-0.8177777777777777,-0.3411111111111114,-1.9329670329670319,1.6300000000000001,1.5966666666666665,1.448888888888889,0.7725274725274727,1.4622222222222225,-0.5433333333333333,-4.540000000000002,-0.4747252747252749,0.6411111111111111,1.717777777777778,1.1822222222222223,-0.4571428571428573,-1.5322222222222224,-0.6922222222222219,1.52,1.175824175824176,0.2511111111111111,3.9533333333333336,2.3833333333333337,0.2703296703296701,2.186666666666667,0.45222222222222225,-0.3722222222222219,0.38241758241758234,-1.7600000000000005,0.07333333333333375,0.6966666666666662,0.876923076923077,-1.3211111111111105,-0.9011111111111112,-1.46,2.9824175824175816,2.3244444444444445,2.605555555555556,-0.15777777777777788,1.410989010989011,1.1544444444444444,2.317777777777778,0.9511111111111117,-1.6186813186813178,1.1444444444444444,2.133333333333334,1.4600000000000004,2.4901098901098906,1.2911111111111107,2.2788888888888903,0.20444444444444468,1.2450000000000003,-0.2355932203389831,0.34111111111111114,3.152222222222223,2.263736263736265,-0.5418918918918924,-1.9774999999999998,1.9488888888888887,0.4967032967032967,1.24,3.496666666666668,2.9844444444444447]}},\"id\":\"f08f7c80-2e6b-46a8-992e-e9c69e55b435\",\"type\":\"ColumnDataSource\"},{\"attributes\":{\"line_color\":{\"value\":\"#E7AD9D\"},\"line_width\":{\"value\":2},\"x\":{\"field\":\"Date\"},\"y\":{\"field\":\"lufttemperatur\"}},\"id\":\"815ef43d-502a-44d5-ae55-e3557d5d4dd3\",\"type\":\"Line\"},{\"attributes\":{\"months\":[0,4,8]},\"id\":\"625e5da6-a54c-42e8-ba6e-b69d0e226ea3\",\"type\":\"MonthsTicker\"},{\"attributes\":{\"line_alpha\":{\"value\":0.5},\"line_color\":{\"value\":\"#253845\"},\"line_width\":{\"value\":2},\"x\":{\"field\":\"Date\"},\"y\":{\"field\":\"lufttemperatur\"}},\"id\":\"f8ddc544-04b2-4785-bf05-1336a91ba02d\",\"type\":\"Line\"},{\"attributes\":{\"plot\":null,\"text\":\"Hessen lufttemperatur\"},\"id\":\"658a3324-564c-4263-b3f9-2edbdd128e9b\",\"type\":\"Title\"},{\"attributes\":{\"line_color\":{\"value\":\"#E7AD9D\"},\"line_width\":{\"value\":2},\"x\":{\"field\":\"Date\"},\"y\":{\"field\":\"lufttemperatur\"}},\"id\":\"2a6b7bed-e09e-4cd6-ae0e-61e14a37849e\",\"type\":\"Line\"},{\"attributes\":{\"line_alpha\":{\"value\":0.5},\"line_color\":{\"value\":\"#253845\"},\"line_width\":{\"value\":2},\"x\":{\"field\":\"Date\"},\"y\":{\"field\":\"lufttemperatur\"}},\"id\":\"a8d6e347-cf47-47a9-a22d-d947752d862f\",\"type\":\"Line\"},{\"attributes\":{\"data_source\":{\"id\":\"a7e0f5a6-6e8f-4a56-b2d1-440708b468da\",\"type\":\"ColumnDataSource\"},\"glyph\":{\"id\":\"efff22f7-89c4-499b-bc4e-f8dfe6df8bb0\",\"type\":\"Line\"},\"hover_glyph\":{\"id\":\"287b9cb9-59c0-4291-83b8-06d8b9352b69\",\"type\":\"Line\"},\"nonselection_glyph\":{\"id\":\"1559eb0a-c909-45f2-8137-5f2282575279\",\"type\":\"Line\"},\"selection_glyph\":null},\"id\":\"dc21a70a-c008-4e5a-95e5-12a9a2ffd647\",\"type\":\"GlyphRenderer\"},{\"attributes\":{\"callback\":null,\"column_names\":[\"Station\",\"lufttemperatur\",\"index\",\"Date\",\"DateStr\"],\"data\":{\"Date\":[-1073001600000.0,-1041379200000.0,-1009843200000.0,-978307200000.0,-946771200000.0,-915148800000.0,-883612800000.0,-852076800000.0,-820540800000.0,-788918400000.0,-757382400000.0,-725846400000.0,-694310400000.0,-662688000000.0,-631152000000.0,-599616000000.0,-568080000000.0,-536457600000.0,-504921600000.0,-473385600000.0,-441849600000.0,-410227200000.0,-378691200000.0,-347155200000.0,-315619200000.0,-283996800000.0,-252460800000.0,-220924800000.0,-189388800000.0,-157766400000.0,-126230400000.0,-94694400000.0,-63158400000.0,-31536000000.0,0.0,31536000000.0,63072000000.0],\"DateStr\":[\"1936\",\"1937\",\"1938\",\"1939\",\"1940\",\"1941\",\"1942\",\"1943\",\"1944\",\"1945\",\"1946\",\"1947\",\"1948\",\"1949\",\"1950\",\"1951\",\"1952\",\"1953\",\"1954\",\"1955\",\"1956\",\"1957\",\"1958\",\"1959\",\"1960\",\"1961\",\"1962\",\"1963\",\"1964\",\"1965\",\"1966\",\"1967\",\"1968\",\"1969\",\"1970\",\"1971\",\"1972\"],\"Station\":[\"Modautal-Neunkirchen\",\"Modautal-Neunkirchen\",\"Modautal-Neunkirchen\",\"Modautal-Neunkirchen\",\"Modautal-Neunkirchen\",\"Modautal-Neunkirchen\",\"Modautal-Neunkirchen\",\"Modautal-Neunkirchen\",\"Modautal-Neunkirchen\",\"Modautal-Neunkirchen\",\"Modautal-Neunkirchen\",\"Modautal-Neunkirchen\",\"Modautal-Neunkirchen\",\"Modautal-Neunkirchen\",\"Modautal-Neunkirchen\",\"Modautal-Neunkirchen\",\"Modautal-Neunkirchen\",\"Modautal-Neunkirchen\",\"Modautal-Neunkirchen\",\"Modautal-Neunkirchen\",\"Modautal-Neunkirchen\",\"Modautal-Neunkirchen\",\"Modautal-Neunkirchen\",\"Modautal-Neunkirchen\",\"Modautal-Neunkirchen\",\"Modautal-Neunkirchen\",\"Modautal-Neunkirchen\",\"Modautal-Neunkirchen\",\"Modautal-Neunkirchen\",\"Modautal-Neunkirchen\",\"Modautal-Neunkirchen\",\"Modautal-Neunkirchen\",\"Modautal-Neunkirchen\",\"Modautal-Neunkirchen\",\"Modautal-Neunkirchen\",\"Modautal-Neunkirchen\",\"Modautal-Neunkirchen\"],\"index\":[431,432,433,434,435,436,437,438,439,440,441,442,443,444,445,446,447,448,449,450,451,452,453,454,455,456,457,458,459,460,461,462,463,464,465,466,467],\"lufttemperatur\":[1.0193548387096774,0.6411111111111109,-0.6633333333333333,\"NaN\",\"NaN\",\"NaN\",\"NaN\",\"NaN\",\"NaN\",\"NaN\",\"NaN\",-2.95,1.6208791208791207,1.5311111111111109,-0.4766666666666665,1.9700000000000009,-1.312087912087912,0.03777777777777794,-1.5333333333333337,-0.4188888888888887,-2.7329670329670313,1.3722222222222225,1.287777777777778,1.3599999999999999,0.3758241758241756,1.3888888888888893,-0.9055555555555556,-5.517777777777779,-0.7560439560439557,0.055555555555555795,1.413333333333333,0.7177777777777773,-1.1582417582417581,-2.0877777777777777,-0.9644444444444444,1.1377777777777776,0.4716666666666667]}},\"id\":\"d17796cd-ac3f-45a1-8ae1-dff14d5654ee\",\"type\":\"ColumnDataSource\"},{\"attributes\":{\"callback\":null,\"column_names\":[\"Station\",\"lufttemperatur\",\"index\",\"Date\",\"DateStr\"],\"data\":{\"Date\":[-662688000000.0,-631152000000.0,-599616000000.0,-568080000000.0,-536457600000.0,-504921600000.0,-473385600000.0,-441849600000.0,-410227200000.0,-378691200000.0,-347155200000.0,-315619200000.0,-283996800000.0,-252460800000.0,-220924800000.0,-189388800000.0,-157766400000.0,-126230400000.0,-94694400000.0,-63158400000.0,-31536000000.0,0.0,31536000000.0,63072000000.0,94694400000.0,126230400000.0,157766400000.0,189302400000.0,220924800000.0,252460800000.0,283996800000.0,315532800000.0,347155200000.0,378691200000.0,410227200000.0,441763200000.0,473385600000.0,504921600000.0,536457600000.0,567993600000.0,599616000000.0,631152000000.0,662688000000.0,694224000000.0,725846400000.0,757382400000.0,788918400000.0,820454400000.0,852076800000.0,883612800000.0,915148800000.0,946684800000.0,978307200000.0,1009843200000.0,1041379200000.0,1072915200000.0,1104537600000.0,1136073600000.0,1167609600000.0,1199145600000.0,1230768000000.0,1262304000000.0,1293840000000.0,1325376000000.0,1356998400000.0,1388534400000.0,1420070400000.0],\"DateStr\":[\"1949\",\"1950\",\"1951\",\"1952\",\"1953\",\"1954\",\"1955\",\"1956\",\"1957\",\"1958\",\"1959\",\"1960\",\"1961\",\"1962\",\"1963\",\"1964\",\"1965\",\"1966\",\"1967\",\"1968\",\"1969\",\"1970\",\"1971\",\"1972\",\"1973\",\"1974\",\"1975\",\"1976\",\"1977\",\"1978\",\"1979\",\"1980\",\"1981\",\"1982\",\"1983\",\"1984\",\"1985\",\"1986\",\"1987\",\"1988\",\"1989\",\"1990\",\"1991\",\"1992\",\"1993\",\"1994\",\"1995\",\"1996\",\"1997\",\"1998\",\"1999\",\"2000\",\"2001\",\"2002\",\"2003\",\"2004\",\"2005\",\"2006\",\"2007\",\"2008\",\"2009\",\"2010\",\"2011\",\"2012\",\"2013\",\"2014\",\"2015\"],\"Station\":[\"Gilserberg-Moischeid\",\"Gilserberg-Moischeid\",\"Gilserberg-Moischeid\",\"Gilserberg-Moischeid\",\"Gilserberg-Moischeid\",\"Gilserberg-Moischeid\",\"Gilserberg-Moischeid\",\"Gilserberg-Moischeid\",\"Gilserberg-Moischeid\",\"Gilserberg-Moischeid\",\"Gilserberg-Moischeid\",\"Gilserberg-Moischeid\",\"Gilserberg-Moischeid\",\"Gilserberg-Moischeid\",\"Gilserberg-Moischeid\",\"Gilserberg-Moischeid\",\"Gilserberg-Moischeid\",\"Gilserberg-Moischeid\",\"Gilserberg-Moischeid\",\"Gilserberg-Moischeid\",\"Gilserberg-Moischeid\",\"Gilserberg-Moischeid\",\"Gilserberg-Moischeid\",\"Gilserberg-Moischeid\",\"Gilserberg-Moischeid\",\"Gilserberg-Moischeid\",\"Gilserberg-Moischeid\",\"Gilserberg-Moischeid\",\"Gilserberg-Moischeid\",\"Gilserberg-Moischeid\",\"Gilserberg-Moischeid\",\"Gilserberg-Moischeid\",\"Gilserberg-Moischeid\",\"Gilserberg-Moischeid\",\"Gilserberg-Moischeid\",\"Gilserberg-Moischeid\",\"Gilserberg-Moischeid\",\"Gilserberg-Moischeid\",\"Gilserberg-Moischeid\",\"Gilserberg-Moischeid\",\"Gilserberg-Moischeid\",\"Gilserberg-Moischeid\",\"Gilserberg-Moischeid\",\"Gilserberg-Moischeid\",\"Gilserberg-Moischeid\",\"Gilserberg-Moischeid\",\"Gilserberg-Moischeid\",\"Gilserberg-Moischeid\",\"Gilserberg-Moischeid\",\"Gilserberg-Moischeid\",\"Gilserberg-Moischeid\",\"Gilserberg-Moischeid\",\"Gilserberg-Moischeid\",\"Gilserberg-Moischeid\",\"Gilserberg-Moischeid\",\"Gilserberg-Moischeid\",\"Gilserberg-Moischeid\",\"Gilserberg-Moischeid\",\"Gilserberg-Moischeid\",\"Gilserberg-Moischeid\",\"Gilserberg-Moischeid\",\"Gilserberg-Moischeid\",\"Gilserberg-Moischeid\",\"Gilserberg-Moischeid\",\"Gilserberg-Moischeid\",\"Gilserberg-Moischeid\",\"Gilserberg-Moischeid\"],\"index\":[70,71,72,73,74,75,76,77,78,79,80,81,82,83,84,85,86,87,88,89,90,91,92,93,94,95,96,97,98,99,100,101,102,103,104,105,106,107,108,109,110,111,112,113,114,115,116,117,118,119,120,121,122,123,124,125,126,127,128,129,130,131,132,133,134,135,136],\"lufttemperatur\":[1.8044444444444445,\"NaN\",1.5533333333333328,-0.9021978021978021,0.24666666666666665,-1.366666666666667,-1.533333333333333,-2.969230769230769,0.6666666666666666,0.9322222222222222,0.13666666666666655,-0.0450549450549448,0.22111111111111129,-1.162222222222222,-6.435555555555554,-1.2681318681318685,0.3033333333333333,0.582222222222222,0.8844444444444444,-1.4615384615384612,-2.5122222222222224,-1.7199999999999995,0.7666666666666672,-0.39230769230769236,-0.4711111111111111,3.3655555555555567,1.934444444444445,-0.19890109890109908,1.3955555555555557,-0.4877777777777776,-1.5777777777777784,-0.36043956043956094,-2.5711111111111116,-0.8566666666666666,0.1277777777777783,0.3978021978021978,-2.1800000000000006,-1.8711111111111103,-2.288888888888889,2.4,1.8288888888888892,2.2488888888888896,-1.147777777777778,1.0472527472527469,0.7933333333333332,1.6033333333333337,0.21111111111111092,-3.2175824175824177,0.4977777777777776,1.782222222222222,1.4655555555555557,2.0428571428571414,0.608888888888889,1.71,-0.5533333333333335,-0.9870967741935482,0.02666666666666687,-0.20333333333333298,2.571590909090909,1.6131868131868121,-1.5388888888888892,-3.2411111111111115,1.418888888888889,0.052747252747252484,0.45111111111111113,2.6038961038961035,3.6160714285714284]}},\"id\":\"c243c0a6-e22d-4dcc-b65a-8235b3d947be\",\"type\":\"ColumnDataSource\"},{\"attributes\":{\"line_alpha\":{\"value\":0.1},\"line_color\":{\"value\":\"#1f77b4\"},\"line_width\":{\"value\":2},\"x\":{\"field\":\"Date\"},\"y\":{\"field\":\"lufttemperatur\"}},\"id\":\"e3ee3c96-d27b-408e-8834-d00102afd5b0\",\"type\":\"Line\"},{\"attributes\":{},\"id\":\"a0ffb99c-68c8-4ed7-96c2-48ccb55132f5\",\"type\":\"YearsTicker\"},{\"attributes\":{\"days\":[1,4,7,10,13,16,19,22,25,28]},\"id\":\"11f6030e-7b05-4c7e-8e6d-90f64df68297\",\"type\":\"DaysTicker\"},{\"attributes\":{\"data_source\":{\"id\":\"c243c0a6-e22d-4dcc-b65a-8235b3d947be\",\"type\":\"ColumnDataSource\"},\"glyph\":{\"id\":\"69338236-690a-4294-a8ef-6959b0fbd3fe\",\"type\":\"Line\"},\"hover_glyph\":{\"id\":\"356d39f3-7b71-4d7a-ba8b-3d0e8dbe6203\",\"type\":\"Line\"},\"nonselection_glyph\":{\"id\":\"5c34c70b-396e-4c50-915c-4086f5539b35\",\"type\":\"Line\"},\"selection_glyph\":null},\"id\":\"8a86ba54-65c6-47aa-bd38-c9c38f061947\",\"type\":\"GlyphRenderer\"},{\"attributes\":{\"months\":[0,2,4,6,8,10]},\"id\":\"3c12085a-1fa1-46cd-8906-6ec0c524a4c4\",\"type\":\"MonthsTicker\"},{\"attributes\":{\"line_alpha\":{\"value\":0.1},\"line_color\":{\"value\":\"#1f77b4\"},\"line_width\":{\"value\":2},\"x\":{\"field\":\"Date\"},\"y\":{\"field\":\"lufttemperatur\"}},\"id\":\"74f15687-cf0b-4884-a59a-feb80af91c86\",\"type\":\"Line\"},{\"attributes\":{\"line_color\":{\"value\":\"#E7AD9D\"},\"line_width\":{\"value\":2},\"x\":{\"field\":\"Date\"},\"y\":{\"field\":\"lufttemperatur\"}},\"id\":\"b27cec2b-933b-4f03-9c2f-ee00d37e809f\",\"type\":\"Line\"},{\"attributes\":{\"line_color\":{\"value\":\"#E7AD9D\"},\"line_width\":{\"value\":2},\"x\":{\"field\":\"Date\"},\"y\":{\"field\":\"lufttemperatur\"}},\"id\":\"bc4a8194-0e41-4438-a63f-a6f6580a3375\",\"type\":\"Line\"},{\"attributes\":{\"data_source\":{\"id\":\"48292fa2-1b8b-49fe-a2f8-15a3e9bf8c7d\",\"type\":\"ColumnDataSource\"},\"glyph\":{\"id\":\"e6685bb8-1031-4dc0-9f75-f1b2f43566e9\",\"type\":\"Line\"},\"hover_glyph\":{\"id\":\"377a93b6-263f-4eaf-bf03-1fef6fdf77aa\",\"type\":\"Line\"},\"nonselection_glyph\":{\"id\":\"9cb4e918-c4f0-4fdb-bc72-ac2004e8f2ce\",\"type\":\"Line\"},\"selection_glyph\":null},\"id\":\"96721a54-de45-4023-8b06-eba239e6a313\",\"type\":\"GlyphRenderer\"},{\"attributes\":{\"data_source\":{\"id\":\"d16e7b46-c744-42e3-aa3a-341598ecbc69\",\"type\":\"ColumnDataSource\"},\"glyph\":{\"id\":\"f91a07b6-92e4-4bde-b708-3bd9140ffe35\",\"type\":\"Line\"},\"hover_glyph\":{\"id\":\"b27cec2b-933b-4f03-9c2f-ee00d37e809f\",\"type\":\"Line\"},\"nonselection_glyph\":{\"id\":\"58e0e050-223c-4b9b-8c91-e49d5e8cb8a7\",\"type\":\"Line\"},\"selection_glyph\":null},\"id\":\"4ad377ff-f7ae-429f-823c-cd41e7331e14\",\"type\":\"GlyphRenderer\"},{\"attributes\":{\"data_source\":{\"id\":\"a480e4ad-12cb-4850-9791-7a23e7e9ca75\",\"type\":\"ColumnDataSource\"},\"glyph\":{\"id\":\"988fe571-aa41-4d06-8df7-2ab4918334c9\",\"type\":\"Line\"},\"hover_glyph\":{\"id\":\"0c4bd575-f639-474a-b8c2-f11287ee2d30\",\"type\":\"Line\"},\"nonselection_glyph\":{\"id\":\"59caab6a-bcbe-4ccd-947d-8a2bf0d6616b\",\"type\":\"Line\"},\"selection_glyph\":null},\"id\":\"adc85fc2-4933-44b6-8597-075420e8cfdb\",\"type\":\"GlyphRenderer\"},{\"attributes\":{\"line_alpha\":{\"value\":0.5},\"line_color\":{\"value\":\"#253845\"},\"line_width\":{\"value\":2},\"x\":{\"field\":\"Date\"},\"y\":{\"field\":\"lufttemperatur\"}},\"id\":\"a004a48b-891b-4214-96f2-e243edea92d2\",\"type\":\"Line\"},{\"attributes\":{\"line_color\":{\"value\":\"#E7AD9D\"},\"line_width\":{\"value\":2},\"x\":{\"field\":\"Date\"},\"y\":{\"field\":\"lufttemperatur\"}},\"id\":\"356d39f3-7b71-4d7a-ba8b-3d0e8dbe6203\",\"type\":\"Line\"},{\"attributes\":{\"callback\":null,\"column_names\":[\"Station\",\"lufttemperatur\",\"index\",\"Date\",\"DateStr\"],\"data\":{\"Date\":[1104537600000.0,1136073600000.0,1167609600000.0,1199145600000.0,1230768000000.0,1262304000000.0,1293840000000.0,1325376000000.0,1356998400000.0,1388534400000.0,1420070400000.0],\"DateStr\":[\"2005\",\"2006\",\"2007\",\"2008\",\"2009\",\"2010\",\"2011\",\"2012\",\"2013\",\"2014\",\"2015\"],\"Station\":[\"Offenbach-Wetterpark\",\"Offenbach-Wetterpark\",\"Offenbach-Wetterpark\",\"Offenbach-Wetterpark\",\"Offenbach-Wetterpark\",\"Offenbach-Wetterpark\",\"Offenbach-Wetterpark\",\"Offenbach-Wetterpark\",\"Offenbach-Wetterpark\",\"Offenbach-Wetterpark\",\"Offenbach-Wetterpark\"],\"index\":[783,784,785,786,787,788,789,790,791,792,793],\"lufttemperatur\":[1.9677419354838706,1.7522222222222223,4.684444444444444,3.59230769230769,0.5011111111111115,-0.8666666666666665,3.4466666666666663,2.1164835164835165,2.374444444444444,4.557777777777779,4.196666666666666]}},\"id\":\"59e3a9b5-7c6a-410e-be28-5cf1256bb646\",\"type\":\"ColumnDataSource\"},{\"attributes\":{\"line_color\":{\"value\":\"#E7AD9D\"},\"line_width\":{\"value\":2},\"x\":{\"field\":\"Date\"},\"y\":{\"field\":\"lufttemperatur\"}},\"id\":\"377a93b6-263f-4eaf-bf03-1fef6fdf77aa\",\"type\":\"Line\"},{\"attributes\":{\"line_alpha\":{\"value\":0.1},\"line_color\":{\"value\":\"#1f77b4\"},\"line_width\":{\"value\":2},\"x\":{\"field\":\"Date\"},\"y\":{\"field\":\"lufttemperatur\"}},\"id\":\"cc6ba00e-1eb2-49c3-95c5-55885cefa00a\",\"type\":\"Line\"},{\"attributes\":{\"line_color\":{\"value\":\"#E7AD9D\"},\"line_width\":{\"value\":2},\"x\":{\"field\":\"Date\"},\"y\":{\"field\":\"lufttemperatur\"}},\"id\":\"06a204ce-013f-4900-93df-195146d9b518\",\"type\":\"Line\"},{\"attributes\":{\"overlay\":{\"id\":\"4686a002-a681-4a03-9978-bc3ae185d958\",\"type\":\"BoxAnnotation\"},\"plot\":{\"id\":\"15d0248a-7906-4d6a-8632-b4d56c71ba2b\",\"subtype\":\"Figure\",\"type\":\"Plot\"}},\"id\":\"fcf8bfdf-0062-4c83-a7ba-b4f87984117f\",\"type\":\"BoxZoomTool\"},{\"attributes\":{\"line_alpha\":{\"value\":0.5},\"line_color\":{\"value\":\"#253845\"},\"line_width\":{\"value\":2},\"x\":{\"field\":\"Date\"},\"y\":{\"field\":\"lufttemperatur\"}},\"id\":\"26b62278-f920-43a2-8fd7-62232aa2be7c\",\"type\":\"Line\"},{\"attributes\":{\"data_source\":{\"id\":\"36a93d81-b641-41e1-8f99-e342f7bb60f8\",\"type\":\"ColumnDataSource\"},\"glyph\":{\"id\":\"b806f183-12b2-4d5e-b67b-f32f360149ef\",\"type\":\"Line\"},\"hover_glyph\":{\"id\":\"06a204ce-013f-4900-93df-195146d9b518\",\"type\":\"Line\"},\"nonselection_glyph\":{\"id\":\"16746ba5-4223-4beb-b1eb-c2f87ab92d8a\",\"type\":\"Line\"},\"selection_glyph\":null},\"id\":\"828a66f2-bcf2-4c77-b292-37fc3ddff251\",\"type\":\"GlyphRenderer\"},{\"attributes\":{\"line_color\":{\"value\":\"#E7AD9D\"},\"line_width\":{\"value\":2},\"x\":{\"field\":\"Date\"},\"y\":{\"field\":\"lufttemperatur\"}},\"id\":\"fc0a1d9a-37f6-43c0-aa69-b581bc2ac904\",\"type\":\"Line\"}],\"root_ids\":[\"15d0248a-7906-4d6a-8632-b4d56c71ba2b\"]},\"title\":\"Bokeh Application\",\"version\":\"0.12.2\"}};\n",
       "            var render_items = [{\"docid\":\"029555aa-a7eb-4cda-8239-f944b4405882\",\"elementid\":\"d5c9c11a-c284-490b-802a-f170cbd6e458\",\"modelid\":\"15d0248a-7906-4d6a-8632-b4d56c71ba2b\"}];\n",
       "            \n",
       "            Bokeh.embed.embed_items(docs_json, render_items);\n",
       "        });\n",
       "      },\n",
       "      function(Bokeh) {\n",
       "      }\n",
       "    ];\n",
       "  \n",
       "    function run_inline_js() {\n",
       "      \n",
       "      if ((window.Bokeh !== undefined) || (force === \"1\")) {\n",
       "        for (var i = 0; i < inline_js.length; i++) {\n",
       "          inline_js[i](window.Bokeh);\n",
       "        }if (force === \"1\") {\n",
       "          display_loaded();\n",
       "        }} else if (Date.now() < window._bokeh_timeout) {\n",
       "        setTimeout(run_inline_js, 100);\n",
       "      } else if (!window._bokeh_failed_load) {\n",
       "        console.log(\"Bokeh: BokehJS failed to load within specified timeout.\");\n",
       "        window._bokeh_failed_load = true;\n",
       "      } else if (!force) {\n",
       "        var cell = $(\"#d5c9c11a-c284-490b-802a-f170cbd6e458\").parents('.cell').data().cell;\n",
       "        cell.output_area.append_execute_result(NB_LOAD_WARNING)\n",
       "      }\n",
       "  \n",
       "    }\n",
       "  \n",
       "    if (window._bokeh_is_loading === 0) {\n",
       "      console.log(\"Bokeh: BokehJS loaded, going straight to plotting\");\n",
       "      run_inline_js();\n",
       "    } else {\n",
       "      load_libs(js_urls, function() {\n",
       "        console.log(\"Bokeh: BokehJS plotting callback run at\", now());\n",
       "        run_inline_js();\n",
       "      });\n",
       "    }\n",
       "  }(this));\n",
       "</script>"
      ]
     },
     "metadata": {},
     "output_type": "display_data"
    },
    {
     "data": {
      "text/plain": [
       "bokeh.plotting.figure.Figure"
      ]
     },
     "execution_count": 9,
     "metadata": {},
     "output_type": "execute_result"
    }
   ],
   "source": [
    "p = plot_timeseries_by_bundesland('Hessen','lufttemperatur',Nstations=20,debug=False)\n",
    "show(p)\n",
    "type(p)"
   ]
  },
  {
   "cell_type": "code",
   "execution_count": null,
   "metadata": {
    "collapsed": false
   },
   "outputs": [
    {
     "name": "stderr",
     "output_type": "stream",
     "text": [
      "INFO:bokeh.core.state:Session output file 'bundeslaender.html' already exists, will be overwritten.\n"
     ]
    },
    {
     "name": "stdout",
     "output_type": "stream",
     "text": [
      "Unable to find data for station Tölz,BAd\n",
      "Unable to find data for station Tölz,BAd\n",
      "Unable to find data for station Berlin-Alexanderplatz\n",
      "Unable to find data for station Berlin-Alexanderplatz\n"
     ]
    },
    {
     "name": "stderr",
     "output_type": "stream",
     "text": [
      "/home/lneef/anaconda3/lib/python3.5/site-packages/IPython/core/interactiveshell.py:2881: DtypeWarning: Columns (0) have mixed types. Specify dtype option on import or set low_memory=False.\n",
      "  exec(code_obj, self.user_global_ns, self.user_ns)\n",
      "/home/lneef/anaconda3/lib/python3.5/site-packages/ipykernel/__main__.py:12: DtypeWarning: Columns (0) have mixed types. Specify dtype option on import or set low_memory=False.\n"
     ]
    },
    {
     "name": "stdout",
     "output_type": "stream",
     "text": [
      "Unable to find data for station Sachsa,BAd\n",
      "Unable to find data for station Sachsa,BAd\n",
      "Unable to find data for station Bonn-Hardthöhe\n",
      "Unable to find data for station Bonn-Hardthöhe\n"
     ]
    },
    {
     "name": "stderr",
     "output_type": "stream",
     "text": [
      "/home/lneef/anaconda3/lib/python3.5/site-packages/pandas/core/generic.py:4485: SettingWithCopyWarning: \n",
      "A value is trying to be set on a copy of a slice from a DataFrame\n",
      "\n",
      "See the caveats in the documentation: http://pandas.pydata.org/pandas-docs/stable/indexing.html#indexing-view-versus-copy\n",
      "  self._update_inplace(new_data)\n",
      "/home/lneef/anaconda3/lib/python3.5/site-packages/ipykernel/__main__.py:24: SettingWithCopyWarning: \n",
      "A value is trying to be set on a copy of a slice from a DataFrame\n",
      "\n",
      "See the caveats in the documentation: http://pandas.pydata.org/pandas-docs/stable/indexing.html#indexing-view-versus-copy\n",
      "/home/lneef/anaconda3/lib/python3.5/site-packages/ipykernel/__main__.py:27: SettingWithCopyWarning: \n",
      "A value is trying to be set on a copy of a slice from a DataFrame\n",
      "\n",
      "See the caveats in the documentation: http://pandas.pydata.org/pandas-docs/stable/indexing.html#indexing-view-versus-copy\n"
     ]
    },
    {
     "name": "stdout",
     "output_type": "stream",
     "text": [
      "Unable to find data for station Neuhausen/Erzgeb.-Rauschenbach(Talsp.)\n",
      "Unable to find data for station Neuhausen/Erzgeb.-Rauschenbach(Talsp.)\n",
      "Unable to find data for station Ingolstadt(Flussmeisterstelle)\n",
      "Unable to find data for station Ingolstadt(Flussmeisterstelle)\n",
      "Unable to find data for station Berlin-Alexanderplatz\n",
      "Unable to find data for station Berlin-Alexanderplatz\n"
     ]
    },
    {
     "name": "stderr",
     "output_type": "stream",
     "text": [
      "/home/lneef/anaconda3/lib/python3.5/site-packages/ipykernel/__main__.py:17: DtypeWarning: Columns (0) have mixed types. Specify dtype option on import or set low_memory=False.\n"
     ]
    },
    {
     "name": "stdout",
     "output_type": "stream",
     "text": [
      "Unable to find data for station Willingen/Upland\n",
      "Unable to find data for station Willingen/Upland\n",
      "Unable to find data for station Reichshof-Eckenhagen\n",
      "Unable to find data for station Bonn-Hardthöhe\n",
      "Unable to find data for station Reichshof-Eckenhagen\n",
      "Unable to find data for station Bonn-Hardthöhe\n"
     ]
    }
   ],
   "source": [
    "# Now let's do a grid plot over all bundeslaender  \n",
    "output_file(\"bundeslaender.html\", title=\"Schneefall und Temperatur in Deutschen Bundeslaendern\")\n",
    "\n",
    "# list of bundeslaender \n",
    "S = read_station_metadata()\n",
    "Blist = list(S['Bundesland'].cat.categories)\n",
    "\n",
    "# now run each BL through the plotting function, once for snow and once for temp \n",
    "N=20\n",
    "for B in Blist:\n",
    "    try:\n",
    "        test = plot_timeseries_by_bundesland(B,'schneehoehe',Nstations=N)\n",
    "    except OSError:\n",
    "        print(B)\n",
    "        \n",
    "        \n",
    "plotlist1 = [plot_timeseries_by_bundesland(B,'schneehoehe',Nstations=N) for B in Blist]\n",
    "plotlist2 = [plot_timeseries_by_bundesland(B,'lufttemperatur',Nstations=N) for B in Blist]\n",
    "\n",
    "# grid plot configuration \n",
    "plot_options = dict(plot_width=400, plot_height=200\n",
    "                  # tools=\"pan,wheel_zoom,box_zoom,box_select\",\n",
    "                  )\n",
    "\n",
    "# put these two lists together such that the lists run vertically  \n",
    "plotarr = np.array([plotlist1,plotlist2]).transpose()\n",
    "PL = plotarr.tolist()\n",
    "\n",
    "# give them all the same x- andd y-ranges\n",
    "from bokeh.models import Range1d\n",
    "# snow depth \n",
    "for s in plotlist1:\n",
    "    s.y_range=Range1d(0,30)\n",
    "# temp \n",
    "for s in plotlist2:\n",
    "    s.y_range=Range1d(-6,8)\n",
    "\n",
    "# create a grid and throw the created plots onto it \n",
    "grid=gridplot(children=PL,\n",
    "        toolbar_location='right',\n",
    "             **plot_options)\n",
    "\n",
    "\n",
    "show(grid)"
   ]
  },
  {
   "cell_type": "code",
   "execution_count": null,
   "metadata": {
    "collapsed": false
   },
   "outputs": [
    {
     "name": "stdout",
     "output_type": "stream",
     "text": [
      "Baden-Württemberg\n",
      "Unable to find data for station Baiersbronn-Obertal\n",
      "Unable to find data for station Donaueschingen\n",
      "Unable to find data for station Eberbach(LUBW)\n",
      "Unable to find data for station Hinterzarten\n"
     ]
    },
    {
     "name": "stderr",
     "output_type": "stream",
     "text": [
      "/home/lneef/anaconda3/lib/python3.5/site-packages/ipykernel/__main__.py:22: DtypeWarning: Columns (0) have mixed types. Specify dtype option on import or set low_memory=False.\n"
     ]
    },
    {
     "name": "stdout",
     "output_type": "stream",
     "text": [
      "Unable to find data for station Lenzkirch-Ruhbühl\n",
      "Unable to find data for station Sankt-Blasien-Menzenschwand\n",
      "Unable to find data for station Titisee-Neustadt-Langenordnach\n",
      "Unable to find data for station Todtmoos\n",
      "Unable to find data for station Baiersbronn-Obertal\n",
      "Unable to find data for station Donaueschingen\n",
      "Unable to find data for station Eberbach(LUBW)\n",
      "Unable to find data for station Hinterzarten\n",
      "Unable to find data for station Lenzkirch-Ruhbühl\n",
      "Unable to find data for station Sankt-Blasien-Menzenschwand\n",
      "Unable to find data for station Titisee-Neustadt-Langenordnach\n",
      "Unable to find data for station Todtmoos\n",
      "Unable to find data for station Baiersbronn-Obertal\n",
      "Unable to find data for station Donaueschingen\n",
      "Unable to find data for station Eberbach(LUBW)\n",
      "Unable to find data for station Hinterzarten\n",
      "Unable to find data for station Lenzkirch-Ruhbühl\n",
      "Unable to find data for station Sankt-Blasien-Menzenschwand\n",
      "Unable to find data for station Titisee-Neustadt-Langenordnach\n",
      "Unable to find data for station Todtmoos\n",
      "Unable to find data for station Baiersbronn-Obertal\n",
      "Unable to find data for station Donaueschingen\n",
      "Unable to find data for station Eberbach(LUBW)\n",
      "Unable to find data for station Hinterzarten\n",
      "Unable to find data for station Lenzkirch-Ruhbühl\n",
      "Unable to find data for station Sankt-Blasien-Menzenschwand\n",
      "Unable to find data for station Titisee-Neustadt-Langenordnach\n",
      "Unable to find data for station Todtmoos\n",
      "Bayern\n",
      "Unable to find data for station Berchtesgaden-(KKst)\n",
      "Unable to find data for station Schlüsselfeld(Kläranlage)\n",
      "Unable to find data for station Ingolstadt(Flussmeisterstelle)\n"
     ]
    }
   ],
   "source": [
    "# The above plot is a lot to handle. Let's instead make individual plots for each bundesland\n",
    "from bokeh.plotting import reset_output\n",
    "\n",
    "# how many stations to show for each BL?\n",
    "N=None\n",
    "\n",
    "# list of bundeslaender \n",
    "S = read_station_metadata()\n",
    "Blist = list(S['Bundesland'].cat.categories)\n",
    "\n",
    "# list of variables to plot\n",
    "variable_list=['lufttemperatur','schneehoehe']\n",
    "\n",
    "for B in Blist:\n",
    "    reset_output()\n",
    "    print(B)\n",
    "\n",
    "    # Now let's do a grid plot over all bundeslaender  \n",
    "    output_file(\"single_row_\"+B+\".html\", title=\"Temperatur und Schneefall in \"+B)\n",
    "\n",
    "    # now run each BL through the plotting function, once for snow and once for temp \n",
    "    PL = [plot_timeseries_by_bundesland(B,variable,Nstations=N) for variable in variable_list]\n",
    "\n",
    "    # grid plot configuration \n",
    "    plot_options = dict(plot_width=800, plot_height=400,\n",
    "                       tools=\"pan,wheel_zoom,box_zoom,box_select\",\n",
    "                      )\n",
    "\n",
    "    grid = gridplot(PL, ncols=1,**plot_options)\n",
    "    save(grid)"
   ]
  },
  {
   "cell_type": "code",
   "execution_count": null,
   "metadata": {
    "collapsed": true
   },
   "outputs": [],
   "source": []
  }
 ],
 "metadata": {
  "anaconda-cloud": {},
  "kernelspec": {
   "display_name": "Python [default]",
   "language": "python",
   "name": "python3"
  },
  "language_info": {
   "codemirror_mode": {
    "name": "ipython",
    "version": 3
   },
   "file_extension": ".py",
   "mimetype": "text/x-python",
   "name": "python",
   "nbconvert_exporter": "python",
   "pygments_lexer": "ipython3",
   "version": "3.5.2"
  }
 },
 "nbformat": 4,
 "nbformat_minor": 0
}
